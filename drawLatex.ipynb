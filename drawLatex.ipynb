{
 "metadata": {
  "name": ""
 },
 "nbformat": 3,
 "nbformat_minor": 0,
 "worksheets": [
  {
   "cells": [
    {
     "cell_type": "code",
     "collapsed": false,
     "input": [
      "%pylab inline"
     ],
     "language": "python",
     "metadata": {},
     "outputs": [
      {
       "output_type": "stream",
       "stream": "stdout",
       "text": [
        "Populating the interactive namespace from numpy and matplotlib\n"
       ]
      }
     ],
     "prompt_number": 1
    },
    {
     "cell_type": "code",
     "collapsed": false,
     "input": [
      "strin = '\\draw (\\\\a*360/5 - 54: 5cm) node [circle, draw, fill = myyellow, align=center] (\\\\a) {\\scriptsize qubit \\\\a};'\n",
      "strin\n",
      "\n",
      "XX = matrix([[ 0.   ,  0.032,  0.948,  1.029,  0.217],\n",
      "        [ 0.   ,  0.   ,  2.342,  0.668,  0.029],\n",
      "        [ 0.   ,  0.   ,  0.   ,  1.305,  0.609],\n",
      "        [ 0.   ,  0.   ,  0.   ,  0.   ,  0.   ],\n",
      "        [ 0.   ,  0.   ,  0.   ,  0.   ,  0.   ]])\n",
      "\n",
      "ZZ = matrix([[ 0.   ,  0.307, -0.   , -0.006,  0.053],\n",
      "        [ 0.   ,  0.   , -0.   , -0.011, -2.574],\n",
      "        [ 0.   ,  0.   ,  0.   , -0.   , -0.   ],\n",
      "        [ 0.   ,  0.   ,  0.   ,  0.   ,  0.   ],\n",
      "        [ 0.   ,  0.   ,  0.   ,  0.   ,  0.   ]])\n",
      "\n",
      "\n",
      "\n",
      "k = 0\n",
      "for i in range(5):\n",
      "    for j in range(i):\n",
      "        \n",
      "        if XX[j,i] != 0.0:\n",
      "            xx = '('+str(i+1)+') to [bend left = 12] node[sloped, below] {\\scriptsize XX ='+str(XX[j,i])+'} (' + str(j+1) + ');'\n",
      "            print('\\draw[-]')\n",
      "            print(xx)\n",
      "        if ZZ[j,i] != 0.0:\n",
      "            yy = '('+str(i+1)+') to [bend right = 12] node[sloped, above] {\\scriptsize ZZ ='+str(ZZ[j,i])+'} (' + str(j+1) + ');'\n",
      "            print('\\draw[-]')\n",
      "            print(yy)\n",
      "\n",
      "        \n",
      "       \n",
      "        "
     ],
     "language": "python",
     "metadata": {},
     "outputs": [
      {
       "output_type": "stream",
       "stream": "stdout",
       "text": [
        "\\draw[-]\n",
        "(2) to [bend left = 12] node[sloped, below] {\\scriptsize XX =0.032} (1);\n",
        "\\draw[-]\n",
        "(2) to [bend right = 12] node[sloped, above] {\\scriptsize ZZ =0.307} (1);\n",
        "\\draw[-]\n",
        "(3) to [bend left = 12] node[sloped, below] {\\scriptsize XX =0.948} (1);\n",
        "\\draw[-]\n",
        "(3) to [bend left = 12] node[sloped, below] {\\scriptsize XX =2.342} (2);\n",
        "\\draw[-]\n",
        "(4) to [bend left = 12] node[sloped, below] {\\scriptsize XX =1.029} (1);\n",
        "\\draw[-]\n",
        "(4) to [bend right = 12] node[sloped, above] {\\scriptsize ZZ =-0.006} (1);\n",
        "\\draw[-]\n",
        "(4) to [bend left = 12] node[sloped, below] {\\scriptsize XX =0.668} (2);\n",
        "\\draw[-]\n",
        "(4) to [bend right = 12] node[sloped, above] {\\scriptsize ZZ =-0.011} (2);\n",
        "\\draw[-]\n",
        "(4) to [bend left = 12] node[sloped, below] {\\scriptsize XX =1.305} (3);\n",
        "\\draw[-]\n",
        "(5) to [bend left = 12] node[sloped, below] {\\scriptsize XX =0.217} (1);\n",
        "\\draw[-]\n",
        "(5) to [bend right = 12] node[sloped, above] {\\scriptsize ZZ =0.053} (1);\n",
        "\\draw[-]\n",
        "(5) to [bend left = 12] node[sloped, below] {\\scriptsize XX =0.029} (2);\n",
        "\\draw[-]\n",
        "(5) to [bend right = 12] node[sloped, above] {\\scriptsize ZZ =-2.574} (2);\n",
        "\\draw[-]\n",
        "(5) to [bend left = 12] node[sloped, below] {\\scriptsize XX =0.609} (3);\n"
       ]
      }
     ],
     "prompt_number": 10
    }
   ],
   "metadata": {}
  }
 ]
}