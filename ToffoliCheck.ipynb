{
 "cells": [
  {
   "cell_type": "code",
   "execution_count": 85,
   "metadata": {
    "collapsed": false
   },
   "outputs": [],
   "source": [
    "from qutip import *\n",
    "from numpy import *\n",
    "from scipy.linalg import expm\n",
    "\n",
    "class spins:\n",
    "    def __init__(self, N):\n",
    "        si = qeye(2)\n",
    "        sx = sigmax()\n",
    "        sy = sigmay()\n",
    "        sz = sigmaz()\n",
    "\n",
    "        self.xv = []\n",
    "        self.yv = []\n",
    "        self.zv = []\n",
    "\n",
    "        for n in range(N):\n",
    "            op_list = [si] * N\n",
    "\n",
    "            op_list[n] = sx\n",
    "            self.xv.append(tensor(op_list))\n",
    "\n",
    "            op_list[n] = sy\n",
    "            self.yv.append(tensor(op_list))\n",
    "\n",
    "            op_list[n] = sz\n",
    "            self.zv.append(tensor(op_list))\n",
    "    \n",
    "    def x(self,n):\n",
    "        return self.xv[n-1]/2.\n",
    "    def y(self,n):\n",
    "        return self.yv[n-1]/2.\n",
    "    def z(self,n):\n",
    "        return self.zv[n-1]/2.\n",
    "\n",
    "\n",
    "s = spins(4)\n",
    "\n",
    "\n",
    "H  = -8.952 * s.z(1)*s.z(2)\n",
    "\n",
    "H += -4.979 * s.z(1)*s.z(3)\n",
    "H += -4.979 * s.z(2)*s.z(3)\n",
    "\n",
    "H += -5.663 * s.z(1)*s.z(4)\n",
    "H += -5.663 * s.z(2)*s.z(4)\n",
    "\n",
    "H += -2.430 * s.z(1)\n",
    "H += -2.430 * s.z(2)\n",
    "H += -4.979 * s.z(3)\n",
    "H += -0.208 * s.z(4)\n",
    "\n",
    "H += -19.09 * s.x(3)\n",
    "H += -4.302 * s.x(4)\n",
    "\n",
    "H += 15.10 * s.x(3)*s.x(4)\n",
    "\n",
    "eta = 0.8239\n",
    "\n",
    "psi4 = cos(eta)*basis(2,0) + sin(eta)*basis(2,1)\n",
    "\n",
    "U = (-1j*H).expm()\n",
    "\n",
    "G= tensor(toffoli(),qeye(2))\n"
   ]
  },
  {
   "cell_type": "code",
   "execution_count": 87,
   "metadata": {
    "collapsed": false
   },
   "outputs": [
    {
     "data": {
      "text/plain": [
       "0.9996567631171528"
      ]
     },
     "execution_count": 87,
     "metadata": {},
     "output_type": "execute_result"
    }
   ],
   "source": [
    "psi = rand_ket(N = 8, dims = [[2,2,2], [1,1,1]])\n",
    "psitot = tensor(psi,psi4)\n",
    "\n",
    "fidelity(toffoli()*psi,ptrace(U*psitot,[0,1,2]))\n"
   ]
  },
  {
   "cell_type": "code",
   "execution_count": 102,
   "metadata": {
    "collapsed": false
   },
   "outputs": [
    {
     "data": {
      "text/plain": [
       "0.99926079142791313"
      ]
     },
     "execution_count": 102,
     "metadata": {},
     "output_type": "execute_result"
    }
   ],
   "source": [
    "dontCareStates = psi4\n",
    "dontCareIdentity = [qeye(2)]\n",
    "\n",
    "\n",
    "dCS = dontCareStates\n",
    "dCI = tensor(dontCareIdentity)\n",
    "\n",
    "G = toffoli()\n",
    "dimG = G.shape[0]\n",
    "\n",
    "from math import log\n",
    "\n",
    "CareStateDim = int(log(dimG,2))\n",
    "\n",
    "def getGate (G): #extract non zero elements of the gate and save them in s\n",
    "    \n",
    "    s = []\n",
    "\n",
    "    rows = G.shape[0]\n",
    "    colums = G.shape[1]\n",
    "    \n",
    "    for i in range(rows):\n",
    "        for j in range(colums):\n",
    "            if G[i][0][j] != 0 :\n",
    "                s.append([i,j])\n",
    "    return s\n",
    "\n",
    "def bin(a):  #binary representation of a number a: useful to write the computational basis \n",
    "    s=''                                          #inside the Fidelity\n",
    "    t={'0':'000','1':'001','2':'010','3':'011',\n",
    "       '4':'100','5':'101','6':'110','7':'111'}\n",
    "    for c in oct(a)[1:]:\n",
    "            s+=t[c]\n",
    "    return s\n",
    "\n",
    "def getBasis (a) : #get the basis states according to the binary of a: 10 -> |10>\n",
    "    \n",
    "    if a == 0:\n",
    "          B = [basis(2,0)]*(CareStateDim)\n",
    "          return tensor(B)\n",
    "    \n",
    "    c = bin(a)\n",
    "    if dimG == 8:\n",
    "        return tensor(basis(2,int(c[0])) , basis(2,int(c[1])), basis(2,int(c[2])))\n",
    "    if dimG == 4:\n",
    "        return tensor(basis(2,int(c[1])) , basis(2,int(c[2])))\n",
    "\n",
    "    \n",
    "def Fidelity ():  #Fidelity function\n",
    "    \n",
    "    s = getGate(G)\n",
    "    Fid = 1./(dimG + 1)\n",
    "    Udag = U.dag()\n",
    "    \n",
    "  \n",
    "    for x in s :\n",
    "        for y in s:\n",
    "            \n",
    "            #definition of the basis kets and bras.             \n",
    "            bra_i = getBasis(x[0]).dag()\n",
    "            ket_j = getBasis(y[0])\n",
    "            ket_k = getBasis(x[1])\n",
    "            bra_l = getBasis(y[1]).dag()\n",
    "            \n",
    "            Epsilon = U*tensor(ket_k*bra_l, dCS*dCS.dag())*Udag\n",
    "            Eps_ijkl = bra_i*(Epsilon.ptrace([0,1,2]))*ket_j\n",
    "            \n",
    "            Gstar_ik = G[x[0],x[1]].conjugate()\n",
    "            G_jl = G[y[0],y[1]]\n",
    "            \n",
    "            \n",
    "            fidStep = (1./(dimG*(dimG+1)))*Gstar_ik*Eps_ijkl*G_jl     \n",
    "            Fid += fidStep[0][0][0]\n",
    "            \n",
    "    return abs(Fid)\n",
    "\n",
    "Fidelity()"
   ]
  },
  {
   "cell_type": "code",
   "execution_count": null,
   "metadata": {
    "collapsed": true
   },
   "outputs": [],
   "source": []
  }
 ],
 "metadata": {
  "kernelspec": {
   "display_name": "Python 2",
   "language": "python",
   "name": "python2"
  },
  "language_info": {
   "codemirror_mode": {
    "name": "ipython",
    "version": 2
   },
   "file_extension": ".py",
   "mimetype": "text/x-python",
   "name": "python",
   "nbconvert_exporter": "python",
   "pygments_lexer": "ipython2",
   "version": "2.7.10"
  }
 },
 "nbformat": 4,
 "nbformat_minor": 0
}
