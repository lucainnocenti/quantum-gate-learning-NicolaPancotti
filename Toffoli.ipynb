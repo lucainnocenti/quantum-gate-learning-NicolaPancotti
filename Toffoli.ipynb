{
 "metadata": {
  "name": "",
  "signature": "sha256:19dbd13104dfb8d48d282bd20ea625371fa8a33f1974e6456842a05b5cfbdf80"
 },
 "nbformat": 3,
 "nbformat_minor": 0,
 "worksheets": [
  {
   "cells": [
    {
     "cell_type": "code",
     "collapsed": false,
     "input": [
      "%pylab inline"
     ],
     "language": "python",
     "metadata": {},
     "outputs": [
      {
       "output_type": "stream",
       "stream": "stdout",
       "text": [
        "Populating the interactive namespace from numpy and matplotlib\n"
       ]
      }
     ],
     "prompt_number": 1
    },
    {
     "cell_type": "code",
     "collapsed": false,
     "input": [
      "from qutip import *\n",
      "from scipy import *\n",
      "from numpy import *\n",
      "from scipy.optimize import minimize\n",
      "import random\n",
      "from math import log\n",
      "\n",
      "from IPython.display import display\n",
      "\n",
      "from sympy.interactive import printing\n",
      "printing.init_printing()\n",
      "\n",
      "from collections import defaultdict\n",
      "\n",
      "from __future__ import division\n",
      "\n",
      "from pygame import mixer\n",
      "mixer.init() #you must initialize the mixer\n",
      "\n",
      "from random import randrange\n",
      "from datetime import datetime\n",
      "\n",
      "from tempfile import TemporaryFile\n",
      "arglikelihood = TemporaryFile()\n",
      "argFid = TemporaryFile()"
     ],
     "language": "python",
     "metadata": {},
     "outputs": [],
     "prompt_number": 2
    },
    {
     "cell_type": "code",
     "collapsed": false,
     "input": [
      "j = complex(0,1)\n",
      "\n",
      "class PAULI (object) :\n",
      "    \n",
      "    name = ''\n",
      "    op = Qobj()\n",
      "    \n",
      "    def __init__(self, name, PauliMatrix) :\n",
      "        self.name = name\n",
      "        self.op = PauliMatrix\n",
      "    \n",
      "def make_pauli_matrix (name, PauliMatrix) :\n",
      "    Pmatrix = PAULI (name, PauliMatrix)\n",
      "    return Pmatrix\n",
      "\n",
      " \n",
      "sx = make_pauli_matrix('X', sigmax())\n",
      "sy = make_pauli_matrix('Y', sigmay())\n",
      "sz = make_pauli_matrix('Z', sigmaz())\n",
      "I = make_pauli_matrix('I', qeye(2))\n",
      "\n",
      "pauliMatr = [[sz,sz],[sx,sx],[I,sx],[sz,I]]\n",
      "\n",
      "\n",
      "######################################################\n",
      "#GATE and DIMENSION\n",
      "####################################################\n",
      "N = 5        # n of qubits\n",
      "\n",
      "G = toffoli()\n",
      "\n",
      "interactions = [[0,1],[0,2],[1,2],[0,3],[1,3],[2,3],[0,4],[2,4],[1,4]]\n",
      "\n",
      "#######################################################################\n",
      "#USEFUL DEFINITIONS\n",
      "#######################################################################\n",
      "\n",
      "dimG = G.shape[0]  \n",
      "CareStateDim = int(log(dimG,2))\n",
      "\n",
      "h = N-CareStateDim\n",
      "if h > 1 :\n",
      "    dontCareStates = [sin(0.847)*basis(2,1) + cos(0.847)*basis(2,0)]*(h)\n",
      "    dontCareIdentity = [qeye(2)]*(h)\n",
      "else :\n",
      "    dontCareStates = [sin(0.847)*basis(2,1) + cos(0.847)*basis(2,0)]\n",
      "    dontCareIdentity = [qeye(2)]\n",
      "\n",
      "\n",
      "dCS = tensor(dontCareStates)\n",
      "dCI = tensor(dontCareIdentity)\n",
      "\n",
      "###########################################################################\n",
      "#FUNCTIONS\n",
      "###########################################################################\n",
      "from pygame import mixer\n",
      "mixer.init() #you must initialize the mixer\n",
      "alert = mixer.Sound('small-bell-ringing-02.wav') \n",
      "\n",
      "def Likelihood(J, rho_0) : #Likelihood function\n",
      "    \n",
      "    Ak = G*rho_0\n",
      "    #A = tensor(Ak*Ak.dag(), dCI)\n",
      "    A = Ak*Ak.dag()\n",
      "    \n",
      "    rho = tensor(rho_0, dCS)\n",
      "    H = HamiltonianAB(J)\n",
      "    U = (-j*H).expm()\n",
      "    Btemp = U*rho\n",
      "    Bk = Btemp*Btemp.dag()\n",
      "    B = Bk.ptrace([0,1,2])\n",
      "    \n",
      "    out = (A*B).tr()\n",
      "\n",
      "    return abs(out)\n",
      "\n",
      "\n",
      "def HamiltonianAB(x) :\n",
      "    \n",
      "    i = 0\n",
      "    k = 0\n",
      "    H = 0\n",
      "    \n",
      "    for p in interactions :\n",
      "        \n",
      "        temp = 0\n",
      "        \n",
      "        for S in pauliMatr :\n",
      "        \n",
      "            OpChain = [qeye(2)]*N\n",
      "            OpChain[p[0]] = S[0].op\n",
      "            OpChain[p[1]] = S[1].op\n",
      "            \n",
      "            temp += x[k]*tensor(OpChain)\n",
      "            k += 1\n",
      "\n",
      "        H += temp \n",
      "        \n",
      "    \n",
      "    return H"
     ],
     "language": "python",
     "metadata": {},
     "outputs": [],
     "prompt_number": 3
    },
    {
     "cell_type": "code",
     "collapsed": false,
     "input": [
      "###########################################\n",
      "##Functions to implement the Fidelity\n",
      "###########################################\n",
      "\n",
      "def getGate (G): #extract non zero elements of the gate and save them in s\n",
      "    \n",
      "    s = []\n",
      "\n",
      "    rows = G.shape[0]\n",
      "    colums = G.shape[1]\n",
      "    \n",
      "    for i in range(rows):\n",
      "        for j in range(colums):\n",
      "            if G[i][0][j] != 0 :\n",
      "                s.append([i,j])\n",
      "    return s\n",
      "\n",
      "def get_bin(a):  #binary representation of a number a: useful to write the computational basis \n",
      "    \n",
      "    s = bin(a)[2:]\n",
      "    l = len(s)\n",
      "    if l < 4 :\n",
      "        r = '0'*(4-l)\n",
      "        s = r + s\n",
      "        \n",
      "    return s\n",
      "\n",
      "def getBasis (a) : #get the basis states according to the binary of a: 10 -> |10>\n",
      "    \n",
      "    if a == 0:\n",
      "          B = [basis(2,0)]*(CareStateDim)\n",
      "          return tensor(B)\n",
      "    \n",
      "    c = get_bin(a)\n",
      "    if dimG == 16:\n",
      "        return tensor(basis(2,int(c[0])) , basis(2,int(c[1])), basis(2,int(c[2])), basis(2,int(c[3])))\n",
      "    if dimG == 8:\n",
      "        return tensor(basis(2,int(c[0])) , basis(2,int(c[1])), basis(2,int(c[2])))\n",
      "    if dimG == 4:\n",
      "        return tensor(basis(2,int(c[1])) , basis(2,int(c[2])))\n",
      "    \n",
      "def Fidelity (J):  #Fidelity function\n",
      "    \n",
      "    s = getGate(G)\n",
      "    H = HamiltonianAB(J)\n",
      "    Fid = 1/(dimG + 1)\n",
      "    U = (-j*H).expm()\n",
      "    Udag = (j*H).expm()\n",
      "    \n",
      "    for x in s :\n",
      "        for y in s:\n",
      "            \n",
      "            #definition of the basis kets and bras.             \n",
      "            bra_i = getBasis(x[0]).dag()\n",
      "            ket_j = getBasis(y[0])\n",
      "            ket_k = getBasis(x[1])\n",
      "            bra_l = getBasis(y[1]).dag()\n",
      "            \n",
      "            Epsilon = U*tensor(ket_k*bra_l, dCS*dCS.dag())*Udag\n",
      "            Eps_ijkl = bra_i*(Epsilon.ptrace([0,1,2]))*ket_j\n",
      "            \n",
      "            Gstar_ik = G[x[0],x[1]].conjugate()\n",
      "            G_jl = G[y[0],y[1]]\n",
      "            \n",
      "            \n",
      "            fidStep = (1/(dimG*(dimG+1)))*Gstar_ik*Eps_ijkl*G_jl     \n",
      "            Fid += abs(fidStep[0][0][0])\n",
      "            \n",
      "    return -Fid\n"
     ],
     "language": "python",
     "metadata": {},
     "outputs": [],
     "prompt_number": 4
    },
    {
     "cell_type": "code",
     "collapsed": false,
     "input": [
      "########################\n",
      "#SGD\n",
      "######################\n",
      "\n",
      "step = 0.0008\n",
      "\n",
      "t = open('ToffoliOK', 'w+')\n",
      "startTime = datetime.now()\n",
      "Jopt = rand(len(interactions)*len(pauliMatr))\n",
      "\n",
      "'''\n",
      "Jopt = [-1.5891812232412459, 0.222201067110399, 2.9659134724454628, -0.61951776957560623, \n",
      "        0.61672394748136605, 2.9300251298898132, -2.8212390258083273, -0.87573248099454737, \n",
      "        0.40545591119003588, 0.30810380881645394, -0.20518203145596964, 2.1667996986171847, \n",
      "        0.012150621188495705, -0.78460485860462426, 0.48542689192214367, -0.2433259463869461, \n",
      "        -0.032646187693451088, 1.3827524967742615, -1.1725443013381454, 2.4916920168135519, \n",
      "        -0.00211546362361537, 0.56803067543107266, 0.15565154202542081, -0.95621213465733401, \n",
      "        -0.0081518495874134192, 0.70974885090792139, 0.27313441307128938, 1.3887347262985441, \n",
      "        -0.011186727441676907, 1.4691967774428702, 0.76662282735320775, 0.11736393526330254, \n",
      "        -0.041449262207567866, 0.10761097335491261, -0.051045946606989107, 3.2261405436903159]\n",
      "'''\n",
      "\n",
      "\n",
      "delta = 0.0001\n",
      "check = 0\n",
      "s = 0\n",
      "time = step\n",
      "\n",
      "for i in range(3):\n",
      "    \n",
      "    J = [x for x in Jopt]\n",
      "    \n",
      "    walk = step*500*i\n",
      "    \n",
      "    while True :\n",
      "        \n",
      "        walk += step\n",
      "        time += step\n",
      "        \n",
      "        rho_0 = rand_ket(N = 8, dims = [[2,2,2], [1,1,1]])\n",
      "        index = randrange(len(J))\n",
      "        \n",
      "        JdJ = [x for x in J]\n",
      "        JdJ[index] += delta\n",
      "        grad = (Likelihood(JdJ, rho_0) - Likelihood(J, rho_0))/delta\n",
      "        J[index] = J[index] + grad/sqrt(walk)\n",
      "        s = Likelihood(J, rho_0) \n",
      "        \n",
      "        \n",
      "        \n",
      "        t.write(str(time/step)+'    '+str(s)+'\\n')        \n",
      "        \n",
      "        \n",
      "        \n",
      "        if abs(s) > 0.99 :\n",
      "            check += 1    \n",
      "            if check == 20:\n",
      "                break\n",
      "         \n",
      "        if time/step % 100 < 1:\n",
      "            print(str(time/step)+ '   ' + str(s)+ '   ' + str(walk))\n",
      "            \n",
      "            \n",
      "        if time/step > 1600*(i+1) :\n",
      "            print('HIT')\n",
      "            break\n",
      "    \n",
      "    Jopt = J\n",
      "\n",
      "print(datetime.now()-startTime)\n",
      "print(Jopt)\n",
      "t.close()\n",
      "alert.play()"
     ],
     "language": "python",
     "metadata": {},
     "outputs": [
      {
       "ename": "KeyboardInterrupt",
       "evalue": "",
       "output_type": "pyerr",
       "traceback": [
        "\u001b[0;31m---------------------------------------------------------------------------\u001b[0m\n\u001b[0;31mKeyboardInterrupt\u001b[0m                         Traceback (most recent call last)",
        "\u001b[0;32m<ipython-input-5-7b46ca3ca8e5>\u001b[0m in \u001b[0;36m<module>\u001b[0;34m()\u001b[0m\n\u001b[1;32m     45\u001b[0m         \u001b[0mgrad\u001b[0m \u001b[0;34m=\u001b[0m \u001b[0;34m(\u001b[0m\u001b[0mLikelihood\u001b[0m\u001b[0;34m(\u001b[0m\u001b[0mJdJ\u001b[0m\u001b[0;34m,\u001b[0m \u001b[0mrho_0\u001b[0m\u001b[0;34m)\u001b[0m \u001b[0;34m-\u001b[0m \u001b[0mLikelihood\u001b[0m\u001b[0;34m(\u001b[0m\u001b[0mJ\u001b[0m\u001b[0;34m,\u001b[0m \u001b[0mrho_0\u001b[0m\u001b[0;34m)\u001b[0m\u001b[0;34m)\u001b[0m\u001b[0;34m/\u001b[0m\u001b[0mdelta\u001b[0m\u001b[0;34m\u001b[0m\u001b[0m\n\u001b[1;32m     46\u001b[0m         \u001b[0mJ\u001b[0m\u001b[0;34m[\u001b[0m\u001b[0mindex\u001b[0m\u001b[0;34m]\u001b[0m \u001b[0;34m=\u001b[0m \u001b[0mJ\u001b[0m\u001b[0;34m[\u001b[0m\u001b[0mindex\u001b[0m\u001b[0;34m]\u001b[0m \u001b[0;34m+\u001b[0m \u001b[0mgrad\u001b[0m\u001b[0;34m/\u001b[0m\u001b[0msqrt\u001b[0m\u001b[0;34m(\u001b[0m\u001b[0mwalk\u001b[0m\u001b[0;34m)\u001b[0m\u001b[0;34m\u001b[0m\u001b[0m\n\u001b[0;32m---> 47\u001b[0;31m         \u001b[0ms\u001b[0m \u001b[0;34m=\u001b[0m \u001b[0mLikelihood\u001b[0m\u001b[0;34m(\u001b[0m\u001b[0mJ\u001b[0m\u001b[0;34m,\u001b[0m \u001b[0mrho_0\u001b[0m\u001b[0;34m)\u001b[0m\u001b[0;34m\u001b[0m\u001b[0m\n\u001b[0m\u001b[1;32m     48\u001b[0m \u001b[0;34m\u001b[0m\u001b[0m\n\u001b[1;32m     49\u001b[0m \u001b[0;34m\u001b[0m\u001b[0m\n",
        "\u001b[0;32m<ipython-input-3-16f6d26d83d0>\u001b[0m in \u001b[0;36mLikelihood\u001b[0;34m(J, rho_0)\u001b[0m\n\u001b[1;32m     66\u001b[0m     \u001b[0mrho\u001b[0m \u001b[0;34m=\u001b[0m \u001b[0mtensor\u001b[0m\u001b[0;34m(\u001b[0m\u001b[0mrho_0\u001b[0m\u001b[0;34m,\u001b[0m \u001b[0mdCS\u001b[0m\u001b[0;34m)\u001b[0m\u001b[0;34m\u001b[0m\u001b[0m\n\u001b[1;32m     67\u001b[0m     \u001b[0mH\u001b[0m \u001b[0;34m=\u001b[0m \u001b[0mHamiltonianAB\u001b[0m\u001b[0;34m(\u001b[0m\u001b[0mJ\u001b[0m\u001b[0;34m)\u001b[0m\u001b[0;34m\u001b[0m\u001b[0m\n\u001b[0;32m---> 68\u001b[0;31m     \u001b[0mU\u001b[0m \u001b[0;34m=\u001b[0m \u001b[0;34m(\u001b[0m\u001b[0;34m-\u001b[0m\u001b[0mj\u001b[0m\u001b[0;34m*\u001b[0m\u001b[0mH\u001b[0m\u001b[0;34m)\u001b[0m\u001b[0;34m.\u001b[0m\u001b[0mexpm\u001b[0m\u001b[0;34m(\u001b[0m\u001b[0;34m)\u001b[0m\u001b[0;34m\u001b[0m\u001b[0m\n\u001b[0m\u001b[1;32m     69\u001b[0m     \u001b[0mBtemp\u001b[0m \u001b[0;34m=\u001b[0m \u001b[0mU\u001b[0m\u001b[0;34m*\u001b[0m\u001b[0mrho\u001b[0m\u001b[0;34m\u001b[0m\u001b[0m\n\u001b[1;32m     70\u001b[0m     \u001b[0mBk\u001b[0m \u001b[0;34m=\u001b[0m \u001b[0mBtemp\u001b[0m\u001b[0;34m*\u001b[0m\u001b[0mBtemp\u001b[0m\u001b[0;34m.\u001b[0m\u001b[0mdag\u001b[0m\u001b[0;34m(\u001b[0m\u001b[0;34m)\u001b[0m\u001b[0;34m\u001b[0m\u001b[0m\n",
        "\u001b[0;32m/usr/local/lib/python2.7/dist-packages/qutip/qobj.pyc\u001b[0m in \u001b[0;36mexpm\u001b[0;34m(self, method)\u001b[0m\n\u001b[1;32m    918\u001b[0m             \u001b[0;32mif\u001b[0m \u001b[0mN\u001b[0m \u001b[0;34m**\u001b[0m \u001b[0;36m2\u001b[0m \u001b[0;34m<\u001b[0m \u001b[0;36m100\u001b[0m \u001b[0;34m*\u001b[0m \u001b[0mn\u001b[0m\u001b[0;34m:\u001b[0m\u001b[0;34m\u001b[0m\u001b[0m\n\u001b[1;32m    919\u001b[0m                 \u001b[0;31m# large number of nonzero elements, revert to dense solver\u001b[0m\u001b[0;34m\u001b[0m\u001b[0;34m\u001b[0m\u001b[0m\n\u001b[0;32m--> 920\u001b[0;31m                 \u001b[0mF\u001b[0m \u001b[0;34m=\u001b[0m \u001b[0mla\u001b[0m\u001b[0;34m.\u001b[0m\u001b[0mexpm\u001b[0m\u001b[0;34m(\u001b[0m\u001b[0mself\u001b[0m\u001b[0;34m.\u001b[0m\u001b[0mfull\u001b[0m\u001b[0;34m(\u001b[0m\u001b[0;34m)\u001b[0m\u001b[0;34m)\u001b[0m\u001b[0;34m\u001b[0m\u001b[0m\n\u001b[0m\u001b[1;32m    921\u001b[0m             \u001b[0;32melif\u001b[0m \u001b[0mN\u001b[0m \u001b[0;34m>\u001b[0m \u001b[0;36m400\u001b[0m\u001b[0;34m:\u001b[0m\u001b[0;34m\u001b[0m\u001b[0m\n\u001b[1;32m    922\u001b[0m                 \u001b[0;31m# large system, and quite sparse -> qutips sparse method\u001b[0m\u001b[0;34m\u001b[0m\u001b[0;34m\u001b[0m\u001b[0m\n",
        "\u001b[0;32m/usr/lib/python2.7/dist-packages/scipy/linalg/matfuncs.pyc\u001b[0m in \u001b[0;36mexpm\u001b[0;34m(A, q)\u001b[0m\n\u001b[1;32m    103\u001b[0m         \u001b[0mwarnings\u001b[0m\u001b[0;34m.\u001b[0m\u001b[0mwarn\u001b[0m\u001b[0;34m(\u001b[0m\u001b[0;34m\"argument q=... in scipy.linalg.expm is deprecated.\"\u001b[0m\u001b[0;34m)\u001b[0m\u001b[0;34m\u001b[0m\u001b[0m\n\u001b[1;32m    104\u001b[0m     \u001b[0;32mimport\u001b[0m \u001b[0mscipy\u001b[0m\u001b[0;34m.\u001b[0m\u001b[0msparse\u001b[0m\u001b[0;34m.\u001b[0m\u001b[0mlinalg\u001b[0m\u001b[0;34m\u001b[0m\u001b[0m\n\u001b[0;32m--> 105\u001b[0;31m     \u001b[0;32mreturn\u001b[0m \u001b[0mscipy\u001b[0m\u001b[0;34m.\u001b[0m\u001b[0msparse\u001b[0m\u001b[0;34m.\u001b[0m\u001b[0mlinalg\u001b[0m\u001b[0;34m.\u001b[0m\u001b[0mexpm\u001b[0m\u001b[0;34m(\u001b[0m\u001b[0mA\u001b[0m\u001b[0;34m)\u001b[0m\u001b[0;34m\u001b[0m\u001b[0m\n\u001b[0m\u001b[1;32m    106\u001b[0m \u001b[0;34m\u001b[0m\u001b[0m\n\u001b[1;32m    107\u001b[0m \u001b[0;34m\u001b[0m\u001b[0m\n",
        "\u001b[0;32m/usr/lib/python2.7/dist-packages/scipy/sparse/linalg/matfuncs.pyc\u001b[0m in \u001b[0;36mexpm\u001b[0;34m(A)\u001b[0m\n\u001b[1;32m    318\u001b[0m     \u001b[0mA6\u001b[0m \u001b[0;34m=\u001b[0m \u001b[0mA2\u001b[0m\u001b[0;34m.\u001b[0m\u001b[0mdot\u001b[0m\u001b[0;34m(\u001b[0m\u001b[0mA4\u001b[0m\u001b[0;34m)\u001b[0m\u001b[0;34m\u001b[0m\u001b[0m\n\u001b[1;32m    319\u001b[0m     \u001b[0md6\u001b[0m \u001b[0;34m=\u001b[0m \u001b[0m_exact_1_norm\u001b[0m\u001b[0;34m(\u001b[0m\u001b[0mA6\u001b[0m\u001b[0;34m)\u001b[0m\u001b[0;34m**\u001b[0m\u001b[0;34m(\u001b[0m\u001b[0;36m1\u001b[0m\u001b[0;34m/\u001b[0m\u001b[0;36m6.\u001b[0m\u001b[0;34m)\u001b[0m\u001b[0;34m\u001b[0m\u001b[0m\n\u001b[0;32m--> 320\u001b[0;31m     \u001b[0md8\u001b[0m \u001b[0;34m=\u001b[0m \u001b[0m_onenormest_matrix_power\u001b[0m\u001b[0;34m(\u001b[0m\u001b[0mA4\u001b[0m\u001b[0;34m,\u001b[0m \u001b[0;36m2\u001b[0m\u001b[0;34m)\u001b[0m\u001b[0;34m**\u001b[0m\u001b[0;34m(\u001b[0m\u001b[0;36m1\u001b[0m\u001b[0;34m/\u001b[0m\u001b[0;36m8.\u001b[0m\u001b[0;34m)\u001b[0m\u001b[0;34m\u001b[0m\u001b[0m\n\u001b[0m\u001b[1;32m    321\u001b[0m     \u001b[0meta_3\u001b[0m \u001b[0;34m=\u001b[0m \u001b[0mmax\u001b[0m\u001b[0;34m(\u001b[0m\u001b[0md6\u001b[0m\u001b[0;34m,\u001b[0m \u001b[0md8\u001b[0m\u001b[0;34m)\u001b[0m\u001b[0;34m\u001b[0m\u001b[0m\n\u001b[1;32m    322\u001b[0m     \u001b[0;32mif\u001b[0m \u001b[0meta_3\u001b[0m \u001b[0;34m<\u001b[0m \u001b[0;36m9.504178996162932e-001\u001b[0m \u001b[0;32mand\u001b[0m \u001b[0m_ell\u001b[0m\u001b[0;34m(\u001b[0m\u001b[0mA\u001b[0m\u001b[0;34m,\u001b[0m \u001b[0;36m7\u001b[0m\u001b[0;34m)\u001b[0m \u001b[0;34m==\u001b[0m \u001b[0;36m0\u001b[0m\u001b[0;34m:\u001b[0m\u001b[0;34m\u001b[0m\u001b[0m\n",
        "\u001b[0;32m/usr/lib/python2.7/dist-packages/scipy/sparse/linalg/matfuncs.pyc\u001b[0m in \u001b[0;36m_onenormest_matrix_power\u001b[0;34m(A, p, t, itmax, compute_v, compute_w)\u001b[0m\n\u001b[1;32m    221\u001b[0m     \u001b[0;31m#XXX and remove its underscore,\u001b[0m\u001b[0;34m\u001b[0m\u001b[0;34m\u001b[0m\u001b[0m\n\u001b[1;32m    222\u001b[0m     \u001b[0;31m#XXX but wait until expm_action and expm_2009 go into scipy.\u001b[0m\u001b[0;34m\u001b[0m\u001b[0;34m\u001b[0m\u001b[0m\n\u001b[0;32m--> 223\u001b[0;31m     \u001b[0;32mreturn\u001b[0m \u001b[0mscipy\u001b[0m\u001b[0;34m.\u001b[0m\u001b[0msparse\u001b[0m\u001b[0;34m.\u001b[0m\u001b[0mlinalg\u001b[0m\u001b[0;34m.\u001b[0m\u001b[0monenormest\u001b[0m\u001b[0;34m(\u001b[0m\u001b[0mMatrixPowerOperator\u001b[0m\u001b[0;34m(\u001b[0m\u001b[0mA\u001b[0m\u001b[0;34m,\u001b[0m \u001b[0mp\u001b[0m\u001b[0;34m)\u001b[0m\u001b[0;34m)\u001b[0m\u001b[0;34m\u001b[0m\u001b[0m\n\u001b[0m\u001b[1;32m    224\u001b[0m \u001b[0;34m\u001b[0m\u001b[0m\n\u001b[1;32m    225\u001b[0m \u001b[0;34m\u001b[0m\u001b[0m\n",
        "\u001b[0;32m/usr/lib/python2.7/dist-packages/scipy/sparse/linalg/_onenormest.pyc\u001b[0m in \u001b[0;36monenormest\u001b[0;34m(A, t, itmax, compute_v, compute_w)\u001b[0m\n\u001b[1;32m     94\u001b[0m         \u001b[0mest\u001b[0m \u001b[0;34m=\u001b[0m \u001b[0mcol_abs_sums\u001b[0m\u001b[0;34m[\u001b[0m\u001b[0margmax_j\u001b[0m\u001b[0;34m]\u001b[0m\u001b[0;34m\u001b[0m\u001b[0m\n\u001b[1;32m     95\u001b[0m     \u001b[0;32melse\u001b[0m\u001b[0;34m:\u001b[0m\u001b[0;34m\u001b[0m\u001b[0m\n\u001b[0;32m---> 96\u001b[0;31m         \u001b[0mest\u001b[0m\u001b[0;34m,\u001b[0m \u001b[0mv\u001b[0m\u001b[0;34m,\u001b[0m \u001b[0mw\u001b[0m\u001b[0;34m,\u001b[0m \u001b[0mnmults\u001b[0m\u001b[0;34m,\u001b[0m \u001b[0mnresamples\u001b[0m \u001b[0;34m=\u001b[0m \u001b[0m_onenormest_core\u001b[0m\u001b[0;34m(\u001b[0m\u001b[0mA\u001b[0m\u001b[0;34m,\u001b[0m \u001b[0mA\u001b[0m\u001b[0;34m.\u001b[0m\u001b[0mT\u001b[0m\u001b[0;34m,\u001b[0m \u001b[0mt\u001b[0m\u001b[0;34m,\u001b[0m \u001b[0mitmax\u001b[0m\u001b[0;34m)\u001b[0m\u001b[0;34m\u001b[0m\u001b[0m\n\u001b[0m\u001b[1;32m     97\u001b[0m \u001b[0;34m\u001b[0m\u001b[0m\n\u001b[1;32m     98\u001b[0m     \u001b[0;31m# Report the norm estimate along with some certificates of the estimate.\u001b[0m\u001b[0;34m\u001b[0m\u001b[0;34m\u001b[0m\u001b[0m\n",
        "\u001b[0;32m/usr/lib/python2.7/dist-packages/scipy/sparse/linalg/_onenormest.pyc\u001b[0m in \u001b[0;36m_onenormest_core\u001b[0;34m(A, AT, t, itmax)\u001b[0m\n\u001b[1;32m    353\u001b[0m         \u001b[0mnmults\u001b[0m \u001b[0;34m+=\u001b[0m \u001b[0;36m1\u001b[0m\u001b[0;34m\u001b[0m\u001b[0m\n\u001b[1;32m    354\u001b[0m         \u001b[0mmags\u001b[0m \u001b[0;34m=\u001b[0m \u001b[0;34m[\u001b[0m\u001b[0mnorm_1d_1\u001b[0m\u001b[0;34m(\u001b[0m\u001b[0mY\u001b[0m\u001b[0;34m[\u001b[0m\u001b[0;34m:\u001b[0m\u001b[0;34m,\u001b[0m \u001b[0mj\u001b[0m\u001b[0;34m]\u001b[0m\u001b[0;34m)\u001b[0m \u001b[0;32mfor\u001b[0m \u001b[0mj\u001b[0m \u001b[0;32min\u001b[0m \u001b[0mrange\u001b[0m\u001b[0;34m(\u001b[0m\u001b[0mt\u001b[0m\u001b[0;34m)\u001b[0m\u001b[0;34m]\u001b[0m\u001b[0;34m\u001b[0m\u001b[0m\n\u001b[0;32m--> 355\u001b[0;31m         \u001b[0mest\u001b[0m \u001b[0;34m=\u001b[0m \u001b[0mnp\u001b[0m\u001b[0;34m.\u001b[0m\u001b[0mmax\u001b[0m\u001b[0;34m(\u001b[0m\u001b[0mmags\u001b[0m\u001b[0;34m)\u001b[0m\u001b[0;34m\u001b[0m\u001b[0m\n\u001b[0m\u001b[1;32m    356\u001b[0m         \u001b[0mbest_j\u001b[0m \u001b[0;34m=\u001b[0m \u001b[0mnp\u001b[0m\u001b[0;34m.\u001b[0m\u001b[0margmax\u001b[0m\u001b[0;34m(\u001b[0m\u001b[0mmags\u001b[0m\u001b[0;34m)\u001b[0m\u001b[0;34m\u001b[0m\u001b[0m\n\u001b[1;32m    357\u001b[0m         \u001b[0;32mif\u001b[0m \u001b[0mest\u001b[0m \u001b[0;34m>\u001b[0m \u001b[0mest_old\u001b[0m \u001b[0;32mor\u001b[0m \u001b[0mk\u001b[0m \u001b[0;34m==\u001b[0m \u001b[0;36m2\u001b[0m\u001b[0;34m:\u001b[0m\u001b[0;34m\u001b[0m\u001b[0m\n",
        "\u001b[0;31mKeyboardInterrupt\u001b[0m: "
       ]
      }
     ],
     "prompt_number": 5
    },
    {
     "cell_type": "code",
     "collapsed": false,
     "input": [
      "Jini = [0.76647556196169342, 0.28500037835676162, 1.5907048693115762, 0.47382274463352952, -0.0031911952536275261, 1.0504146781569172, -0.25875681009202883, 3.1171782180008023, 0.0093412712885166949, 2.2360236329183856, 0.1299810042560495, 0.72944480433040715, 0.029863701335390028, 1.0765656249193905, 0.84517949410820914, -2.6998513478724999, 0.00061579312594525846, 0.6336271337656485, 0.64667813241040095, -4.9173513898984691, 0.014345061889050199, 1.3151337811811119, 0.26659441167287701, 0.016983247135478947, 0.066373526822133863, 0.16432078787072774, 1.0806842759569435, 1.4115892799076186, 0.0023525538794476573, 0.60856049261188194, 0.24728145586507735, -0.020562717230570297, -2.5523420915886197, -0.097694742426209083, 1.0622189335057703, 0.32307630717798297]\n",
      "Jini2= [0.76647556196169342, 0.28500037835676162, 1.5907048693115762, 0.47382274463352952, -0.0031911952536275261, 1.0504146781569172, -0.25875681009202883, 3.1171782180008023, 0.0093412712885166949, 2.2360236329183856, 0.1299810042560495, 0.72944480433040715, 0.029863701335390028, 1.0765656249193905, 0.84517949410820914, \t\t\t-2.6998513478724999, 0.00061579312594525846, 0.6336271337656485, 0.64667813241040095, -4.9173513898984691, 0.014345061889050199, 1.3151337811811119, 0.26659441167287701, 0.016983247135478947, 0.066373526822133863, \t\t\t\t0.16432078787072774, 1.0806842759569435, 1.4115892799076186, 0.0023525538794476573, 0.60856049261188194, 0.24728145586507735, -0.020562717230570297, -2.5523420915886197, -0.097694742426209083, 1.0622189335057703, 0.32307630717798297] \n",
      "Fidelity(Jini)"
     ],
     "language": "python",
     "metadata": {},
     "outputs": [
      {
       "latex": [
        "$$-0.955722660382$$"
       ],
       "metadata": {},
       "output_type": "pyout",
       "png": "[encoded data removed]",
       "prompt_number": 13,
       "text": [
        "-0.955722660382"
       ]
      }
     ],
     "prompt_number": 13
    },
    {
     "cell_type": "code",
     "collapsed": false,
     "input": [
      "def LocGradient(J,s) :\n",
      "    \n",
      "    dL = []\n",
      "    delta = 0.0001\n",
      "    for h in range(len(J)) :\n",
      "        JdJ = [x for x in J]\n",
      "        JdJ[h] += delta\n",
      "        FdJ = Fidelity(JdJ)\n",
      "        dL.append((FdJ - s)/delta)\n",
      "    \n",
      "    return dL, FdJ\n",
      "\n",
      "def GradDesc(Jopt) :\n",
      "    \n",
      "    J = [x for x in Jopt]\n",
      "    check = 0\n",
      "    s = 1\n",
      "    i = 16\n",
      "    g = 0\n",
      "    s = Fidelity(J)\n",
      "    print(s)\n",
      "    while True :   \n",
      "        \n",
      "        g = s\n",
      "        grad, s = LocGradient(J,s)\n",
      "        J = [J[k] - grad[k]/sqrt(i) for k in range(len(J))]\n",
      "    \n",
      "        s = Fidelity(J) \n",
      "        t.write(str(i)+'    '+str(s)+'\\n')\n",
      "        \n",
      "\n",
      "        print(s)\n",
      "        \n",
      "        if abs(s-g) < 0.00005 :\n",
      "            check += 1    \n",
      "            if check == 20:\n",
      "                break\n",
      "        \n",
      "        i += 0.5\n",
      "       \n",
      "    return J\n",
      "\n",
      "t = open('nonStochasticToffoli', 'w+')\n",
      "startTime = datetime.now()\n",
      "J2 = GradDesc(Jini)\n",
      "print(datetime.now()-startTime)\n",
      "print(J2)\n",
      "t.close()"
     ],
     "language": "python",
     "metadata": {},
     "outputs": [
      {
       "output_type": "stream",
       "stream": "stdout",
       "text": [
        "-0.955722660382\n",
        "-0.963027477314"
       ]
      },
      {
       "output_type": "stream",
       "stream": "stdout",
       "text": [
        "\n",
        "-0.967046937042"
       ]
      },
      {
       "output_type": "stream",
       "stream": "stdout",
       "text": [
        "\n",
        "-0.96956958621"
       ]
      },
      {
       "output_type": "stream",
       "stream": "stdout",
       "text": [
        "\n",
        "-0.971421895774"
       ]
      },
      {
       "output_type": "stream",
       "stream": "stdout",
       "text": [
        "\n",
        "-0.972929806679"
       ]
      },
      {
       "output_type": "stream",
       "stream": "stdout",
       "text": [
        "\n",
        "-0.97424069048"
       ]
      },
      {
       "output_type": "stream",
       "stream": "stdout",
       "text": [
        "\n",
        "-0.97541451195"
       ]
      },
      {
       "output_type": "stream",
       "stream": "stdout",
       "text": [
        "\n",
        "-0.976483355451"
       ]
      },
      {
       "output_type": "stream",
       "stream": "stdout",
       "text": [
        "\n",
        "-0.977464405118"
       ]
      },
      {
       "output_type": "stream",
       "stream": "stdout",
       "text": [
        "\n",
        "-0.978370150368"
       ]
      },
      {
       "output_type": "stream",
       "stream": "stdout",
       "text": [
        "\n",
        "-0.979209676058"
       ]
      },
      {
       "output_type": "stream",
       "stream": "stdout",
       "text": [
        "\n",
        "-0.979990497668"
       ]
      },
      {
       "output_type": "stream",
       "stream": "stdout",
       "text": [
        "\n",
        "-0.980718781553"
       ]
      },
      {
       "output_type": "stream",
       "stream": "stdout",
       "text": [
        "\n",
        "-0.981399791164"
       ]
      },
      {
       "output_type": "stream",
       "stream": "stdout",
       "text": [
        "\n",
        "-0.98203802606"
       ]
      },
      {
       "output_type": "stream",
       "stream": "stdout",
       "text": [
        "\n",
        "-0.982637388663"
       ]
      },
      {
       "output_type": "stream",
       "stream": "stdout",
       "text": [
        "\n",
        "-0.983201281603"
       ]
      },
      {
       "output_type": "stream",
       "stream": "stdout",
       "text": [
        "\n",
        "-0.983732694597"
       ]
      },
      {
       "output_type": "stream",
       "stream": "stdout",
       "text": [
        "\n",
        "-0.984234269038"
       ]
      },
      {
       "output_type": "stream",
       "stream": "stdout",
       "text": [
        "\n",
        "-0.984708351498"
       ]
      },
      {
       "output_type": "stream",
       "stream": "stdout",
       "text": [
        "\n",
        "-0.985157036694"
       ]
      },
      {
       "output_type": "stream",
       "stream": "stdout",
       "text": [
        "\n",
        "-0.985582202927"
       ]
      },
      {
       "output_type": "stream",
       "stream": "stdout",
       "text": [
        "\n",
        "-0.985985541339"
       ]
      },
      {
       "output_type": "stream",
       "stream": "stdout",
       "text": [
        "\n",
        "-0.986368580298"
       ]
      },
      {
       "output_type": "stream",
       "stream": "stdout",
       "text": [
        "\n",
        "-0.986732705854"
       ]
      },
      {
       "output_type": "stream",
       "stream": "stdout",
       "text": [
        "\n",
        "-0.987079178996"
       ]
      },
      {
       "output_type": "stream",
       "stream": "stdout",
       "text": [
        "\n",
        "-0.987409150303"
       ]
      },
      {
       "output_type": "stream",
       "stream": "stdout",
       "text": [
        "\n",
        "-0.987723672452"
       ]
      },
      {
       "output_type": "stream",
       "stream": "stdout",
       "text": [
        "\n",
        "-0.988023710955"
       ]
      },
      {
       "output_type": "stream",
       "stream": "stdout",
       "text": [
        "\n",
        "-0.988310153418"
       ]
      },
      {
       "output_type": "stream",
       "stream": "stdout",
       "text": [
        "\n",
        "-0.988583817575"
       ]
      },
      {
       "output_type": "stream",
       "stream": "stdout",
       "text": [
        "\n",
        "-0.988845458283"
       ]
      },
      {
       "output_type": "stream",
       "stream": "stdout",
       "text": [
        "\n",
        "-0.989095773638"
       ]
      },
      {
       "output_type": "stream",
       "stream": "stdout",
       "text": [
        "\n",
        "-0.989335410355"
       ]
      },
      {
       "output_type": "stream",
       "stream": "stdout",
       "text": [
        "\n",
        "-0.989564968508"
       ]
      },
      {
       "output_type": "stream",
       "stream": "stdout",
       "text": [
        "\n",
        "-0.989785005733"
       ]
      },
      {
       "output_type": "stream",
       "stream": "stdout",
       "text": [
        "\n",
        "-0.989996040958"
       ]
      },
      {
       "output_type": "stream",
       "stream": "stdout",
       "text": [
        "\n",
        "-0.990198557727"
       ]
      },
      {
       "output_type": "stream",
       "stream": "stdout",
       "text": [
        "\n",
        "-0.990393007179"
       ]
      },
      {
       "output_type": "stream",
       "stream": "stdout",
       "text": [
        "\n",
        "-0.990579810714"
       ]
      },
      {
       "output_type": "stream",
       "stream": "stdout",
       "text": [
        "\n",
        "-0.990759362394"
       ]
      },
      {
       "output_type": "stream",
       "stream": "stdout",
       "text": [
        "\n",
        "-0.990932031108"
       ]
      },
      {
       "output_type": "stream",
       "stream": "stdout",
       "text": [
        "\n",
        "-0.991098162527"
       ]
      },
      {
       "output_type": "stream",
       "stream": "stdout",
       "text": [
        "\n",
        "-0.99125808088"
       ]
      },
      {
       "output_type": "stream",
       "stream": "stdout",
       "text": [
        "\n",
        "-0.991412090558"
       ]
      },
      {
       "output_type": "stream",
       "stream": "stdout",
       "text": [
        "\n",
        "-0.991560477587"
       ]
      },
      {
       "output_type": "stream",
       "stream": "stdout",
       "text": [
        "\n",
        "-0.991703510954"
       ]
      },
      {
       "output_type": "stream",
       "stream": "stdout",
       "text": [
        "\n",
        "-0.991841443834"
       ]
      },
      {
       "output_type": "stream",
       "stream": "stdout",
       "text": [
        "\n",
        "-0.991974514702"
       ]
      },
      {
       "output_type": "stream",
       "stream": "stdout",
       "text": [
        "\n",
        "-0.992102948355"
       ]
      },
      {
       "output_type": "stream",
       "stream": "stdout",
       "text": [
        "\n",
        "-0.992226956851"
       ]
      },
      {
       "output_type": "stream",
       "stream": "stdout",
       "text": [
        "\n",
        "-0.992346740369"
       ]
      },
      {
       "output_type": "stream",
       "stream": "stdout",
       "text": [
        "\n",
        "-0.992462488005"
       ]
      },
      {
       "output_type": "stream",
       "stream": "stdout",
       "text": [
        "\n",
        "-0.992574378502"
       ]
      },
      {
       "output_type": "stream",
       "stream": "stdout",
       "text": [
        "\n",
        "-0.992682580921"
       ]
      },
      {
       "output_type": "stream",
       "stream": "stdout",
       "text": [
        "\n",
        "-0.992787255269"
       ]
      },
      {
       "output_type": "stream",
       "stream": "stdout",
       "text": [
        "\n",
        "-0.992888553072"
       ]
      },
      {
       "output_type": "stream",
       "stream": "stdout",
       "text": [
        "\n",
        "-0.992986617907"
       ]
      },
      {
       "output_type": "stream",
       "stream": "stdout",
       "text": [
        "\n",
        "-0.993081585897"
       ]
      },
      {
       "output_type": "stream",
       "stream": "stdout",
       "text": [
        "\n",
        "-0.993173586171"
       ]
      },
      {
       "output_type": "stream",
       "stream": "stdout",
       "text": [
        "\n",
        "-0.993262741288"
       ]
      },
      {
       "output_type": "stream",
       "stream": "stdout",
       "text": [
        "\n",
        "-0.993349167631"
       ]
      },
      {
       "output_type": "stream",
       "stream": "stdout",
       "text": [
        "\n",
        "-0.993432975775"
       ]
      },
      {
       "output_type": "stream",
       "stream": "stdout",
       "text": [
        "\n",
        "-0.993514270833"
       ]
      },
      {
       "output_type": "stream",
       "stream": "stdout",
       "text": [
        "\n",
        "-0.993593152767"
       ]
      },
      {
       "output_type": "stream",
       "stream": "stdout",
       "text": [
        "\n",
        "-0.993669716696"
       ]
      },
      {
       "output_type": "stream",
       "stream": "stdout",
       "text": [
        "\n",
        "-0.993744053162"
       ]
      },
      {
       "output_type": "stream",
       "stream": "stdout",
       "text": [
        "\n",
        "-0.993816248399"
       ]
      },
      {
       "output_type": "stream",
       "stream": "stdout",
       "text": [
        "\n",
        "-0.993886384568"
       ]
      },
      {
       "output_type": "stream",
       "stream": "stdout",
       "text": [
        "\n",
        "-0.993954539986"
       ]
      },
      {
       "output_type": "stream",
       "stream": "stdout",
       "text": [
        "\n",
        "-0.99402078934"
       ]
      },
      {
       "output_type": "stream",
       "stream": "stdout",
       "text": [
        "\n",
        "-0.99408520388"
       ]
      },
      {
       "output_type": "stream",
       "stream": "stdout",
       "text": [
        "\n",
        "-0.994147851611"
       ]
      },
      {
       "output_type": "stream",
       "stream": "stdout",
       "text": [
        "\n",
        "-0.994208797462"
       ]
      },
      {
       "output_type": "stream",
       "stream": "stdout",
       "text": [
        "\n",
        "-0.994268103453"
       ]
      },
      {
       "output_type": "stream",
       "stream": "stdout",
       "text": [
        "\n",
        "-0.994325828845"
       ]
      },
      {
       "output_type": "stream",
       "stream": "stdout",
       "text": [
        "\n",
        "-0.994382030289"
       ]
      },
      {
       "output_type": "stream",
       "stream": "stdout",
       "text": [
        "\n",
        "-0.994436761957"
       ]
      },
      {
       "output_type": "stream",
       "stream": "stdout",
       "text": [
        "\n",
        "-0.994490075671"
       ]
      },
      {
       "output_type": "stream",
       "stream": "stdout",
       "text": [
        "\n",
        "-0.994542021024"
       ]
      },
      {
       "output_type": "stream",
       "stream": "stdout",
       "text": [
        "\n",
        "-0.994592645491"
       ]
      },
      {
       "output_type": "stream",
       "stream": "stdout",
       "text": [
        "\n",
        "-0.994641994534"
       ]
      },
      {
       "output_type": "stream",
       "stream": "stdout",
       "text": [
        "\n",
        "-0.994690111706"
       ]
      },
      {
       "output_type": "stream",
       "stream": "stdout",
       "text": [
        "\n",
        "-0.994737038744"
       ]
      },
      {
       "output_type": "stream",
       "stream": "stdout",
       "text": [
        "\n",
        "-0.994782815656"
       ]
      },
      {
       "output_type": "stream",
       "stream": "stdout",
       "text": [
        "\n",
        "-0.994827480805"
       ]
      },
      {
       "output_type": "stream",
       "stream": "stdout",
       "text": [
        "\n",
        "-0.994871070992"
       ]
      },
      {
       "output_type": "stream",
       "stream": "stdout",
       "text": [
        "\n",
        "-0.994913621528"
       ]
      },
      {
       "output_type": "stream",
       "stream": "stdout",
       "text": [
        "\n",
        "-0.994955166304"
       ]
      },
      {
       "output_type": "stream",
       "stream": "stdout",
       "text": [
        "\n",
        "-0.994995737861"
       ]
      },
      {
       "output_type": "stream",
       "stream": "stdout",
       "text": [
        "\n",
        "-0.99503536745"
       ]
      },
      {
       "output_type": "stream",
       "stream": "stdout",
       "text": [
        "\n",
        "-0.995074085095"
       ]
      },
      {
       "output_type": "stream",
       "stream": "stdout",
       "text": [
        "\n",
        "-0.995111919646"
       ]
      },
      {
       "output_type": "stream",
       "stream": "stdout",
       "text": [
        "\n",
        "-0.995148898837"
       ]
      },
      {
       "output_type": "stream",
       "stream": "stdout",
       "text": [
        "\n",
        "-0.995185049333"
       ]
      },
      {
       "output_type": "stream",
       "stream": "stdout",
       "text": [
        "\n",
        "-0.995220396781"
       ]
      },
      {
       "output_type": "stream",
       "stream": "stdout",
       "text": [
        "\n",
        "-0.995254965855"
       ]
      },
      {
       "output_type": "stream",
       "stream": "stdout",
       "text": [
        "\n",
        "-0.995288780298"
       ]
      },
      {
       "output_type": "stream",
       "stream": "stdout",
       "text": [
        "\n",
        "-0.995321862964"
       ]
      },
      {
       "output_type": "stream",
       "stream": "stdout",
       "text": [
        "\n",
        "-0.995354235859"
       ]
      },
      {
       "output_type": "stream",
       "stream": "stdout",
       "text": [
        "\n",
        "-0.995385920173"
       ]
      },
      {
       "output_type": "stream",
       "stream": "stdout",
       "text": [
        "\n",
        "0:54:57.749036\n",
        "[0.30732449653474714, 0.032349875842103845, 1.6742985009446181, 0.49652749894742687, -0.00013292479468922648, 0.94777110584897784, -0.24188837298040003, 3.1398829723183086, -3.7443522497868309e-05, 2.3416812782265355, 0.14684944136703645, 0.8720361347547293, -0.0062314522030540824, 1.0290536531745456, 0.84536496323344956, -2.6771465935667629, -0.011392137660098422, 0.66755286913075396, 0.64686360153564137, -4.774760059478429, -5.3051967787498941e-05, 1.3048317293139469, 0.26677988079811743, 0.018796824311887707, 0.053026892928173905, 0.21665335254993609, 1.0790288882484309, 1.4342940342237842, -3.8904488801613184e-05, 0.60916953189328493, 0.2456260681565634, -0.018749140058713167, -2.5741884201829373, 0.028932315241459713, 1.0605635457955971, 0.46566763759541019]\n"
       ]
      }
     ],
     "prompt_number": 20
    },
    {
     "cell_type": "code",
     "collapsed": false,
     "input": [
      "#---- NUN TE SCORDA' DE METTE ER MENO NELLA FIDELITY !!!!! ------#\n",
      "Jopt = [0.76647556196169342, 0.28500037835676162, 1.5907048693115762, 0.47382274463352952, -0.0031911952536275261, 1.0504146781569172, -0.25875681009202883, 3.1171782180008023, 0.0093412712885166949, 2.2360236329183856, 0.1299810042560495, 0.72944480433040715, 0.029863701335390028, 1.0765656249193905, 0.84517949410820914, -2.6998513478724999, 0.00061579312594525846, 0.6336271337656485, 0.64667813241040095, -4.9173513898984691, 0.014345061889050199, 1.3151337811811119, 0.26659441167287701, 0.016983247135478947, 0.066373526822133863, 0.16432078787072774, 1.0806842759569435, 1.4115892799076186, 0.0023525538794476573, 0.60856049261188194, 0.24728145586507735, -0.020562717230570297, -2.5523420915886197, -0.097694742426209083, 1.0622189335057703, 0.32307630717798297]\n",
      "from scipy.optimize import minimize, fmin\n",
      "res = fmin(Fidelity, Jopt)"
     ],
     "language": "python",
     "metadata": {},
     "outputs": [
      {
       "output_type": "stream",
       "stream": "stdout",
       "text": [
        "Warning: Maximum number of function evaluations has been exceeded.\n"
       ]
      }
     ],
     "prompt_number": 47
    },
    {
     "cell_type": "code",
     "collapsed": false,
     "input": [
      "res_minimize"
     ],
     "language": "python",
     "metadata": {},
     "outputs": [
      {
       "metadata": {},
       "output_type": "pyout",
       "prompt_number": 51,
       "text": [
        "  status: 1\n",
        "    nfev: 7200\n",
        " success: False\n",
        "     fun: -0.99985694688255611\n",
        "       x: array([  3.01244967e-02,   3.72743088e-04,   2.57327936e+00,\n",
        "         2.62808777e-01,  -2.83541700e-03,   9.31211181e-01,\n",
        "        -1.58564974e-01,   5.30525197e+00,   1.19616443e-02,\n",
        "         2.57801583e+00,   1.67278970e-01,   9.57916862e-01,\n",
        "         2.20053445e-02,   9.18940162e-01,   1.58409399e+00,\n",
        "        -4.93167266e+00,   1.20311415e-03,   7.52463461e-03,\n",
        "         1.35185346e+00,  -4.16403595e+00,   2.19526493e-02,\n",
        "         1.26387633e+00,   5.82067710e-01,   1.91335379e-02,\n",
        "         1.47539488e-02,   5.73897488e-02,   1.64147396e+00,\n",
        "         1.86562320e+00,   1.23420311e-03,   2.08551303e-01,\n",
        "         7.45019117e-01,  -2.82141305e-02,  -1.64538808e+00,\n",
        "         2.63695234e-02,   4.96263673e-01,   3.84521672e-02])\n",
        " message: 'Maximum number of function evaluations has been exceeded.'\n",
        "     nit: 6052"
       ]
      }
     ],
     "prompt_number": 51
    },
    {
     "cell_type": "code",
     "collapsed": false,
     "input": [
      "print(J2)"
     ],
     "language": "python",
     "metadata": {},
     "outputs": [
      {
       "output_type": "stream",
       "stream": "stdout",
       "text": [
        "[0.029712113684975471, 0.0019313360118088381, 2.5730646249014986, 0.2634350106218819, 0.00017673541938522937, 0.93176797709631909, -0.1579166701659572, 5.3058782012480226, 0.0047436976211173649, 2.5792495288939659, 0.16792727392254292, 0.95809038402944036, 0.019688428648378824, 0.91896027156177207, 1.5842521682278288, -4.9310464237029539, 0.00057397157496532627, 0.0069072338921918634, 1.3520116379060121, -4.163862423244459, 0.008902423872820418, 1.2634974458842052, 0.58222588404795483, 0.022419336142045217, 0.014063835375487284, 0.0537610005782952, 1.6417943244674049, 1.866249432982835, 0.00038905379099161839, 0.20881318699294046, 0.74533948241432357, -0.024928332217093375, -1.6454861800652032, 0.023603966332102731, 0.49658403840790943, 0.038625689254558622]\n"
       ]
      }
     ],
     "prompt_number": 87
    },
    {
     "cell_type": "code",
     "collapsed": false,
     "input": [
      "from decimal import *\n",
      "getcontext().prec = 5\n",
      "i = s = 0\n",
      "N = 5\n",
      "Jopt = J2\n",
      "for f in pauliMatr :\n",
      "    s += 1\n",
      "    c = 'J_' + f[0].name + f[1].name\n",
      "    J = zeros(shape=(N,N))\n",
      "    for k in interactions :\n",
      "        a = \"{0:.4f}\".format(Jopt[i])\n",
      "        val = float(a)\n",
      "        J[k[0],k[1]] = val\n",
      "        i += len(pauliMatr)\n",
      "    i = s\n",
      "    exec(c + '= asmatrix(J)')"
     ],
     "language": "python",
     "metadata": {},
     "outputs": [],
     "prompt_number": 60
    },
    {
     "cell_type": "code",
     "collapsed": false,
     "input": [
      "J_ZI"
     ],
     "language": "python",
     "metadata": {},
     "outputs": [
      {
       "metadata": {},
       "output_type": "pyout",
       "prompt_number": 61,
       "text": [
        "matrix([[ 0.    ,  0.2634,  5.3059, -4.931 ,  1.8662],\n",
        "        [ 0.    ,  0.    ,  0.9581, -4.1639,  0.0386],\n",
        "        [ 0.    ,  0.    ,  0.    ,  0.0224, -0.0249],\n",
        "        [ 0.    ,  0.    ,  0.    ,  0.    ,  0.    ],\n",
        "        [ 0.    ,  0.    ,  0.    ,  0.    ,  0.    ]])"
       ]
      }
     ],
     "prompt_number": 61
    }
   ],
   "metadata": {}
  }
 ]
}