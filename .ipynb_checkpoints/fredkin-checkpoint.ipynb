{
 "cells": [
  {
   "cell_type": "code",
   "execution_count": 1,
   "metadata": {
    "collapsed": false
   },
   "outputs": [
    {
     "name": "stdout",
     "output_type": "stream",
     "text": [
      "Populating the interactive namespace from numpy and matplotlib\n"
     ]
    }
   ],
   "source": [
    "%pylab inline"
   ]
  },
  {
   "cell_type": "code",
   "execution_count": 2,
   "metadata": {
    "collapsed": false
   },
   "outputs": [],
   "source": [
    "from qutip import *\n",
    "from scipy import *\n",
    "from numpy import *\n",
    "from scipy.optimize import minimize\n",
    "import random\n",
    "from math import log\n",
    "\n",
    "from IPython.display import display\n",
    "\n",
    "from sympy.interactive import printing\n",
    "printing.init_printing()\n",
    "\n",
    "from collections import defaultdict\n",
    "\n",
    "from __future__ import division\n",
    "\n",
    "from pygame import mixer\n",
    "mixer.init() #you must initialize the mixer\n",
    "\n",
    "from random import randrange\n",
    "from datetime import datetime\n",
    "\n",
    "from tempfile import TemporaryFile\n",
    "arglikelihood = TemporaryFile()\n",
    "argFid = TemporaryFile()"
   ]
  },
  {
   "cell_type": "code",
   "execution_count": 45,
   "metadata": {
    "collapsed": false
   },
   "outputs": [],
   "source": [
    "j = complex(0,1)\n",
    "\n",
    "class PAULI (object) :\n",
    "    \n",
    "    name = ''\n",
    "    op = Qobj()\n",
    "    \n",
    "    def __init__(self, name, PauliMatrix) :\n",
    "        self.name = name\n",
    "        self.op = PauliMatrix\n",
    "    \n",
    "def make_pauli_matrix (name, PauliMatrix) :\n",
    "    Pmatrix = PAULI (name, PauliMatrix)\n",
    "    return Pmatrix\n",
    "\n",
    " \n",
    "sx = make_pauli_matrix('X', sigmax())\n",
    "sy = make_pauli_matrix('Y', sigmay())\n",
    "sz = make_pauli_matrix('Z', sigmaz())\n",
    "I = make_pauli_matrix('I', qeye(2))\n",
    "\n",
    "######################################################\n",
    "#GATE and DIMENSION\n",
    "####################################################\n",
    "N = 4        # n of qubits\n",
    "\n",
    "GateMatrix = matrix([[1,0,0,0,0,0,0,0],\n",
    "                     [0,1,0,0,0,0,0,0],\n",
    "                     [0,0,1,0,0,0,0,0],\n",
    "                     [0,0,0,1,0,0,0,0],\n",
    "                     [0,0,0,0,1,0,0,0],\n",
    "                     [0,0,0,0,0,1,0,0],\n",
    "                     [0,0,0,0,0,0,1,0],\n",
    "                     [0,0,0,0,0,0,0,-1]]) #GATE ODD\n",
    "#G = Qobj(GateMatrix, dims = [[2,2,2],[2,2,2]])\n",
    "#G = toffoli()\n",
    "G = fredkin()\n",
    "\n",
    "interactions = [[0,1],[0,2],[0,3],[0,4],[1,2],[1,3],[1,4],[2,3],[2,4]]\n",
    "\n",
    "#######################################################################\n",
    "#USEFUL DEFINITIONS\n",
    "#######################################################################\n",
    "\n",
    "dimG = G.shape[0]  \n",
    "CareStateDim = int(log(dimG,2))\n",
    "\n",
    "h = N-CareStateDim\n",
    "\n",
    "sq2 = 1/sqrt(2)\n",
    "\n",
    "if h > 1 :\n",
    "    dontCareStates = [sq2*basis(2,1) + sq2*basis(2,0)]*(h)\n",
    "    dontCareIdentity = [qeye(2)]*(h)\n",
    "else :\n",
    "    dontCareStates = [sq2*basis(2,1) + sq2*basis(2,0)]\n",
    "    dontCareIdentity = [qeye(2)]\n",
    "\n",
    "#dontCareStates = basis(2,1) \n",
    "#dontCareStates = basis(2,0) \n",
    "\n",
    "dCS = tensor(dontCareStates)\n",
    "#dCI = tensor(dontCareIdentity)\n",
    "\n",
    "###########################################################################\n",
    "#FUNCTIONS\n",
    "###########################################################################\n",
    "from pygame import mixer\n",
    "mixer.init() #you must initialize the mixer\n",
    "alert = mixer.Sound('small-bell-ringing-02.wav') \n",
    "\n",
    "def Likelihood(J, rho_0) : #Likelihood function\n",
    "    \n",
    "    Ak = G*rho_0\n",
    "    #A = tensor(Ak*Ak.dag(), dCI)\n",
    "    A = Ak*Ak.dag()\n",
    "    \n",
    "    rho = tensor(rho_0, dCS)\n",
    "    H = HamiltonianAB(J)\n",
    "    U = (-j*H).expm()\n",
    "    Btemp = U*rho\n",
    "    Bk = Btemp*Btemp.dag()\n",
    "    B = Bk.ptrace([0,1,2])\n",
    "    \n",
    "    out = (A*B).tr()\n",
    "\n",
    "    return abs(out)\n",
    "\n",
    "\n",
    "\n",
    "def HamiltonianAB(x,N) :\n",
    "    k = 0\n",
    "    H = 0\n",
    "    sx = sigmax()\n",
    "    sy = sigmay()\n",
    "    sz = sigmaz()\n",
    "    for q in [sx,sy,sz]:    \n",
    "        temp = 0\n",
    "        OpChain = [qeye(2)]*N\n",
    "        OpChain[2] = q\n",
    "        OpChain[1] = q\n",
    "        temp += x[k]*tensor(OpChain)\n",
    "        k+=1        \n",
    "        H += temp \n",
    "    \n",
    "    for q in [sx,sz]:\n",
    "        temp = 0\n",
    "        OpChain = [qeye(2)]*N\n",
    "        OpChain[2] = q\n",
    "        OpChain[0] = q\n",
    "        temp += x[k]*tensor(OpChain)\n",
    "        OpChain = [qeye(2)]*N\n",
    "        OpChain[1] = q\n",
    "        OpChain[0] = q\n",
    "        temp += x[k]*tensor(OpChain)\n",
    "        k += 1\n",
    "        H += temp \n",
    "        \n",
    "    for q in [0,1,2]:\n",
    "        temp = 0\n",
    "        OpChain = [qeye(2)]*N\n",
    "        OpChain[q] = sx\n",
    "        OpChain[3] = sx\n",
    "        temp += x[k]*tensor(OpChain)\n",
    "        k+=1        \n",
    "        H += temp\n",
    "    \n",
    "    for i in range(3) :\n",
    "        temp = 0\n",
    "        OpChain = [qeye(2)]*N\n",
    "        OpChain[i] = sz\n",
    "        temp += x[k]*tensor(OpChain)\n",
    "        H += temp \n",
    "        k += 1\n",
    "    \n",
    "    temp = 0\n",
    "    OpChain = [qeye(2)]*N\n",
    "    OpChain[3] = sx\n",
    "    temp += x[k]*tensor(OpChain)#last one\n",
    "\n",
    "    H += temp \n",
    "\n",
    "    \n",
    "    return H"
   ]
  },
  {
   "cell_type": "code",
   "execution_count": 46,
   "metadata": {
    "collapsed": false
   },
   "outputs": [],
   "source": [
    "###########################################\n",
    "##Functions to implement the Fidelity\n",
    "###########################################\n",
    "\n",
    "def getGate (G): #extract non zero elements of the gate and save them in s\n",
    "    \n",
    "    s = []\n",
    "\n",
    "    rows = G.shape[0]\n",
    "    colums = G.shape[1]\n",
    "    \n",
    "    for i in range(rows):\n",
    "        for j in range(colums):\n",
    "            if G[i][0][j] != 0 :\n",
    "                s.append([i,j])\n",
    "    return s\n",
    "\n",
    "def bin(a):  #binary representation of a number a: useful to write the computational basis \n",
    "    s=''                                          #inside the Fidelity\n",
    "    t={'0':'000','1':'001','2':'010','3':'011',\n",
    "       '4':'100','5':'101','6':'110','7':'111'}\n",
    "    for c in oct(a)[1:]:\n",
    "            s+=t[c]\n",
    "    return s\n",
    "\n",
    "def getBasis (a) : #get the basis states according to the binary of a: 10 -> |10>\n",
    "    \n",
    "    if a == 0:\n",
    "          B = [basis(2,0)]*(CareStateDim)\n",
    "          return tensor(B)\n",
    "    \n",
    "    c = bin(a)\n",
    "    if dimG == 8:\n",
    "        return tensor(basis(2,int(c[0])) , basis(2,int(c[1])), basis(2,int(c[2])))\n",
    "    if dimG == 4:\n",
    "        return tensor(basis(2,int(c[1])) , basis(2,int(c[2])))\n",
    "    \n",
    "def Fidelity (J):  #Fidelity function\n",
    "    \n",
    "    s = getGate(G)\n",
    "    H = HamiltonianAB(J,N)\n",
    "    Fid = 1/(dimG + 1)\n",
    "    U = (-j*H).expm()\n",
    "    Udag = U.dag()\n",
    "    \n",
    "    for x in s :\n",
    "        for y in s:\n",
    "            \n",
    "            #definition of the basis kets and bras.             \n",
    "            bra_i = getBasis(x[0]).dag()\n",
    "            ket_j = getBasis(y[0])\n",
    "            ket_k = getBasis(x[1])\n",
    "            bra_l = getBasis(y[1]).dag()\n",
    "            \n",
    "            Epsilon = U*tensor(ket_k*bra_l, dCS*dCS.dag())*Udag\n",
    "            Eps_ijkl = bra_i*(Epsilon.ptrace([0,1,2]))*ket_j\n",
    "           \n",
    "            \n",
    "            Gstar_ik = G[x[0],x[1]].conjugate()\n",
    "            G_jl = G[y[0],y[1]]\n",
    "            \n",
    "            \n",
    "            fidStep = (1/(dimG*(dimG+1)))*Gstar_ik*Eps_ijkl*G_jl     \n",
    "            Fid += fidStep[0][0][0]\n",
    "            \n",
    "    return abs(Fid)"
   ]
  },
  {
   "cell_type": "code",
   "execution_count": 43,
   "metadata": {
    "collapsed": false
   },
   "outputs": [],
   "source": [
    "Jopt = rand(12)"
   ]
  },
  {
   "cell_type": "code",
   "execution_count": 52,
   "metadata": {
    "collapsed": false
   },
   "outputs": [
    {
     "data": {
      "text/latex": [
       "Quantum object: dims = [[2, 2, 2], [2, 2, 2]], shape = [8, 8], type = oper, isherm = False\\begin{equation*}\\left(\\begin{array}{*{11}c}0.0 & 0.0 & 0.0 & -2.0 & 0.0 & 0.0 & 0.0 & 0.0\\\\0.0 & 0.0 & -2.0 & 0.0 & 0.0 & 0.0 & 0.0 & 0.0\\\\0.0 & 2.0 & 0.0 & 0.0 & 0.0 & 0.0 & 0.0 & 0.0\\\\2.0 & 0.0 & 0.0 & 0.0 & 0.0 & 0.0 & 0.0 & 0.0\\\\0.0 & 0.0 & 0.0 & 0.0 & 0.0 & 0.0 & 0.0 & 2.0\\\\0.0 & 0.0 & 0.0 & 0.0 & 0.0 & 0.0 & 2.0 & 0.0\\\\0.0 & 0.0 & 0.0 & 0.0 & 0.0 & -2.0 & 0.0 & 0.0\\\\0.0 & 0.0 & 0.0 & 0.0 & -2.0 & 0.0 & 0.0 & 0.0\\\\\\end{array}\\right)\\end{equation*}"
      ],
      "text/plain": [
       "Quantum object: dims = [[2, 2, 2], [2, 2, 2]], shape = [8, 8], type = oper, isherm = False\n",
       "Qobj data =\n",
       "[[ 0.  0.  0. -2.  0.  0.  0.  0.]\n",
       " [ 0.  0. -2.  0.  0.  0.  0.  0.]\n",
       " [ 0.  2.  0.  0.  0.  0.  0.  0.]\n",
       " [ 2.  0.  0.  0.  0.  0.  0.  0.]\n",
       " [ 0.  0.  0.  0.  0.  0.  0.  2.]\n",
       " [ 0.  0.  0.  0.  0.  0.  2.  0.]\n",
       " [ 0.  0.  0.  0.  0. -2.  0.  0.]\n",
       " [ 0.  0.  0.  0. -2.  0.  0.  0.]]"
      ]
     },
     "execution_count": 52,
     "metadata": {},
     "output_type": "execute_result"
    }
   ],
   "source": [
    "A = tensor(qeye(2), sigmax(), sigmax())\n",
    "B = tensor(sigmaz(), sigmaz(),qeye(2))\n",
    "A*B-B*A\n",
    "\n"
   ]
  },
  {
   "cell_type": "code",
   "execution_count": null,
   "metadata": {
    "collapsed": false
   },
   "outputs": [],
   "source": [
    "tensor(qeye(), sigmax())"
   ]
  },
  {
   "cell_type": "code",
   "execution_count": 11,
   "metadata": {
    "collapsed": false
   },
   "outputs": [
    {
     "name": "stdout",
     "output_type": "stream",
     "text": [
      "0.999988622041\n",
      "0.999988661578\n",
      "0.999988686759\n",
      "0.999988705109\n",
      "0.999988719488\n",
      "0.99998873128\n",
      "0.999988741256\n",
      "0.99998874989\n",
      "0.999988757494\n",
      "0.999988764281\n",
      "0.999988770408\n",
      "0.999988775987\n",
      "0.999988781107\n",
      "0.999988785836\n",
      "0.999988790228\n",
      "0.999988794328\n",
      "0.99998879817\n",
      "0.999988801784\n",
      "0.999988805196\n",
      "0.999988808426\n",
      "0.999988811493\n",
      "0.999988814411\n",
      "0.999988817194\n",
      "0.999988819854\n",
      "0.999988822401\n",
      "0.999988824844\n",
      "0.999988827191\n",
      "0.999988829449\n",
      "0.999988831624\n",
      "0.999988833722\n",
      "0.999988835749\n",
      "0.999988837709\n",
      "0.999988839605\n",
      "0.999988841443\n",
      "0.999988843225\n",
      "0.999988844955\n",
      "0.999988846635\n",
      "0.999988848268\n",
      "0.999988849857\n",
      "0.999988851404\n",
      "0.999988852912\n",
      "0.999988854381\n",
      "0.999988855814\n",
      "0.999988857213\n",
      "0.999988858579\n",
      "0.999988859913\n",
      "0.999988861218\n",
      "0.999988862494\n",
      "0.999988863742\n",
      "0.999988864964\n",
      "0.999988866161\n",
      "0.999988867334\n",
      "0.999988868483\n",
      "0.99998886961\n",
      "0.999988870715\n",
      "0.999988871799\n",
      "0.999988872864\n",
      "0.999988873909\n",
      "0.999988874935\n",
      "0.999988875943\n",
      "0.999988876934\n",
      "0.999988877908\n",
      "0.999988878866\n",
      "0.999988879808\n",
      "0.999988880735\n",
      "0.999988881647\n",
      "0.999988882545\n",
      "0.999988883429\n",
      "0.999988884299\n",
      "0.999988885156\n",
      "0.999988886001\n",
      "0.999988886833\n",
      "0.999988887654\n",
      "0.999988888462\n",
      "0.999988889259\n",
      "0.999988890046\n",
      "0.999988890821\n",
      "0.999988891586\n",
      "0.999988892341\n",
      "0.999988893086\n",
      "0.999988893822\n",
      "0.999988894547\n",
      "0.999988895264\n",
      "0.999988895972\n",
      "0.999988896671\n",
      "0.999988897362\n",
      "0.999988898044\n",
      "0.999988898718\n",
      "0.999988899384\n",
      "0.999988900042\n",
      "0.999988900693\n",
      "0.999988901336\n",
      "0.999988901972"
     ]
    },
    {
     "ename": "KeyboardInterrupt",
     "evalue": "",
     "output_type": "error",
     "traceback": [
      "\u001b[0;31m---------------------------------------------------------------------------\u001b[0m\n\u001b[0;31mKeyboardInterrupt\u001b[0m                         Traceback (most recent call last)",
      "\u001b[0;32m<ipython-input-11-ba85ae1036ef>\u001b[0m in \u001b[0;36m<module>\u001b[0;34m()\u001b[0m\n\u001b[1;32m     43\u001b[0m \u001b[0;34m\u001b[0m\u001b[0m\n\u001b[1;32m     44\u001b[0m \u001b[0mt\u001b[0m \u001b[0;34m=\u001b[0m \u001b[0mopen\u001b[0m\u001b[0;34m(\u001b[0m\u001b[0;34m'toffGRAD'\u001b[0m\u001b[0;34m,\u001b[0m \u001b[0;34m'w+'\u001b[0m\u001b[0;34m)\u001b[0m\u001b[0;34m\u001b[0m\u001b[0m\n\u001b[0;32m---> 45\u001b[0;31m \u001b[0mJ2\u001b[0m \u001b[0;34m=\u001b[0m \u001b[0mGradDesc\u001b[0m\u001b[0;34m(\u001b[0m\u001b[0mJ2\u001b[0m\u001b[0;34m)\u001b[0m\u001b[0;34m\u001b[0m\u001b[0m\n\u001b[0m\u001b[1;32m     46\u001b[0m \u001b[0;32mprint\u001b[0m\u001b[0;34m(\u001b[0m\u001b[0mJ2\u001b[0m\u001b[0;34m)\u001b[0m\u001b[0;34m\u001b[0m\u001b[0m\n\u001b[1;32m     47\u001b[0m \u001b[0mt\u001b[0m\u001b[0;34m.\u001b[0m\u001b[0mclose\u001b[0m\u001b[0;34m(\u001b[0m\u001b[0;34m)\u001b[0m\u001b[0;34m\u001b[0m\u001b[0m\n",
      "\u001b[0;32m<ipython-input-11-ba85ae1036ef>\u001b[0m in \u001b[0;36mGradDesc\u001b[0;34m(Jopt)\u001b[0m\n\u001b[1;32m     22\u001b[0m \u001b[0;34m\u001b[0m\u001b[0m\n\u001b[1;32m     23\u001b[0m         \u001b[0mg\u001b[0m \u001b[0;34m=\u001b[0m \u001b[0ms\u001b[0m\u001b[0;34m\u001b[0m\u001b[0m\n\u001b[0;32m---> 24\u001b[0;31m         \u001b[0mgrad\u001b[0m \u001b[0;34m=\u001b[0m \u001b[0mLocGradient\u001b[0m\u001b[0;34m(\u001b[0m\u001b[0mJ\u001b[0m\u001b[0;34m)\u001b[0m\u001b[0;34m\u001b[0m\u001b[0m\n\u001b[0m\u001b[1;32m     25\u001b[0m         \u001b[0mJ\u001b[0m \u001b[0;34m=\u001b[0m \u001b[0;34m[\u001b[0m\u001b[0mJ\u001b[0m\u001b[0;34m[\u001b[0m\u001b[0mk\u001b[0m\u001b[0;34m]\u001b[0m \u001b[0;34m+\u001b[0m \u001b[0mgrad\u001b[0m\u001b[0;34m[\u001b[0m\u001b[0mk\u001b[0m\u001b[0;34m]\u001b[0m\u001b[0;34m/\u001b[0m\u001b[0mi\u001b[0m \u001b[0;32mfor\u001b[0m \u001b[0mk\u001b[0m \u001b[0;32min\u001b[0m \u001b[0mrange\u001b[0m\u001b[0;34m(\u001b[0m\u001b[0mlen\u001b[0m\u001b[0;34m(\u001b[0m\u001b[0mJ\u001b[0m\u001b[0;34m)\u001b[0m\u001b[0;34m)\u001b[0m\u001b[0;34m]\u001b[0m\u001b[0;34m\u001b[0m\u001b[0m\n\u001b[1;32m     26\u001b[0m \u001b[0;34m\u001b[0m\u001b[0m\n",
      "\u001b[0;32m<ipython-input-11-ba85ae1036ef>\u001b[0m in \u001b[0;36mLocGradient\u001b[0;34m(J)\u001b[0m\n\u001b[1;32m      7\u001b[0m         \u001b[0mJdJ\u001b[0m\u001b[0;34m[\u001b[0m\u001b[0ms\u001b[0m\u001b[0;34m]\u001b[0m \u001b[0;34m+=\u001b[0m \u001b[0mdelta\u001b[0m\u001b[0;34m\u001b[0m\u001b[0m\n\u001b[1;32m      8\u001b[0m \u001b[0;34m\u001b[0m\u001b[0m\n\u001b[0;32m----> 9\u001b[0;31m         \u001b[0mdL\u001b[0m\u001b[0;34m.\u001b[0m\u001b[0mappend\u001b[0m\u001b[0;34m(\u001b[0m\u001b[0;34m(\u001b[0m\u001b[0mFidelity\u001b[0m\u001b[0;34m(\u001b[0m\u001b[0mJdJ\u001b[0m\u001b[0;34m)\u001b[0m \u001b[0;34m-\u001b[0m \u001b[0mFidelity\u001b[0m\u001b[0;34m(\u001b[0m\u001b[0mJ\u001b[0m\u001b[0;34m)\u001b[0m\u001b[0;34m)\u001b[0m\u001b[0;34m/\u001b[0m\u001b[0mdelta\u001b[0m\u001b[0;34m)\u001b[0m\u001b[0;34m\u001b[0m\u001b[0m\n\u001b[0m\u001b[1;32m     10\u001b[0m \u001b[0;34m\u001b[0m\u001b[0m\n\u001b[1;32m     11\u001b[0m     \u001b[0;32mreturn\u001b[0m \u001b[0mdL\u001b[0m\u001b[0;34m\u001b[0m\u001b[0m\n",
      "\u001b[0;32m<ipython-input-4-591ec645980a>\u001b[0m in \u001b[0;36mFidelity\u001b[0;34m(J)\u001b[0m\n\u001b[1;32m     51\u001b[0m             \u001b[0mket_j\u001b[0m \u001b[0;34m=\u001b[0m \u001b[0mgetBasis\u001b[0m\u001b[0;34m(\u001b[0m\u001b[0my\u001b[0m\u001b[0;34m[\u001b[0m\u001b[0;36m0\u001b[0m\u001b[0;34m]\u001b[0m\u001b[0;34m)\u001b[0m\u001b[0;34m\u001b[0m\u001b[0m\n\u001b[1;32m     52\u001b[0m             \u001b[0mket_k\u001b[0m \u001b[0;34m=\u001b[0m \u001b[0mgetBasis\u001b[0m\u001b[0;34m(\u001b[0m\u001b[0mx\u001b[0m\u001b[0;34m[\u001b[0m\u001b[0;36m1\u001b[0m\u001b[0;34m]\u001b[0m\u001b[0;34m)\u001b[0m\u001b[0;34m\u001b[0m\u001b[0m\n\u001b[0;32m---> 53\u001b[0;31m             \u001b[0mbra_l\u001b[0m \u001b[0;34m=\u001b[0m \u001b[0mgetBasis\u001b[0m\u001b[0;34m(\u001b[0m\u001b[0my\u001b[0m\u001b[0;34m[\u001b[0m\u001b[0;36m1\u001b[0m\u001b[0;34m]\u001b[0m\u001b[0;34m)\u001b[0m\u001b[0;34m.\u001b[0m\u001b[0mdag\u001b[0m\u001b[0;34m(\u001b[0m\u001b[0;34m)\u001b[0m\u001b[0;34m\u001b[0m\u001b[0m\n\u001b[0m\u001b[1;32m     54\u001b[0m \u001b[0;34m\u001b[0m\u001b[0m\n\u001b[1;32m     55\u001b[0m             \u001b[0mEpsilon\u001b[0m \u001b[0;34m=\u001b[0m \u001b[0mU\u001b[0m\u001b[0;34m*\u001b[0m\u001b[0mtensor\u001b[0m\u001b[0;34m(\u001b[0m\u001b[0mket_k\u001b[0m\u001b[0;34m*\u001b[0m\u001b[0mbra_l\u001b[0m\u001b[0;34m,\u001b[0m \u001b[0mdCS\u001b[0m\u001b[0;34m*\u001b[0m\u001b[0mdCS\u001b[0m\u001b[0;34m.\u001b[0m\u001b[0mdag\u001b[0m\u001b[0;34m(\u001b[0m\u001b[0;34m)\u001b[0m\u001b[0;34m)\u001b[0m\u001b[0;34m*\u001b[0m\u001b[0mUdag\u001b[0m\u001b[0;34m\u001b[0m\u001b[0m\n",
      "\u001b[0;32m/usr/local/lib/python2.7/dist-packages/qutip/qobj.pyc\u001b[0m in \u001b[0;36mdag\u001b[0;34m(self)\u001b[0m\n\u001b[1;32m    749\u001b[0m         \"\"\"\n\u001b[1;32m    750\u001b[0m         \u001b[0mout\u001b[0m \u001b[0;34m=\u001b[0m \u001b[0mQobj\u001b[0m\u001b[0;34m(\u001b[0m\u001b[0;34m)\u001b[0m\u001b[0;34m\u001b[0m\u001b[0m\n\u001b[0;32m--> 751\u001b[0;31m         \u001b[0mout\u001b[0m\u001b[0;34m.\u001b[0m\u001b[0mdata\u001b[0m \u001b[0;34m=\u001b[0m \u001b[0mself\u001b[0m\u001b[0;34m.\u001b[0m\u001b[0mdata\u001b[0m\u001b[0;34m.\u001b[0m\u001b[0mT\u001b[0m\u001b[0;34m.\u001b[0m\u001b[0mconj\u001b[0m\u001b[0;34m(\u001b[0m\u001b[0;34m)\u001b[0m\u001b[0;34m.\u001b[0m\u001b[0mtocsr\u001b[0m\u001b[0;34m(\u001b[0m\u001b[0;34m)\u001b[0m\u001b[0;34m\u001b[0m\u001b[0m\n\u001b[0m\u001b[1;32m    752\u001b[0m         \u001b[0mout\u001b[0m\u001b[0;34m.\u001b[0m\u001b[0mdims\u001b[0m \u001b[0;34m=\u001b[0m \u001b[0;34m[\u001b[0m\u001b[0mself\u001b[0m\u001b[0;34m.\u001b[0m\u001b[0mdims\u001b[0m\u001b[0;34m[\u001b[0m\u001b[0;36m1\u001b[0m\u001b[0;34m]\u001b[0m\u001b[0;34m,\u001b[0m \u001b[0mself\u001b[0m\u001b[0;34m.\u001b[0m\u001b[0mdims\u001b[0m\u001b[0;34m[\u001b[0m\u001b[0;36m0\u001b[0m\u001b[0;34m]\u001b[0m\u001b[0;34m]\u001b[0m\u001b[0;34m\u001b[0m\u001b[0m\n\u001b[1;32m    753\u001b[0m         \u001b[0mout\u001b[0m\u001b[0;34m.\u001b[0m\u001b[0m_isherm\u001b[0m \u001b[0;34m=\u001b[0m \u001b[0mself\u001b[0m\u001b[0;34m.\u001b[0m\u001b[0m_isherm\u001b[0m\u001b[0;34m\u001b[0m\u001b[0m\n",
      "\u001b[0;32m/usr/lib/python2.7/dist-packages/scipy/sparse/data.pyc\u001b[0m in \u001b[0;36mconj\u001b[0;34m(self)\u001b[0m\n\u001b[1;32m     61\u001b[0m \u001b[0;34m\u001b[0m\u001b[0m\n\u001b[1;32m     62\u001b[0m     \u001b[0;32mdef\u001b[0m \u001b[0mconj\u001b[0m\u001b[0;34m(\u001b[0m\u001b[0mself\u001b[0m\u001b[0;34m)\u001b[0m\u001b[0;34m:\u001b[0m\u001b[0;34m\u001b[0m\u001b[0m\n\u001b[0;32m---> 63\u001b[0;31m         \u001b[0;32mreturn\u001b[0m \u001b[0mself\u001b[0m\u001b[0;34m.\u001b[0m\u001b[0m_with_data\u001b[0m\u001b[0;34m(\u001b[0m\u001b[0mself\u001b[0m\u001b[0;34m.\u001b[0m\u001b[0mdata\u001b[0m\u001b[0;34m.\u001b[0m\u001b[0mconj\u001b[0m\u001b[0;34m(\u001b[0m\u001b[0;34m)\u001b[0m\u001b[0;34m)\u001b[0m\u001b[0;34m\u001b[0m\u001b[0m\n\u001b[0m\u001b[1;32m     64\u001b[0m \u001b[0;34m\u001b[0m\u001b[0m\n\u001b[1;32m     65\u001b[0m     \u001b[0;32mdef\u001b[0m \u001b[0mcopy\u001b[0m\u001b[0;34m(\u001b[0m\u001b[0mself\u001b[0m\u001b[0;34m)\u001b[0m\u001b[0;34m:\u001b[0m\u001b[0;34m\u001b[0m\u001b[0m\n",
      "\u001b[0;31mKeyboardInterrupt\u001b[0m: "
     ]
    },
    {
     "name": "stdout",
     "output_type": "stream",
     "text": [
      "\n"
     ]
    }
   ],
   "source": [
    "0.265380370662\n",
    "\n",
    "def LocGradient(J) :\n",
    "    \n",
    "    dL = []\n",
    "    delta = 0.0001\n",
    "    for s in range(len(J)) :\n",
    "        JdJ = [x for x in J]\n",
    "        JdJ[s] += delta\n",
    "        \n",
    "        dL.append((Fidelity(JdJ) - Fidelity(J))/delta)\n",
    "    \n",
    "    return dL\n",
    "\n",
    "def GradDesc(Jopt) :\n",
    "    \n",
    "    J = [x for x in Jopt]\n",
    "    check = 0\n",
    "    s = 1\n",
    "    i = 1\n",
    "    g = 0\n",
    "    \n",
    "    while True :   \n",
    "        \n",
    "        g = s\n",
    "        grad = LocGradient(J)\n",
    "        J = [J[k] + grad[k]/i for k in range(len(J))]\n",
    "    \n",
    "        s = Fidelity(J) \n",
    "        t.write(str(i)+'    '+str(s)+'\\n')\n",
    "        \n",
    "\n",
    "        print(s)\n",
    "        '''\n",
    "        if abs(s-g) < 0.00005 :\n",
    "            check += 1    \n",
    "            if check == 20:\n",
    "                break\n",
    "        '''\n",
    "        if s > 0.99999:\n",
    "            break\n",
    "        i += 1\n",
    "       \n",
    "    return J\n",
    "\n",
    "t = open('toffGRAD', 'w+')\n",
    "J2 = GradDesc(J2)\n",
    "print(J2)\n",
    "t.close()"
   ]
  },
  {
   "cell_type": "code",
   "execution_count": 10,
   "metadata": {
    "collapsed": false
   },
   "outputs": [
    {
     "data": {
      "text/latex": [
       "$$\\begin{bmatrix}-0.934375020366, & 0.144194069985, & -0.387990801395, & 3.40484857216, & 2.659252109, & -0.00461713877119, & 1.94502222463, & 1.94502222463, & -1.57098369795, & -1.00473139419, & -1.00473139419, & 0.512641443854\\end{bmatrix}$$"
      ],
      "text/plain": [
       "[-0.934375020366, 0.144194069985, -0.387990801395, 3.40484857216, 2.659252109,\n",
       " -0.00461713877119, 1.94502222463, 1.94502222463, -1.57098369795, -1.004731394\n",
       "19, -1.00473139419, 0.512641443854]"
      ]
     },
     "execution_count": 10,
     "metadata": {},
     "output_type": "execute_result"
    }
   ],
   "source": [
    "J2"
   ]
  },
  {
   "cell_type": "code",
   "execution_count": 6,
   "metadata": {
    "collapsed": false
   },
   "outputs": [
    {
     "ename": "TypeError",
     "evalue": "HamiltonianAB() takes exactly 2 arguments (1 given)",
     "output_type": "error",
     "traceback": [
      "\u001b[0;31m---------------------------------------------------------------------------\u001b[0m\n\u001b[0;31mTypeError\u001b[0m                                 Traceback (most recent call last)",
      "\u001b[0;32m<ipython-input-6-673b295d837d>\u001b[0m in \u001b[0;36m<module>\u001b[0;34m()\u001b[0m\n\u001b[1;32m     33\u001b[0m         \u001b[0mJdJ\u001b[0m \u001b[0;34m=\u001b[0m \u001b[0;34m[\u001b[0m\u001b[0mx\u001b[0m \u001b[0;32mfor\u001b[0m \u001b[0mx\u001b[0m \u001b[0;32min\u001b[0m \u001b[0mJ\u001b[0m\u001b[0;34m]\u001b[0m\u001b[0;34m\u001b[0m\u001b[0m\n\u001b[1;32m     34\u001b[0m         \u001b[0mJdJ\u001b[0m\u001b[0;34m[\u001b[0m\u001b[0mindex\u001b[0m\u001b[0;34m]\u001b[0m \u001b[0;34m+=\u001b[0m \u001b[0mdelta\u001b[0m\u001b[0;34m\u001b[0m\u001b[0m\n\u001b[0;32m---> 35\u001b[0;31m         \u001b[0mgrad\u001b[0m \u001b[0;34m=\u001b[0m \u001b[0;34m(\u001b[0m\u001b[0mLikelihood\u001b[0m\u001b[0;34m(\u001b[0m\u001b[0mJdJ\u001b[0m\u001b[0;34m,\u001b[0m \u001b[0mrho_0\u001b[0m\u001b[0;34m)\u001b[0m \u001b[0;34m-\u001b[0m \u001b[0mLikelihood\u001b[0m\u001b[0;34m(\u001b[0m\u001b[0mJ\u001b[0m\u001b[0;34m,\u001b[0m \u001b[0mrho_0\u001b[0m\u001b[0;34m)\u001b[0m\u001b[0;34m)\u001b[0m\u001b[0;34m/\u001b[0m\u001b[0mdelta\u001b[0m\u001b[0;34m\u001b[0m\u001b[0m\n\u001b[0m\u001b[1;32m     36\u001b[0m         \u001b[0mJ\u001b[0m\u001b[0;34m[\u001b[0m\u001b[0mindex\u001b[0m\u001b[0;34m]\u001b[0m \u001b[0;34m=\u001b[0m \u001b[0mJ\u001b[0m\u001b[0;34m[\u001b[0m\u001b[0mindex\u001b[0m\u001b[0;34m]\u001b[0m \u001b[0;34m+\u001b[0m \u001b[0mgrad\u001b[0m\u001b[0;34m/\u001b[0m\u001b[0msqrt\u001b[0m\u001b[0;34m(\u001b[0m\u001b[0mwalk\u001b[0m\u001b[0;34m)\u001b[0m\u001b[0;34m\u001b[0m\u001b[0m\n\u001b[1;32m     37\u001b[0m         \u001b[0ms\u001b[0m \u001b[0;34m=\u001b[0m \u001b[0mLikelihood\u001b[0m\u001b[0;34m(\u001b[0m\u001b[0mJ\u001b[0m\u001b[0;34m,\u001b[0m \u001b[0mrho_0\u001b[0m\u001b[0;34m)\u001b[0m\u001b[0;34m\u001b[0m\u001b[0m\n",
      "\u001b[0;32m<ipython-input-3-4739d0ab18ca>\u001b[0m in \u001b[0;36mLikelihood\u001b[0;34m(J, rho_0)\u001b[0m\n\u001b[1;32m     74\u001b[0m \u001b[0;34m\u001b[0m\u001b[0m\n\u001b[1;32m     75\u001b[0m     \u001b[0mrho\u001b[0m \u001b[0;34m=\u001b[0m \u001b[0mtensor\u001b[0m\u001b[0;34m(\u001b[0m\u001b[0mrho_0\u001b[0m\u001b[0;34m,\u001b[0m \u001b[0mdCS\u001b[0m\u001b[0;34m)\u001b[0m\u001b[0;34m\u001b[0m\u001b[0m\n\u001b[0;32m---> 76\u001b[0;31m     \u001b[0mH\u001b[0m \u001b[0;34m=\u001b[0m \u001b[0mHamiltonianAB\u001b[0m\u001b[0;34m(\u001b[0m\u001b[0mJ\u001b[0m\u001b[0;34m)\u001b[0m\u001b[0;34m\u001b[0m\u001b[0m\n\u001b[0m\u001b[1;32m     77\u001b[0m     \u001b[0mU\u001b[0m \u001b[0;34m=\u001b[0m \u001b[0;34m(\u001b[0m\u001b[0;34m-\u001b[0m\u001b[0mj\u001b[0m\u001b[0;34m*\u001b[0m\u001b[0mH\u001b[0m\u001b[0;34m)\u001b[0m\u001b[0;34m.\u001b[0m\u001b[0mexpm\u001b[0m\u001b[0;34m(\u001b[0m\u001b[0;34m)\u001b[0m\u001b[0;34m\u001b[0m\u001b[0m\n\u001b[1;32m     78\u001b[0m     \u001b[0mBtemp\u001b[0m \u001b[0;34m=\u001b[0m \u001b[0mU\u001b[0m\u001b[0;34m*\u001b[0m\u001b[0mrho\u001b[0m\u001b[0;34m\u001b[0m\u001b[0m\n",
      "\u001b[0;31mTypeError\u001b[0m: HamiltonianAB() takes exactly 2 arguments (1 given)"
     ]
    }
   ],
   "source": [
    "########################\n",
    "#SGD\n",
    "######################\n",
    "\n",
    "step = 0.0008\n",
    "\n",
    "t = open('toffoliGRAD', 'w+')\n",
    "startTime = datetime.now()\n",
    "\n",
    "Jopt = rand(2*len(interactions)+3)\n",
    "\n",
    "\n",
    "delta = 0.0001\n",
    "check = 0\n",
    "s = 0\n",
    "time = step\n",
    "\n",
    "\n",
    "for i in range(3):\n",
    "    \n",
    "    J = [x for x in Jopt]\n",
    "    \n",
    "    walk = step*500*i\n",
    "    \n",
    "    while True :\n",
    "        \n",
    "        walk += step\n",
    "        time += step\n",
    "        \n",
    "        rho_0 = rand_ket(N = 8, dims = [[2,2,2], [1,1,1]])\n",
    "        index = randrange(len(J))\n",
    "        \n",
    "        JdJ = [x for x in J]\n",
    "        JdJ[index] += delta\n",
    "        grad = (Likelihood(JdJ, rho_0) - Likelihood(J, rho_0))/delta\n",
    "        J[index] = J[index] + grad/sqrt(walk)\n",
    "        s = Likelihood(J, rho_0) \n",
    "        \n",
    "        \n",
    "        \n",
    "        t.write(str(time/step)+'    '+str(s)+'\\n')        \n",
    "        \n",
    "        \n",
    "        \n",
    "        if abs(s) > 0.99 :\n",
    "            check += 1    \n",
    "            if check == 20:\n",
    "                break\n",
    "         \n",
    "        if time/step % 100 < 1:\n",
    "            print(str(time/step)+ '   ' + str(s)+ '   ' + str(walk))\n",
    "            \n",
    "            \n",
    "        if time/step > 1600*(i+1) :\n",
    "            print('HIT')\n",
    "            break\n",
    "    \n",
    "    Jopt = J\n",
    "\n",
    "\n",
    "print(datetime.now()-startTime)\n",
    "print(Jopt)\n",
    "t.close()\n",
    "alert.play()"
   ]
  },
  {
   "cell_type": "code",
   "execution_count": null,
   "metadata": {
    "collapsed": false
   },
   "outputs": [],
   "source": []
  },
  {
   "cell_type": "code",
   "execution_count": 22,
   "metadata": {
    "collapsed": false
   },
   "outputs": [],
   "source": [
    "from decimal import *\n",
    "getcontext().prec = 5\n",
    "i = s = 0\n",
    "N = 5\n",
    "Jopt = J2\n",
    "zz = [sz,sz]\n",
    "\n",
    "s += 1\n",
    "c = 'J_' + sz.name + sz.name\n",
    "J = zeros(shape=(N,N))\n",
    "for k in interactions :\n",
    "    a = \"{0:.3f}\".format(Jopt[i])\n",
    "    val = float(a)\n",
    "    J[k[0],k[1]] = val\n",
    "    i += 1\n",
    "i = s\n",
    "exec(c + '= asmatrix(J)')"
   ]
  },
  {
   "cell_type": "code",
   "execution_count": 23,
   "metadata": {
    "collapsed": false
   },
   "outputs": [
    {
     "data": {
      "text/plain": [
       "matrix([[ 0.   ,  1.196,  1.215, -0.   , -0.   ],\n",
       "        [ 0.   ,  0.   , -0.382, -0.   ,  1.571],\n",
       "        [ 0.   ,  0.   ,  0.   , -0.   ,  1.571],\n",
       "        [ 0.   ,  0.   ,  0.   ,  0.   ,  0.   ],\n",
       "        [ 0.   ,  0.   ,  0.   ,  0.   ,  0.   ]])"
      ]
     },
     "execution_count": 23,
     "metadata": {},
     "output_type": "execute_result"
    }
   ],
   "source": [
    "J_ZZ"
   ]
  },
  {
   "cell_type": "code",
   "execution_count": 24,
   "metadata": {
    "collapsed": false
   },
   "outputs": [
    {
     "data": {
      "image/png": "[encoded data removed]",
      "text/latex": [
       "$$0.0$$"
      ],
      "text/plain": [
       "0.0"
      ]
     },
     "execution_count": 24,
     "metadata": {},
     "output_type": "execute_result"
    }
   ],
   "source": [
    "J_ZZ[3,4]"
   ]
  },
  {
   "cell_type": "code",
   "execution_count": 32,
   "metadata": {
    "collapsed": false
   },
   "outputs": [
    {
     "data": {
      "text/plain": [
       "matrix([[ 0.   , -2.26 , -1.218,  0.978,  0.406],\n",
       "        [ 0.   ,  0.   ,  0.311,  0.239,  0.863],\n",
       "        [ 0.   ,  0.   ,  0.   ,  0.708,  0.429],\n",
       "        [ 0.   ,  0.   ,  0.   ,  0.   ,  0.   ],\n",
       "        [ 0.   ,  0.   ,  0.   ,  0.   ,  0.   ]])"
      ]
     },
     "execution_count": 32,
     "metadata": {},
     "output_type": "execute_result"
    }
   ],
   "source": [
    "J_IZ"
   ]
  },
  {
   "cell_type": "code",
   "execution_count": 33,
   "metadata": {
    "collapsed": false
   },
   "outputs": [
    {
     "data": {
      "text/plain": [
       "matrix([[ 0.   ,  3.496, -1.005, -2.924,  1.558],\n",
       "        [ 0.   ,  0.   ,  2.572,  6.592,  0.598],\n",
       "        [ 0.   ,  0.   ,  0.   ,  1.07 ,  1.041],\n",
       "        [ 0.   ,  0.   ,  0.   ,  0.   ,  0.   ],\n",
       "        [ 0.   ,  0.   ,  0.   ,  0.   ,  0.   ]])"
      ]
     },
     "execution_count": 33,
     "metadata": {},
     "output_type": "execute_result"
    }
   ],
   "source": [
    "J_ZI"
   ]
  }
 ],
 "metadata": {
  "kernelspec": {
   "display_name": "Python 2",
   "language": "python",
   "name": "python2"
  },
  "language_info": {
   "codemirror_mode": {
    "name": "ipython",
    "version": 2
   },
   "file_extension": ".py",
   "mimetype": "text/x-python",
   "name": "python",
   "nbconvert_exporter": "python",
   "pygments_lexer": "ipython2",
   "version": "2.7.11"
  }
 },
 "nbformat": 4,
 "nbformat_minor": 0
}
