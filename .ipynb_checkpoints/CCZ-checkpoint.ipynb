{
 "metadata": {
  "name": "",
  "signature": "sha256:bdfcd4fe7dc9477f4193358801a0293bc27c61c9f44f3799df52f4d75c45ff43"
 },
 "nbformat": 3,
 "nbformat_minor": 0,
 "worksheets": [
  {
   "cells": [
    {
     "cell_type": "code",
     "collapsed": false,
     "input": [
      "%pylab inline"
     ],
     "language": "python",
     "metadata": {},
     "outputs": [
      {
       "output_type": "stream",
       "stream": "stdout",
       "text": [
        "Populating the interactive namespace from numpy and matplotlib\n"
       ]
      }
     ],
     "prompt_number": 1
    },
    {
     "cell_type": "code",
     "collapsed": false,
     "input": [
      "from qutip import *\n",
      "from scipy import *\n",
      "from numpy import *\n",
      "from scipy.optimize import minimize\n",
      "import random\n",
      "from math import log\n",
      "\n",
      "from IPython.display import display\n",
      "\n",
      "from sympy.interactive import printing\n",
      "printing.init_printing()\n",
      "\n",
      "from collections import defaultdict\n",
      "\n",
      "from __future__ import division\n",
      "\n",
      "from pygame import mixer\n",
      "mixer.init() #you must initialize the mixer\n",
      "\n",
      "from random import randrange\n",
      "from datetime import datetime\n",
      "\n",
      "from tempfile import TemporaryFile\n",
      "arglikelihood = TemporaryFile()\n",
      "argFid = TemporaryFile()"
     ],
     "language": "python",
     "metadata": {},
     "outputs": [],
     "prompt_number": 7
    },
    {
     "cell_type": "code",
     "collapsed": false,
     "input": [
      "j = complex(0,1)\n",
      "\n",
      "class PAULI (object) :\n",
      "    \n",
      "    name = ''\n",
      "    op = Qobj()\n",
      "    \n",
      "    def __init__(self, name, PauliMatrix) :\n",
      "        self.name = name\n",
      "        self.op = PauliMatrix\n",
      "    \n",
      "def make_pauli_matrix (name, PauliMatrix) :\n",
      "    Pmatrix = PAULI (name, PauliMatrix)\n",
      "    return Pmatrix\n",
      "\n",
      " \n",
      "sx = make_pauli_matrix('X', sigmax())\n",
      "sy = make_pauli_matrix('Y', sigmay())\n",
      "sz = make_pauli_matrix('Z', sigmaz())\n",
      "I = make_pauli_matrix('I', qeye(2))\n",
      "\n",
      "pauliMatr = [[sz,sz],[sz,I],[I,sz]]\n",
      "\n",
      "\n",
      "######################################################\n",
      "#GATE and DIMENSION\n",
      "####################################################\n",
      "N = 5        # n of qubits\n",
      "\n",
      "\n",
      "\n",
      "GateMatrix = matrix([[1,0,0,0,0,0,0,0],\n",
      "                     [0,1,0,0,0,0,0,0],\n",
      "                     [0,0,1,0,0,0,0,0],\n",
      "                     [0,0,0,1,0,0,0,0],\n",
      "                     [0,0,0,0,1,0,0,0],\n",
      "                     [0,0,0,0,0,1,0,0],\n",
      "                     [0,0,0,0,0,0,1,0],\n",
      "                     [0,0,0,0,0,0,0,-1]]) #GATE ODD\n",
      "G = Qobj(GateMatrix, dims = [[2,2,2],[2,2,2]])\n",
      "#G = toffoli()\n",
      "\n",
      "interactions = [[0,1],[0,2],[1,2],[0,3],[1,3],[2,3],[0,4],[2,4],[1,4]]\n",
      "\n",
      "#######################################################################\n",
      "#USEFUL DEFINITIONS\n",
      "#######################################################################\n",
      "\n",
      "dimG = G.shape[0]  \n",
      "CareStateDim = int(log(dimG,2))\n",
      "\n",
      "h = N-CareStateDim\n",
      "\n",
      "sq2 = 1/sqrt(2)\n",
      "\n",
      "if h > 1 :\n",
      "    dontCareStates = [sq2*basis(2,1) + sq2*basis(2,0)]*(h)\n",
      "    dontCareIdentity = [qeye(2)]*(h)\n",
      "else :\n",
      "    dontCareStates = [sq2*basis(2,1) + sq2*basis(2,0)]\n",
      "    dontCareIdentity = [qeye(2)]\n",
      "\n",
      "\n",
      "dCS = tensor(dontCareStates)\n",
      "dCI = tensor(dontCareIdentity)\n",
      "\n",
      "###########################################################################\n",
      "#FUNCTIONS\n",
      "###########################################################################\n",
      "from pygame import mixer\n",
      "mixer.init() #you must initialize the mixer\n",
      "alert = mixer.Sound('small-bell-ringing-02.wav') \n",
      "\n",
      "def Likelihood(J, rho_0) : #Likelihood function\n",
      "    \n",
      "    Ak = G*rho_0\n",
      "    #A = tensor(Ak*Ak.dag(), dCI)\n",
      "    A = Ak*Ak.dag()\n",
      "    \n",
      "    rho = tensor(rho_0, dCS)\n",
      "    H = HamiltonianAB(J)\n",
      "    U = (-j*H).expm()\n",
      "    Btemp = U*rho\n",
      "    Bk = Btemp*Btemp.dag()\n",
      "    B = Bk.ptrace([0,1,2])\n",
      "    \n",
      "    out = (A*B).tr()\n",
      "\n",
      "    return abs(out)\n",
      "\n",
      "\n",
      "def HamiltonianAB(x) :\n",
      "    \n",
      "    i = 0\n",
      "    k = 0\n",
      "    H = 0\n",
      "    \n",
      "    for p in interactions :\n",
      "        \n",
      "        temp = 0\n",
      "        \n",
      "        for S in pauliMatr :\n",
      "        \n",
      "            OpChain = [qeye(2)]*N\n",
      "            OpChain[p[0]] = S[0].op\n",
      "            OpChain[p[1]] = S[1].op\n",
      "            \n",
      "            temp += x[k]*tensor(OpChain)\n",
      "            k += 1\n",
      "\n",
      "        H += temp \n",
      "        \n",
      "    \n",
      "    return H"
     ],
     "language": "python",
     "metadata": {},
     "outputs": [],
     "prompt_number": 8
    },
    {
     "cell_type": "code",
     "collapsed": false,
     "input": [
      "########################\n",
      "#SGD\n",
      "######################\n",
      "\n",
      "step = 0.001\n",
      "\n",
      "t = open('ccz_OK', 'w+')\n",
      "startTime = datetime.now()\n",
      "\n",
      "Jopt = rand(len(interactions)*len(pauliMatr))\n",
      "\n",
      "'''\n",
      "Jopt = [-1.5891812232412459, 0.222201067110399, 2.9659134724454628, -0.61951776957560623, \n",
      "        0.61672394748136605, 2.9300251298898132, -2.8212390258083273, -0.87573248099454737, \n",
      "        0.40545591119003588, 0.30810380881645394, -0.20518203145596964, 2.1667996986171847, \n",
      "        0.012150621188495705, -0.78460485860462426, 0.48542689192214367, -0.2433259463869461, \n",
      "        -0.032646187693451088, 1.3827524967742615, -1.1725443013381454, 2.4916920168135519, \n",
      "        -0.00211546362361537, 0.56803067543107266, 0.15565154202542081, -0.95621213465733401, \n",
      "        -0.0081518495874134192, 0.70974885090792139, 0.27313441307128938, 1.3887347262985441, \n",
      "        -0.011186727441676907, 1.4691967774428702, 0.76662282735320775, 0.11736393526330254, \n",
      "        -0.041449262207567866, 0.10761097335491261, -0.051045946606989107, 3.2261405436903159]\n",
      "\n",
      "'''\n",
      "\n",
      "\n",
      "delta = 0.0001\n",
      "check = 0\n",
      "s = 0\n",
      "time = step\n",
      "\n",
      "\n",
      "    \n",
      "J = [x for x in Jopt]\n",
      "\n",
      "\n",
      "\n",
      "while True :\n",
      "    \n",
      "    time += step\n",
      "    #delta = (time + 1)**(-0.101)\n",
      "    #gamma = (time + 1)**(-0.602)\n",
      "    gamma = (time + 1)**(-0.5)\n",
      "        \n",
      "    rho_0 = rand_ket(N = 8, dims = [[2,2,2], [1,1,1]])\n",
      "    index = randrange(len(J))\n",
      "    \n",
      "    JdJ = [x for x in J]\n",
      "    JdJ[index] += delta\n",
      "    grad = (Likelihood(JdJ, rho_0) - Likelihood(J, rho_0))/delta\n",
      "    J[index] = J[index] + grad/gamma\n",
      "    s = Likelihood(J, rho_0) \n",
      "    \n",
      "    \n",
      "    \n",
      "    t.write(str(time/step)+'    '+str(s)+'\\n')        \n",
      "    \n",
      "    \n",
      "    \n",
      "    if abs(s) > 0.99 :\n",
      "        check += 1    \n",
      "        if check == 20:\n",
      "            break\n",
      "     \n",
      "    if time/step % 100 < 1:\n",
      "        print(str(time/step)+ '   ' + str(s)+ '   ' + str(gamma))\n",
      "        \n",
      "        \n",
      "    if time/step > 5000 :\n",
      "        print('HIT')\n",
      "        break\n",
      "\n",
      "Jopt = J\n",
      "\n",
      "print(datetime.now()-startTime)\n",
      "print(Jopt)\n",
      "t.close()\n",
      "alert.play()"
     ],
     "language": "python",
     "metadata": {},
     "outputs": [],
     "prompt_number": "*"
    },
    {
     "cell_type": "code",
     "collapsed": false,
     "input": [
      "###########################################\n",
      "##Functions to implement the Fidelity\n",
      "###########################################\n",
      "\n",
      "def getGate (G): #extract non zero elements of the gate and save them in s\n",
      "    \n",
      "    s = []\n",
      "\n",
      "    rows = G.shape[0]\n",
      "    colums = G.shape[1]\n",
      "    \n",
      "    for i in range(rows):\n",
      "        for j in range(colums):\n",
      "            if G[i][0][j] != 0 :\n",
      "                s.append([i,j])\n",
      "    return s\n",
      "\n",
      "def bin(a):  #binary representation of a number a: useful to write the computational basis \n",
      "    s=''                                          #inside the Fidelity\n",
      "    t={'0':'000','1':'001','2':'010','3':'011',\n",
      "       '4':'100','5':'101','6':'110','7':'111'}\n",
      "    for c in oct(a)[1:]:\n",
      "            s+=t[c]\n",
      "    return s\n",
      "\n",
      "def getBasis (a) : #get the basis states according to the binary of a: 10 -> |10>\n",
      "    \n",
      "    if a == 0:\n",
      "          B = [basis(2,0)]*(CareStateDim)\n",
      "          return tensor(B)\n",
      "    \n",
      "    c = bin(a)\n",
      "    if dimG == 8:\n",
      "        return tensor(basis(2,int(c[0])) , basis(2,int(c[1])), basis(2,int(c[2])))\n",
      "    if dimG == 4:\n",
      "        return tensor(basis(2,int(c[1])) , basis(2,int(c[2])))\n",
      "    \n",
      "def Fidelity (J):  #Fidelity function\n",
      "    \n",
      "    s = getGate(G)\n",
      "    H = HamiltonianAB(J)\n",
      "    Fid = 1/(dimG + 1)\n",
      "    U = (-j*H).expm()\n",
      "    Udag = (j*H).expm()\n",
      "    \n",
      "    for x in s :\n",
      "        for y in s:\n",
      "            \n",
      "            #definition of the basis kets and bras.             \n",
      "            bra_i = getBasis(x[0]).dag()\n",
      "            ket_j = getBasis(y[0])\n",
      "            ket_k = getBasis(x[1])\n",
      "            bra_l = getBasis(y[1]).dag()\n",
      "            \n",
      "            Epsilon = U*tensor(ket_k*bra_l, dCS*dCS.dag())*Udag\n",
      "            Eps_ijkl = bra_i*(Epsilon.ptrace([0,1,2]))*ket_j\n",
      "            \n",
      "            Gstar_ik = G[x[0],x[1]].conjugate()\n",
      "            G_jl = G[y[0],y[1]]\n",
      "            \n",
      "            \n",
      "            fidStep = (1/(dimG*(dimG+1)))*Gstar_ik*Eps_ijkl*G_jl     \n",
      "            Fid += abs(fidStep[0][0][0])\n",
      "            \n",
      "    return -Fid\n"
     ],
     "language": "python",
     "metadata": {},
     "outputs": [],
     "prompt_number": 9
    },
    {
     "cell_type": "code",
     "collapsed": false,
     "input": [
      "def LocGradient(J) :\n",
      "    \n",
      "    dL = []\n",
      "    delta = 0.0001\n",
      "    for s in range(len(J)) :\n",
      "        JdJ = [x for x in J]\n",
      "        JdJ[s] += delta\n",
      "        \n",
      "        dL.append((Fidelity(JdJ) - Fidelity(J))/delta)\n",
      "    \n",
      "    return dL\n",
      "\n",
      "def GradDesc(Jopt) :\n",
      "    \n",
      "    J = [x for x in Jopt]\n",
      "    check = 0\n",
      "    s = 1\n",
      "    i = 1\n",
      "    g = 0\n",
      "    \n",
      "    while True :   \n",
      "        \n",
      "        g = s\n",
      "        grad = LocGradient(J)\n",
      "        J = [J[k] - grad[k]/i for k in range(len(J))]\n",
      "    \n",
      "        s = Fidelity(J) \n",
      "        t.write(str(i)+'    '+str(s)+'\\n')\n",
      "        \n",
      "\n",
      "        print(s)\n",
      "        \n",
      "        if abs(s-g) < 0.00005 :\n",
      "            check += 1    \n",
      "            if check == 20:\n",
      "                break\n",
      "        \n",
      "        i += 1\n",
      "       \n",
      "    return J\n",
      "\n",
      "t = open('nonStochasticCCZ', 'w+')\n",
      "J2 = GradDesc(Jopt)\n",
      "t.close()"
     ],
     "language": "python",
     "metadata": {},
     "outputs": [
      {
       "output_type": "stream",
       "stream": "stdout",
       "text": [
        "-0.999490580528\n",
        "-0.999991873904"
       ]
      },
      {
       "output_type": "stream",
       "stream": "stdout",
       "text": [
        "\n",
        "-0.999998549888"
       ]
      },
      {
       "output_type": "stream",
       "stream": "stdout",
       "text": [
        "\n",
        "-0.999999519707"
       ]
      },
      {
       "output_type": "stream",
       "stream": "stdout",
       "text": [
        "\n",
        "-0.999999782917"
       ]
      },
      {
       "output_type": "stream",
       "stream": "stdout",
       "text": [
        "\n",
        "-0.999999880636"
       ]
      },
      {
       "output_type": "stream",
       "stream": "stdout",
       "text": [
        "\n",
        "-0.999999924597"
       ]
      },
      {
       "output_type": "stream",
       "stream": "stdout",
       "text": [
        "\n",
        "-0.999999947138"
       ]
      },
      {
       "output_type": "stream",
       "stream": "stdout",
       "text": [
        "\n",
        "-0.999999959852"
       ]
      },
      {
       "output_type": "stream",
       "stream": "stdout",
       "text": [
        "\n",
        "-0.999999967563"
       ]
      },
      {
       "output_type": "stream",
       "stream": "stdout",
       "text": [
        "\n",
        "-0.999999972515"
       ]
      },
      {
       "output_type": "stream",
       "stream": "stdout",
       "text": [
        "\n",
        "-0.999999975846"
       ]
      },
      {
       "output_type": "stream",
       "stream": "stdout",
       "text": [
        "\n",
        "-0.999999978175"
       ]
      },
      {
       "output_type": "stream",
       "stream": "stdout",
       "text": [
        "\n",
        "-0.999999979855"
       ]
      },
      {
       "output_type": "stream",
       "stream": "stdout",
       "text": [
        "\n",
        "-0.999999981102"
       ]
      },
      {
       "output_type": "stream",
       "stream": "stdout",
       "text": [
        "\n",
        "-0.999999982049"
       ]
      },
      {
       "output_type": "stream",
       "stream": "stdout",
       "text": [
        "\n",
        "-0.999999982782"
       ]
      },
      {
       "output_type": "stream",
       "stream": "stdout",
       "text": [
        "\n",
        "-0.999999983361"
       ]
      },
      {
       "output_type": "stream",
       "stream": "stdout",
       "text": [
        "\n",
        "-0.999999983825"
       ]
      },
      {
       "output_type": "stream",
       "stream": "stdout",
       "text": [
        "\n",
        "-0.999999984202"
       ]
      },
      {
       "output_type": "stream",
       "stream": "stdout",
       "text": [
        "\n",
        "-0.999999984513"
       ]
      },
      {
       "output_type": "stream",
       "stream": "stdout",
       "text": [
        "\n",
        "-0.999999984772"
       ]
      },
      {
       "output_type": "stream",
       "stream": "stdout",
       "text": [
        "\n"
       ]
      }
     ],
     "prompt_number": 12
    },
    {
     "cell_type": "code",
     "collapsed": false,
     "input": [],
     "language": "python",
     "metadata": {},
     "outputs": []
    },
    {
     "cell_type": "code",
     "collapsed": false,
     "input": [
      "print(J2)"
     ],
     "language": "python",
     "metadata": {},
     "outputs": [
      {
       "output_type": "stream",
       "stream": "stdout",
       "text": [
        "[3.6102053721592582, 1.3406738186675564, 1.3965798786099504, 0.25890027495510626, -1.2153430105369247, -0.68710331420207649, -4.3951423652460999, 0.094516269357462213, -2.4153183534339742, 3.141532787400275, -4.3892199073080818, 0.85304170895477016, 1.5707305075214113, -4.1905157719730441, 0.072201128595401454, -3.97694191477648e-05, 4.6132228042403352, 0.29635050043829081, 1.5707365864634022, 2.2479218005570383, 0.26024070540380612, 1.570764605408806, 1.2562146713980116, 0.70341241252668329, -5.7635047139262647e-05, 5.4214093362070201, 0.94926539190349957]\n"
       ]
      }
     ],
     "prompt_number": 16
    },
    {
     "cell_type": "code",
     "collapsed": false,
     "input": [
      "from decimal import *\n",
      "getcontext().prec = 5\n",
      "i = s = 0\n",
      "N = 5\n",
      "Jopt = res.x\n",
      "for f in pauliMatr :\n",
      "    s += 1\n",
      "    c = 'J_' + f[0].name + f[1].name\n",
      "    J = zeros(shape=(N,N))\n",
      "    for k in interactions :\n",
      "        a = \"{0:.4f}\".format(Jopt[i])\n",
      "        val = float(a)\n",
      "        J[k[0],k[1]] = val\n",
      "        i += len(pauliMatr)\n",
      "    i = s\n",
      "    exec(c + '= asmatrix(J)')"
     ],
     "language": "python",
     "metadata": {},
     "outputs": [],
     "prompt_number": 10
    },
    {
     "cell_type": "code",
     "collapsed": false,
     "input": [
      "J_ZZ"
     ],
     "language": "python",
     "metadata": {},
     "outputs": [
      {
       "metadata": {},
       "output_type": "pyout",
       "prompt_number": 12,
       "text": [
        "matrix([[ 0.    , -1.203 , -1.2816,  4.7124,  1.5708],\n",
        "        [ 0.    ,  0.    ,  0.5573, -1.5708,  0.    ],\n",
        "        [ 0.    ,  0.    ,  0.    ,  4.7124, -3.1416],\n",
        "        [ 0.    ,  0.    ,  0.    ,  0.    ,  0.    ],\n",
        "        [ 0.    ,  0.    ,  0.    ,  0.    ,  0.    ]])"
       ]
      }
     ],
     "prompt_number": 12
    },
    {
     "cell_type": "code",
     "collapsed": false,
     "input": [
      "J_IZ"
     ],
     "language": "python",
     "metadata": {},
     "outputs": [
      {
       "metadata": {},
       "output_type": "pyout",
       "prompt_number": 14,
       "text": [
        "matrix([[ 0.    ,  1.5358, -3.3278,  0.976 ,  0.1937],\n",
        "        [ 0.    ,  0.    ,  4.1555,  0.8954,  0.6321],\n",
        "        [ 0.    ,  0.    ,  0.    ,  0.0069,  0.5697],\n",
        "        [ 0.    ,  0.    ,  0.    ,  0.    ,  0.    ],\n",
        "        [ 0.    ,  0.    ,  0.    ,  0.    ,  0.    ]])"
       ]
      }
     ],
     "prompt_number": 14
    },
    {
     "cell_type": "code",
     "collapsed": false,
     "input": [
      "J_ZI"
     ],
     "language": "python",
     "metadata": {},
     "outputs": [
      {
       "metadata": {},
       "output_type": "pyout",
       "prompt_number": 13,
       "text": [
        "matrix([[ 0.    , -0.8763,  1.4405, -0.7946, -0.5104],\n",
        "        [ 0.    ,  0.    ,  5.4885, -2.0332,  0.919 ],\n",
        "        [ 0.    ,  0.    ,  0.    ,  3.4092,  1.3442],\n",
        "        [ 0.    ,  0.    ,  0.    ,  0.    ,  0.    ],\n",
        "        [ 0.    ,  0.    ,  0.    ,  0.    ,  0.    ]])"
       ]
      }
     ],
     "prompt_number": 13
    }
   ],
   "metadata": {}
  }
 ]
}