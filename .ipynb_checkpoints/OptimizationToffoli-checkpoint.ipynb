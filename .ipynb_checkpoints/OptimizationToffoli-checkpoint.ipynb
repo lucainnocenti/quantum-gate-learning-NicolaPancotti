{
 "metadata": {
  "name": "",
  "signature": "sha256:bdfcd4fe7dc9477f4193358801a0293bc27c61c9f44f3799df52f4d75c45ff43"
 },
 "nbformat": 3,
 "nbformat_minor": 0,
 "worksheets": [
  {
   "cells": [
    {
     "cell_type": "code",
     "collapsed": false,
     "input": [
      "%pylab inline"
     ],
     "language": "python",
     "metadata": {},
     "outputs": [
      {
       "output_type": "stream",
       "stream": "stdout",
       "text": [
        "Populating the interactive namespace from numpy and matplotlib\n"
       ]
      }
     ],
     "prompt_number": 1
    },
    {
     "cell_type": "code",
     "collapsed": false,
     "input": [
      "from qutip import *\n",
      "from scipy import *\n",
      "from numpy import *\n",
      "from scipy.optimize import minimize\n",
      "import random\n",
      "from math import log\n",
      "\n",
      "from IPython.display import display\n",
      "\n",
      "from sympy.interactive import printing\n",
      "printing.init_printing()\n",
      "\n",
      "from collections import defaultdict\n",
      "\n",
      "from __future__ import division\n",
      "\n",
      "from pygame import mixer\n",
      "mixer.init() #you must initialize the mixer\n",
      "\n",
      "from random import randrange\n",
      "from datetime import datetime\n",
      "\n",
      "from tempfile import TemporaryFile\n",
      "arglikelihood = TemporaryFile()\n",
      "argFid = TemporaryFile()"
     ],
     "language": "python",
     "metadata": {},
     "outputs": [],
     "prompt_number": 2
    },
    {
     "cell_type": "code",
     "collapsed": false,
     "input": [
      "j = complex(0,1)\n",
      "\n",
      "class PAULI (object) :\n",
      "    \n",
      "    name = ''\n",
      "    op = Qobj()\n",
      "    \n",
      "    def __init__(self, name, PauliMatrix) :\n",
      "        self.name = name\n",
      "        self.op = PauliMatrix\n",
      "    \n",
      "def make_pauli_matrix (name, PauliMatrix) :\n",
      "    Pmatrix = PAULI (name, PauliMatrix)\n",
      "    return Pmatrix\n",
      "\n",
      " \n",
      "sx = make_pauli_matrix('X', sigmax())\n",
      "sy = make_pauli_matrix('Y', sigmay())\n",
      "sz = make_pauli_matrix('Z', sigmaz())\n",
      "I = make_pauli_matrix('I', qeye(2))\n",
      "\n",
      "######################################################\n",
      "#GATE and DIMENSION\n",
      "####################################################\n",
      "N = 4        # n of qubits\n",
      "\n",
      "GateMatrix = matrix([[1,0,0,0,0,0,0,0],\n",
      "                     [0,1,0,0,0,0,0,0],\n",
      "                     [0,0,1,0,0,0,0,0],\n",
      "                     [0,0,0,1,0,0,0,0],\n",
      "                     [0,0,0,0,1,0,0,0],\n",
      "                     [0,0,0,0,0,1,0,0],\n",
      "                     [0,0,0,0,0,0,1,0],\n",
      "                     [0,0,0,0,0,0,0,-1]]) #GATE ODD\n",
      "#G = Qobj(GateMatrix, dims = [[2,2,2],[2,2,2]])\n",
      "G = toffoli()\n",
      "\n",
      "interactions = [[0,1],[0,2],[0,3],[0,4],[1,2],[1,3],[1,4],[2,3],[2,4]]\n",
      "\n",
      "#######################################################################\n",
      "#USEFUL DEFINITIONS\n",
      "#######################################################################\n",
      "\n",
      "dimG = G.shape[0]  \n",
      "CareStateDim = int(log(dimG,2))\n",
      "\n",
      "h = N-CareStateDim\n",
      "\n",
      "sq2 = 1/sqrt(2)\n",
      "\n",
      "if h > 1 :\n",
      "    dontCareStates = [sq2*basis(2,1) + sq2*basis(2,0)]*(h)\n",
      "    dontCareIdentity = [qeye(2)]*(h)\n",
      "else :\n",
      "    dontCareStates = [sq2*basis(2,1) + sq2*basis(2,0)]\n",
      "    dontCareIdentity = [qeye(2)]\n",
      "\n",
      "\n",
      "dCS = tensor(dontCareStates)\n",
      "dCI = tensor(dontCareIdentity)\n",
      "\n",
      "###########################################################################\n",
      "#FUNCTIONS\n",
      "###########################################################################\n",
      "from pygame import mixer\n",
      "mixer.init() #you must initialize the mixer\n",
      "alert = mixer.Sound('small-bell-ringing-02.wav') \n",
      "\n",
      "def Likelihood(J, rho_0) : #Likelihood function\n",
      "    \n",
      "    Ak = G*rho_0\n",
      "    #A = tensor(Ak*Ak.dag(), dCI)\n",
      "    A = Ak*Ak.dag()\n",
      "    \n",
      "    rho = tensor(rho_0, dCS)\n",
      "    H = HamiltonianAB(J)\n",
      "    U = (-j*H).expm()\n",
      "    Btemp = U*rho\n",
      "    Bk = Btemp*Btemp.dag()\n",
      "    B = Bk.ptrace([0,1,2])\n",
      "    \n",
      "    out = (A*B).tr()\n",
      "\n",
      "    return abs(out)\n",
      "\n",
      "\n",
      "\n",
      "def HamiltonianAB(x,N) :\n",
      "    k = 0\n",
      "    H = 0\n",
      "    sx = sigmax()\n",
      "    sz = sigmaz()\n",
      "    for q in [sx,sz]:    \n",
      "        temp = 0\n",
      "        OpChain = [qeye(2)]*N\n",
      "        OpChain[0] = q\n",
      "        OpChain[1] = q\n",
      "        temp += x[k]*tensor(OpChain)\n",
      "        k+=1        \n",
      "        H += temp \n",
      "    for p in [2,3]:\n",
      "        for q in [sx,sz]:\n",
      "            temp = 0\n",
      "            OpChain = [qeye(2)]*N\n",
      "            OpChain[0] = q\n",
      "            OpChain[p] = q\n",
      "            temp += x[k]*tensor(OpChain)\n",
      "            OpChain = [qeye(2)]*N\n",
      "            OpChain[1] = q\n",
      "            OpChain[p] = q\n",
      "            temp += x[k]*tensor(OpChain)\n",
      "            k += 1\n",
      "            H += temp \n",
      "    for q in [sx,sz]:\n",
      "        temp = 0\n",
      "        OpChain = [qeye(2)]*N\n",
      "        OpChain[2] = q\n",
      "        OpChain[3] = q\n",
      "        temp += x[k]*tensor(OpChain)\n",
      "        k+=1        \n",
      "        H += temp \n",
      "    for i in range(4) :\n",
      "        temp = 0\n",
      "        OpChain = [qeye(2)]*N\n",
      "        OpChain[i] = sz\n",
      "        temp += x[k]*tensor(OpChain)\n",
      "        H += temp \n",
      "        k += 1\n",
      "    \n",
      "    temp = 0\n",
      "    OpChain = [qeye(2)]*N\n",
      "    OpChain[3] = sx\n",
      "    temp += x[k]*tensor(OpChain)#last one\n",
      "    H += temp \n",
      "\n",
      "    \n",
      "    return H"
     ],
     "language": "python",
     "metadata": {},
     "outputs": [],
     "prompt_number": 3
    },
    {
     "cell_type": "code",
     "collapsed": false,
     "input": [
      "###########################################\n",
      "##Functions to implement the Fidelity\n",
      "###########################################\n",
      "\n",
      "def getGate (G): #extract non zero elements of the gate and save them in s\n",
      "    \n",
      "    s = []\n",
      "\n",
      "    rows = G.shape[0]\n",
      "    colums = G.shape[1]\n",
      "    \n",
      "    for i in range(rows):\n",
      "        for j in range(colums):\n",
      "            if G[i][0][j] != 0 :\n",
      "                s.append([i,j])\n",
      "    return s\n",
      "\n",
      "def bin(a):  #binary representation of a number a: useful to write the computational basis \n",
      "    s=''                                          #inside the Fidelity\n",
      "    t={'0':'000','1':'001','2':'010','3':'011',\n",
      "       '4':'100','5':'101','6':'110','7':'111'}\n",
      "    for c in oct(a)[1:]:\n",
      "            s+=t[c]\n",
      "    return s\n",
      "\n",
      "def getBasis (a) : #get the basis states according to the binary of a: 10 -> |10>\n",
      "    \n",
      "    if a == 0:\n",
      "          B = [basis(2,0)]*(CareStateDim)\n",
      "          return tensor(B)\n",
      "    \n",
      "    c = bin(a)\n",
      "    if dimG == 8:\n",
      "        return tensor(basis(2,int(c[0])) , basis(2,int(c[1])), basis(2,int(c[2])))\n",
      "    if dimG == 4:\n",
      "        return tensor(basis(2,int(c[1])) , basis(2,int(c[2])))\n",
      "    \n",
      "def Fidelity (J):  #Fidelity function\n",
      "    \n",
      "    s = getGate(G)\n",
      "    H = HamiltonianAB(J,N)\n",
      "    Fid = 1/(dimG + 1)\n",
      "    U = (-j*H).expm()\n",
      "    Udag = U.dag()\n",
      "    \n",
      "    for x in s :\n",
      "        for y in s:\n",
      "            \n",
      "            #definition of the basis kets and bras.             \n",
      "            bra_i = getBasis(x[0]).dag()\n",
      "            ket_j = getBasis(y[0])\n",
      "            ket_k = getBasis(x[1])\n",
      "            bra_l = getBasis(y[1]).dag()\n",
      "            \n",
      "            Epsilon = U*tensor(ket_k*bra_l, dCS*dCS.dag())*Udag\n",
      "            Eps_ijkl = bra_i*(Epsilon.ptrace([0,1,2]))*ket_j\n",
      "           \n",
      "            \n",
      "            Gstar_ik = G[x[0],x[1]].conjugate()\n",
      "            G_jl = G[y[0],y[1]]\n",
      "            \n",
      "            \n",
      "            fidStep = (1/(dimG*(dimG+1)))*Gstar_ik*Eps_ijkl*G_jl     \n",
      "            Fid += fidStep[0][0][0]\n",
      "            \n",
      "    return abs(Fid)"
     ],
     "language": "python",
     "metadata": {},
     "outputs": [],
     "prompt_number": 4
    },
    {
     "cell_type": "code",
     "collapsed": false,
     "input": [
      "Jopt=[-0.10481106664681043, 2.6782202773726618, 2.3008830709299049, 0.035642574187321169, 2.1633153851433624, -3.9846423304309666e-05, 0.36732120650926314, -5.9447872793025524e-05, 0.76225143377515936, 0.66639070540281853, 0.0057909620298417733, -4.8947288747871592e-05, 1.5610569398948901]\n",
      "Fidelity(Jopt)"
     ],
     "language": "python",
     "metadata": {},
     "outputs": [
      {
       "latex": [
        "$$0.881121091508$$"
       ],
       "metadata": {},
       "output_type": "pyout",
       "png": "[encoded data removed]",
       "prompt_number": 15,
       "text": [
        "0.881121091508"
       ]
      }
     ],
     "prompt_number": 15
    },
    {
     "cell_type": "code",
     "collapsed": false,
     "input": [
      "def LocGradient(J) :\n",
      "    \n",
      "    dL = []\n",
      "    delta = 0.0001\n",
      "    for s in range(len(J)) :\n",
      "        JdJ = [x for x in J]\n",
      "        JdJ[s] += delta\n",
      "        \n",
      "        dL.append((Fidelity(JdJ) - Fidelity(J))/delta)\n",
      "    \n",
      "    return dL\n",
      "\n",
      "def GradDesc(Jopt) :\n",
      "    \n",
      "    J = [x for x in Jopt]\n",
      "    check = 0\n",
      "    s = 1\n",
      "    i = 1\n",
      "    g = 0\n",
      "    \n",
      "    while True :   \n",
      "        \n",
      "        g = s\n",
      "        grad = LocGradient(J)\n",
      "        J = [J[k] + grad[k]/i for k in range(len(J))]\n",
      "    \n",
      "        s = Fidelity(J) \n",
      "        t.write(str(i)+'    '+str(s)+'\\n')\n",
      "        \n",
      "\n",
      "        print(s)\n",
      "        \n",
      "        if abs(s-g) < 0.00005 :\n",
      "            check += 1    \n",
      "            if check == 20:\n",
      "                break\n",
      "        \n",
      "        i += 1\n",
      "       \n",
      "    return J\n",
      "\n",
      "t = open('toffGRAD', 'w+')\n",
      "J2 = GradDesc(Jopt)\n",
      "t.close()"
     ],
     "language": "python",
     "metadata": {},
     "outputs": [
      {
       "output_type": "stream",
       "stream": "stdout",
       "text": [
        "0.919532965563\n",
        "0.919804067719"
       ]
      },
      {
       "output_type": "stream",
       "stream": "stdout",
       "text": [
        "\n",
        "0.919895738326"
       ]
      },
      {
       "output_type": "stream",
       "stream": "stdout",
       "text": [
        "\n",
        "0.919899733508"
       ]
      },
      {
       "output_type": "stream",
       "stream": "stdout",
       "text": [
        "\n",
        "0.919901531696"
       ]
      },
      {
       "output_type": "stream",
       "stream": "stdout",
       "text": [
        "\n",
        "0.919902563421"
       ]
      },
      {
       "output_type": "stream",
       "stream": "stdout",
       "text": [
        "\n",
        "0.919903219451"
       ]
      },
      {
       "output_type": "stream",
       "stream": "stdout",
       "text": [
        "\n",
        "0.919903666139"
       ]
      },
      {
       "output_type": "stream",
       "stream": "stdout",
       "text": [
        "\n",
        "0.919903985874"
       ]
      },
      {
       "output_type": "stream",
       "stream": "stdout",
       "text": [
        "\n",
        "0.919904223673"
       ]
      },
      {
       "output_type": "stream",
       "stream": "stdout",
       "text": [
        "\n",
        "0.919904405982"
       ]
      },
      {
       "output_type": "stream",
       "stream": "stdout",
       "text": [
        "\n",
        "0.919904549238"
       ]
      },
      {
       "output_type": "stream",
       "stream": "stdout",
       "text": [
        "\n",
        "0.919904664131"
       ]
      },
      {
       "ename": "KeyboardInterrupt",
       "evalue": "",
       "output_type": "pyerr",
       "traceback": [
        "\u001b[0;31m---------------------------------------------------------------------------\u001b[0m\n\u001b[0;31mKeyboardInterrupt\u001b[0m                         Traceback (most recent call last)",
        "\u001b[0;32m<ipython-input-9-82274a04e9cf>\u001b[0m in \u001b[0;36m<module>\u001b[0;34m()\u001b[0m\n\u001b[1;32m     41\u001b[0m \u001b[0;34m\u001b[0m\u001b[0m\n\u001b[1;32m     42\u001b[0m \u001b[0mt\u001b[0m \u001b[0;34m=\u001b[0m \u001b[0mopen\u001b[0m\u001b[0;34m(\u001b[0m\u001b[0;34m'toffGRAD'\u001b[0m\u001b[0;34m,\u001b[0m \u001b[0;34m'w+'\u001b[0m\u001b[0;34m)\u001b[0m\u001b[0;34m\u001b[0m\u001b[0m\n\u001b[0;32m---> 43\u001b[0;31m \u001b[0mJ2\u001b[0m \u001b[0;34m=\u001b[0m \u001b[0mGradDesc\u001b[0m\u001b[0;34m(\u001b[0m\u001b[0mJopt\u001b[0m\u001b[0;34m)\u001b[0m\u001b[0;34m\u001b[0m\u001b[0m\n\u001b[0m\u001b[1;32m     44\u001b[0m \u001b[0mt\u001b[0m\u001b[0;34m.\u001b[0m\u001b[0mclose\u001b[0m\u001b[0;34m(\u001b[0m\u001b[0;34m)\u001b[0m\u001b[0;34m\u001b[0m\u001b[0m\n",
        "\u001b[0;32m<ipython-input-9-82274a04e9cf>\u001b[0m in \u001b[0;36mGradDesc\u001b[0;34m(Jopt)\u001b[0m\n\u001b[1;32m     22\u001b[0m \u001b[0;34m\u001b[0m\u001b[0m\n\u001b[1;32m     23\u001b[0m         \u001b[0mg\u001b[0m \u001b[0;34m=\u001b[0m \u001b[0ms\u001b[0m\u001b[0;34m\u001b[0m\u001b[0m\n\u001b[0;32m---> 24\u001b[0;31m         \u001b[0mgrad\u001b[0m \u001b[0;34m=\u001b[0m \u001b[0mLocGradient\u001b[0m\u001b[0;34m(\u001b[0m\u001b[0mJ\u001b[0m\u001b[0;34m)\u001b[0m\u001b[0;34m\u001b[0m\u001b[0m\n\u001b[0m\u001b[1;32m     25\u001b[0m         \u001b[0mJ\u001b[0m \u001b[0;34m=\u001b[0m \u001b[0;34m[\u001b[0m\u001b[0mJ\u001b[0m\u001b[0;34m[\u001b[0m\u001b[0mk\u001b[0m\u001b[0;34m]\u001b[0m \u001b[0;34m+\u001b[0m \u001b[0mgrad\u001b[0m\u001b[0;34m[\u001b[0m\u001b[0mk\u001b[0m\u001b[0;34m]\u001b[0m\u001b[0;34m/\u001b[0m\u001b[0mi\u001b[0m \u001b[0;32mfor\u001b[0m \u001b[0mk\u001b[0m \u001b[0;32min\u001b[0m \u001b[0mrange\u001b[0m\u001b[0;34m(\u001b[0m\u001b[0mlen\u001b[0m\u001b[0;34m(\u001b[0m\u001b[0mJ\u001b[0m\u001b[0;34m)\u001b[0m\u001b[0;34m)\u001b[0m\u001b[0;34m]\u001b[0m\u001b[0;34m\u001b[0m\u001b[0m\n\u001b[1;32m     26\u001b[0m \u001b[0;34m\u001b[0m\u001b[0m\n",
        "\u001b[0;32m<ipython-input-9-82274a04e9cf>\u001b[0m in \u001b[0;36mLocGradient\u001b[0;34m(J)\u001b[0m\n\u001b[1;32m      7\u001b[0m         \u001b[0mJdJ\u001b[0m\u001b[0;34m[\u001b[0m\u001b[0ms\u001b[0m\u001b[0;34m]\u001b[0m \u001b[0;34m+=\u001b[0m \u001b[0mdelta\u001b[0m\u001b[0;34m\u001b[0m\u001b[0m\n\u001b[1;32m      8\u001b[0m \u001b[0;34m\u001b[0m\u001b[0m\n\u001b[0;32m----> 9\u001b[0;31m         \u001b[0mdL\u001b[0m\u001b[0;34m.\u001b[0m\u001b[0mappend\u001b[0m\u001b[0;34m(\u001b[0m\u001b[0;34m(\u001b[0m\u001b[0mFidelity\u001b[0m\u001b[0;34m(\u001b[0m\u001b[0mJdJ\u001b[0m\u001b[0;34m)\u001b[0m \u001b[0;34m-\u001b[0m \u001b[0mFidelity\u001b[0m\u001b[0;34m(\u001b[0m\u001b[0mJ\u001b[0m\u001b[0;34m)\u001b[0m\u001b[0;34m)\u001b[0m\u001b[0;34m/\u001b[0m\u001b[0mdelta\u001b[0m\u001b[0;34m)\u001b[0m\u001b[0;34m\u001b[0m\u001b[0m\n\u001b[0m\u001b[1;32m     10\u001b[0m \u001b[0;34m\u001b[0m\u001b[0m\n\u001b[1;32m     11\u001b[0m     \u001b[0;32mreturn\u001b[0m \u001b[0mdL\u001b[0m\u001b[0;34m\u001b[0m\u001b[0m\n",
        "\u001b[0;32m<ipython-input-4-591ec645980a>\u001b[0m in \u001b[0;36mFidelity\u001b[0;34m(J)\u001b[0m\n\u001b[1;32m     48\u001b[0m \u001b[0;34m\u001b[0m\u001b[0m\n\u001b[1;32m     49\u001b[0m             \u001b[0;31m#definition of the basis kets and bras.\u001b[0m\u001b[0;34m\u001b[0m\u001b[0;34m\u001b[0m\u001b[0m\n\u001b[0;32m---> 50\u001b[0;31m             \u001b[0mbra_i\u001b[0m \u001b[0;34m=\u001b[0m \u001b[0mgetBasis\u001b[0m\u001b[0;34m(\u001b[0m\u001b[0mx\u001b[0m\u001b[0;34m[\u001b[0m\u001b[0;36m0\u001b[0m\u001b[0;34m]\u001b[0m\u001b[0;34m)\u001b[0m\u001b[0;34m.\u001b[0m\u001b[0mdag\u001b[0m\u001b[0;34m(\u001b[0m\u001b[0;34m)\u001b[0m\u001b[0;34m\u001b[0m\u001b[0m\n\u001b[0m\u001b[1;32m     51\u001b[0m             \u001b[0mket_j\u001b[0m \u001b[0;34m=\u001b[0m \u001b[0mgetBasis\u001b[0m\u001b[0;34m(\u001b[0m\u001b[0my\u001b[0m\u001b[0;34m[\u001b[0m\u001b[0;36m0\u001b[0m\u001b[0;34m]\u001b[0m\u001b[0;34m)\u001b[0m\u001b[0;34m\u001b[0m\u001b[0m\n\u001b[1;32m     52\u001b[0m             \u001b[0mket_k\u001b[0m \u001b[0;34m=\u001b[0m \u001b[0mgetBasis\u001b[0m\u001b[0;34m(\u001b[0m\u001b[0mx\u001b[0m\u001b[0;34m[\u001b[0m\u001b[0;36m1\u001b[0m\u001b[0;34m]\u001b[0m\u001b[0;34m)\u001b[0m\u001b[0;34m\u001b[0m\u001b[0m\n",
        "\u001b[0;32m<ipython-input-4-591ec645980a>\u001b[0m in \u001b[0;36mgetBasis\u001b[0;34m(a)\u001b[0m\n\u001b[1;32m     32\u001b[0m     \u001b[0mc\u001b[0m \u001b[0;34m=\u001b[0m \u001b[0mbin\u001b[0m\u001b[0;34m(\u001b[0m\u001b[0ma\u001b[0m\u001b[0;34m)\u001b[0m\u001b[0;34m\u001b[0m\u001b[0m\n\u001b[1;32m     33\u001b[0m     \u001b[0;32mif\u001b[0m \u001b[0mdimG\u001b[0m \u001b[0;34m==\u001b[0m \u001b[0;36m8\u001b[0m\u001b[0;34m:\u001b[0m\u001b[0;34m\u001b[0m\u001b[0m\n\u001b[0;32m---> 34\u001b[0;31m         \u001b[0;32mreturn\u001b[0m \u001b[0mtensor\u001b[0m\u001b[0;34m(\u001b[0m\u001b[0mbasis\u001b[0m\u001b[0;34m(\u001b[0m\u001b[0;36m2\u001b[0m\u001b[0;34m,\u001b[0m\u001b[0mint\u001b[0m\u001b[0;34m(\u001b[0m\u001b[0mc\u001b[0m\u001b[0;34m[\u001b[0m\u001b[0;36m0\u001b[0m\u001b[0;34m]\u001b[0m\u001b[0;34m)\u001b[0m\u001b[0;34m)\u001b[0m \u001b[0;34m,\u001b[0m \u001b[0mbasis\u001b[0m\u001b[0;34m(\u001b[0m\u001b[0;36m2\u001b[0m\u001b[0;34m,\u001b[0m\u001b[0mint\u001b[0m\u001b[0;34m(\u001b[0m\u001b[0mc\u001b[0m\u001b[0;34m[\u001b[0m\u001b[0;36m1\u001b[0m\u001b[0;34m]\u001b[0m\u001b[0;34m)\u001b[0m\u001b[0;34m)\u001b[0m\u001b[0;34m,\u001b[0m \u001b[0mbasis\u001b[0m\u001b[0;34m(\u001b[0m\u001b[0;36m2\u001b[0m\u001b[0;34m,\u001b[0m\u001b[0mint\u001b[0m\u001b[0;34m(\u001b[0m\u001b[0mc\u001b[0m\u001b[0;34m[\u001b[0m\u001b[0;36m2\u001b[0m\u001b[0;34m]\u001b[0m\u001b[0;34m)\u001b[0m\u001b[0;34m)\u001b[0m\u001b[0;34m)\u001b[0m\u001b[0;34m\u001b[0m\u001b[0m\n\u001b[0m\u001b[1;32m     35\u001b[0m     \u001b[0;32mif\u001b[0m \u001b[0mdimG\u001b[0m \u001b[0;34m==\u001b[0m \u001b[0;36m4\u001b[0m\u001b[0;34m:\u001b[0m\u001b[0;34m\u001b[0m\u001b[0m\n\u001b[1;32m     36\u001b[0m         \u001b[0;32mreturn\u001b[0m \u001b[0mtensor\u001b[0m\u001b[0;34m(\u001b[0m\u001b[0mbasis\u001b[0m\u001b[0;34m(\u001b[0m\u001b[0;36m2\u001b[0m\u001b[0;34m,\u001b[0m\u001b[0mint\u001b[0m\u001b[0;34m(\u001b[0m\u001b[0mc\u001b[0m\u001b[0;34m[\u001b[0m\u001b[0;36m1\u001b[0m\u001b[0;34m]\u001b[0m\u001b[0;34m)\u001b[0m\u001b[0;34m)\u001b[0m \u001b[0;34m,\u001b[0m \u001b[0mbasis\u001b[0m\u001b[0;34m(\u001b[0m\u001b[0;36m2\u001b[0m\u001b[0;34m,\u001b[0m\u001b[0mint\u001b[0m\u001b[0;34m(\u001b[0m\u001b[0mc\u001b[0m\u001b[0;34m[\u001b[0m\u001b[0;36m2\u001b[0m\u001b[0;34m]\u001b[0m\u001b[0;34m)\u001b[0m\u001b[0;34m)\u001b[0m\u001b[0;34m)\u001b[0m\u001b[0;34m\u001b[0m\u001b[0m\n",
        "\u001b[0;32m/usr/local/lib/python2.7/dist-packages/qutip/tensor.pyc\u001b[0m in \u001b[0;36mtensor\u001b[0;34m(*args)\u001b[0m\n\u001b[1;32m    108\u001b[0m             \u001b[0mout\u001b[0m\u001b[0;34m.\u001b[0m\u001b[0mdims\u001b[0m \u001b[0;34m=\u001b[0m \u001b[0mq\u001b[0m\u001b[0;34m.\u001b[0m\u001b[0mdims\u001b[0m\u001b[0;34m\u001b[0m\u001b[0m\n\u001b[1;32m    109\u001b[0m         \u001b[0;32melse\u001b[0m\u001b[0;34m:\u001b[0m\u001b[0;34m\u001b[0m\u001b[0m\n\u001b[0;32m--> 110\u001b[0;31m             \u001b[0mout\u001b[0m\u001b[0;34m.\u001b[0m\u001b[0mdata\u001b[0m \u001b[0;34m=\u001b[0m \u001b[0msp\u001b[0m\u001b[0;34m.\u001b[0m\u001b[0mkron\u001b[0m\u001b[0;34m(\u001b[0m\u001b[0mout\u001b[0m\u001b[0;34m.\u001b[0m\u001b[0mdata\u001b[0m\u001b[0;34m,\u001b[0m \u001b[0mq\u001b[0m\u001b[0;34m.\u001b[0m\u001b[0mdata\u001b[0m\u001b[0;34m,\u001b[0m \u001b[0mformat\u001b[0m\u001b[0;34m=\u001b[0m\u001b[0;34m'csr'\u001b[0m\u001b[0;34m)\u001b[0m\u001b[0;34m\u001b[0m\u001b[0m\n\u001b[0m\u001b[1;32m    111\u001b[0m             \u001b[0mout\u001b[0m\u001b[0;34m.\u001b[0m\u001b[0mdims\u001b[0m \u001b[0;34m=\u001b[0m \u001b[0;34m[\u001b[0m\u001b[0mout\u001b[0m\u001b[0;34m.\u001b[0m\u001b[0mdims\u001b[0m\u001b[0;34m[\u001b[0m\u001b[0;36m0\u001b[0m\u001b[0;34m]\u001b[0m \u001b[0;34m+\u001b[0m \u001b[0mq\u001b[0m\u001b[0;34m.\u001b[0m\u001b[0mdims\u001b[0m\u001b[0;34m[\u001b[0m\u001b[0;36m0\u001b[0m\u001b[0;34m]\u001b[0m\u001b[0;34m,\u001b[0m \u001b[0mout\u001b[0m\u001b[0;34m.\u001b[0m\u001b[0mdims\u001b[0m\u001b[0;34m[\u001b[0m\u001b[0;36m1\u001b[0m\u001b[0;34m]\u001b[0m \u001b[0;34m+\u001b[0m \u001b[0mq\u001b[0m\u001b[0;34m.\u001b[0m\u001b[0mdims\u001b[0m\u001b[0;34m[\u001b[0m\u001b[0;36m1\u001b[0m\u001b[0;34m]\u001b[0m\u001b[0;34m]\u001b[0m\u001b[0;34m\u001b[0m\u001b[0m\n\u001b[1;32m    112\u001b[0m \u001b[0;34m\u001b[0m\u001b[0m\n",
        "\u001b[0;32m/usr/lib/python2.7/dist-packages/scipy/sparse/construct.pyc\u001b[0m in \u001b[0;36mkron\u001b[0;34m(A, B, format)\u001b[0m\n\u001b[1;32m    304\u001b[0m \u001b[0;34m\u001b[0m\u001b[0m\n\u001b[1;32m    305\u001b[0m     \"\"\"\n\u001b[0;32m--> 306\u001b[0;31m     \u001b[0mB\u001b[0m \u001b[0;34m=\u001b[0m \u001b[0mcoo_matrix\u001b[0m\u001b[0;34m(\u001b[0m\u001b[0mB\u001b[0m\u001b[0;34m)\u001b[0m\u001b[0;34m\u001b[0m\u001b[0m\n\u001b[0m\u001b[1;32m    307\u001b[0m \u001b[0;34m\u001b[0m\u001b[0m\n\u001b[1;32m    308\u001b[0m     \u001b[0;32mif\u001b[0m \u001b[0;34m(\u001b[0m\u001b[0mformat\u001b[0m \u001b[0;32mis\u001b[0m \u001b[0mNone\u001b[0m \u001b[0;32mor\u001b[0m \u001b[0mformat\u001b[0m \u001b[0;34m==\u001b[0m \u001b[0;34m\"bsr\"\u001b[0m\u001b[0;34m)\u001b[0m \u001b[0;32mand\u001b[0m \u001b[0;36m2\u001b[0m\u001b[0;34m*\u001b[0m\u001b[0mB\u001b[0m\u001b[0;34m.\u001b[0m\u001b[0mnnz\u001b[0m \u001b[0;34m>=\u001b[0m \u001b[0mB\u001b[0m\u001b[0;34m.\u001b[0m\u001b[0mshape\u001b[0m\u001b[0;34m[\u001b[0m\u001b[0;36m0\u001b[0m\u001b[0;34m]\u001b[0m \u001b[0;34m*\u001b[0m \u001b[0mB\u001b[0m\u001b[0;34m.\u001b[0m\u001b[0mshape\u001b[0m\u001b[0;34m[\u001b[0m\u001b[0;36m1\u001b[0m\u001b[0;34m]\u001b[0m\u001b[0;34m:\u001b[0m\u001b[0;34m\u001b[0m\u001b[0m\n",
        "\u001b[0;32m/usr/lib/python2.7/dist-packages/scipy/sparse/coo.pyc\u001b[0m in \u001b[0;36m__init__\u001b[0;34m(self, arg1, shape, dtype, copy)\u001b[0m\n\u001b[1;32m    168\u001b[0m                     \u001b[0mself\u001b[0m\u001b[0;34m.\u001b[0m\u001b[0mshape\u001b[0m \u001b[0;34m=\u001b[0m \u001b[0marg1\u001b[0m\u001b[0;34m.\u001b[0m\u001b[0mshape\u001b[0m\u001b[0;34m\u001b[0m\u001b[0m\n\u001b[1;32m    169\u001b[0m                 \u001b[0;32melse\u001b[0m\u001b[0;34m:\u001b[0m\u001b[0;34m\u001b[0m\u001b[0m\n\u001b[0;32m--> 170\u001b[0;31m                     \u001b[0mcoo\u001b[0m \u001b[0;34m=\u001b[0m \u001b[0marg1\u001b[0m\u001b[0;34m.\u001b[0m\u001b[0mtocoo\u001b[0m\u001b[0;34m(\u001b[0m\u001b[0;34m)\u001b[0m\u001b[0;34m\u001b[0m\u001b[0m\n\u001b[0m\u001b[1;32m    171\u001b[0m                     \u001b[0mself\u001b[0m\u001b[0;34m.\u001b[0m\u001b[0mrow\u001b[0m \u001b[0;34m=\u001b[0m \u001b[0mcoo\u001b[0m\u001b[0;34m.\u001b[0m\u001b[0mrow\u001b[0m\u001b[0;34m\u001b[0m\u001b[0m\n\u001b[1;32m    172\u001b[0m                     \u001b[0mself\u001b[0m\u001b[0;34m.\u001b[0m\u001b[0mcol\u001b[0m \u001b[0;34m=\u001b[0m \u001b[0mcoo\u001b[0m\u001b[0;34m.\u001b[0m\u001b[0mcol\u001b[0m\u001b[0;34m\u001b[0m\u001b[0m\n",
        "\u001b[0;32m/usr/lib/python2.7/dist-packages/scipy/sparse/compressed.pyc\u001b[0m in \u001b[0;36mtocoo\u001b[0;34m(self, copy)\u001b[0m\n\u001b[1;32m    784\u001b[0m \u001b[0;34m\u001b[0m\u001b[0m\n\u001b[1;32m    785\u001b[0m         \u001b[0;32mfrom\u001b[0m \u001b[0;34m.\u001b[0m\u001b[0mcoo\u001b[0m \u001b[0;32mimport\u001b[0m \u001b[0mcoo_matrix\u001b[0m\u001b[0;34m\u001b[0m\u001b[0m\n\u001b[0;32m--> 786\u001b[0;31m         \u001b[0;32mreturn\u001b[0m \u001b[0mcoo_matrix\u001b[0m\u001b[0;34m(\u001b[0m\u001b[0;34m(\u001b[0m\u001b[0mdata\u001b[0m\u001b[0;34m,\u001b[0m\u001b[0;34m(\u001b[0m\u001b[0mrow\u001b[0m\u001b[0;34m,\u001b[0m\u001b[0mcol\u001b[0m\u001b[0;34m)\u001b[0m\u001b[0;34m)\u001b[0m\u001b[0;34m,\u001b[0m \u001b[0mself\u001b[0m\u001b[0;34m.\u001b[0m\u001b[0mshape\u001b[0m\u001b[0;34m)\u001b[0m\u001b[0;34m\u001b[0m\u001b[0m\n\u001b[0m\u001b[1;32m    787\u001b[0m \u001b[0;34m\u001b[0m\u001b[0m\n\u001b[1;32m    788\u001b[0m     \u001b[0;32mdef\u001b[0m \u001b[0mtoarray\u001b[0m\u001b[0;34m(\u001b[0m\u001b[0mself\u001b[0m\u001b[0;34m,\u001b[0m \u001b[0morder\u001b[0m\u001b[0;34m=\u001b[0m\u001b[0mNone\u001b[0m\u001b[0;34m,\u001b[0m \u001b[0mout\u001b[0m\u001b[0;34m=\u001b[0m\u001b[0mNone\u001b[0m\u001b[0;34m)\u001b[0m\u001b[0;34m:\u001b[0m\u001b[0;34m\u001b[0m\u001b[0m\n",
        "\u001b[0;32m/usr/lib/python2.7/dist-packages/scipy/sparse/coo.pyc\u001b[0m in \u001b[0;36m__init__\u001b[0;34m(self, arg1, shape, dtype, copy)\u001b[0m\n\u001b[1;32m    191\u001b[0m             \u001b[0mself\u001b[0m\u001b[0;34m.\u001b[0m\u001b[0mdata\u001b[0m \u001b[0;34m=\u001b[0m \u001b[0mself\u001b[0m\u001b[0;34m.\u001b[0m\u001b[0mdata\u001b[0m\u001b[0;34m.\u001b[0m\u001b[0mastype\u001b[0m\u001b[0;34m(\u001b[0m\u001b[0mdtype\u001b[0m\u001b[0;34m)\u001b[0m\u001b[0;34m\u001b[0m\u001b[0m\n\u001b[1;32m    192\u001b[0m \u001b[0;34m\u001b[0m\u001b[0m\n\u001b[0;32m--> 193\u001b[0;31m         \u001b[0mself\u001b[0m\u001b[0;34m.\u001b[0m\u001b[0m_check\u001b[0m\u001b[0;34m(\u001b[0m\u001b[0;34m)\u001b[0m\u001b[0;34m\u001b[0m\u001b[0m\n\u001b[0m\u001b[1;32m    194\u001b[0m \u001b[0;34m\u001b[0m\u001b[0m\n\u001b[1;32m    195\u001b[0m     \u001b[0;32mdef\u001b[0m \u001b[0mgetnnz\u001b[0m\u001b[0;34m(\u001b[0m\u001b[0mself\u001b[0m\u001b[0;34m)\u001b[0m\u001b[0;34m:\u001b[0m\u001b[0;34m\u001b[0m\u001b[0m\n",
        "\u001b[0;32m/usr/lib/python2.7/dist-packages/scipy/sparse/coo.pyc\u001b[0m in \u001b[0;36m_check\u001b[0;34m(self)\u001b[0m\n\u001b[1;32m    224\u001b[0m             \u001b[0;32mif\u001b[0m \u001b[0mself\u001b[0m\u001b[0;34m.\u001b[0m\u001b[0mrow\u001b[0m\u001b[0;34m.\u001b[0m\u001b[0mmax\u001b[0m\u001b[0;34m(\u001b[0m\u001b[0;34m)\u001b[0m \u001b[0;34m>=\u001b[0m \u001b[0mself\u001b[0m\u001b[0;34m.\u001b[0m\u001b[0mshape\u001b[0m\u001b[0;34m[\u001b[0m\u001b[0;36m0\u001b[0m\u001b[0;34m]\u001b[0m\u001b[0;34m:\u001b[0m\u001b[0;34m\u001b[0m\u001b[0m\n\u001b[1;32m    225\u001b[0m                 \u001b[0;32mraise\u001b[0m \u001b[0mValueError\u001b[0m\u001b[0;34m(\u001b[0m\u001b[0;34m'row index exceedes matrix dimensions'\u001b[0m\u001b[0;34m)\u001b[0m\u001b[0;34m\u001b[0m\u001b[0m\n\u001b[0;32m--> 226\u001b[0;31m             \u001b[0;32mif\u001b[0m \u001b[0mself\u001b[0m\u001b[0;34m.\u001b[0m\u001b[0mcol\u001b[0m\u001b[0;34m.\u001b[0m\u001b[0mmax\u001b[0m\u001b[0;34m(\u001b[0m\u001b[0;34m)\u001b[0m \u001b[0;34m>=\u001b[0m \u001b[0mself\u001b[0m\u001b[0;34m.\u001b[0m\u001b[0mshape\u001b[0m\u001b[0;34m[\u001b[0m\u001b[0;36m1\u001b[0m\u001b[0;34m]\u001b[0m\u001b[0;34m:\u001b[0m\u001b[0;34m\u001b[0m\u001b[0m\n\u001b[0m\u001b[1;32m    227\u001b[0m                 \u001b[0;32mraise\u001b[0m \u001b[0mValueError\u001b[0m\u001b[0;34m(\u001b[0m\u001b[0;34m'column index exceedes matrix dimensions'\u001b[0m\u001b[0;34m)\u001b[0m\u001b[0;34m\u001b[0m\u001b[0m\n\u001b[1;32m    228\u001b[0m             \u001b[0;32mif\u001b[0m \u001b[0mself\u001b[0m\u001b[0;34m.\u001b[0m\u001b[0mrow\u001b[0m\u001b[0;34m.\u001b[0m\u001b[0mmin\u001b[0m\u001b[0;34m(\u001b[0m\u001b[0;34m)\u001b[0m \u001b[0;34m<\u001b[0m \u001b[0;36m0\u001b[0m\u001b[0;34m:\u001b[0m\u001b[0;34m\u001b[0m\u001b[0m\n",
        "\u001b[0;31mKeyboardInterrupt\u001b[0m: "
       ]
      },
      {
       "output_type": "stream",
       "stream": "stdout",
       "text": [
        "\n"
       ]
      }
     ],
     "prompt_number": 9
    },
    {
     "cell_type": "code",
     "collapsed": false,
     "input": [
      "########################\n",
      "#SGD\n",
      "######################\n",
      "\n",
      "step = 0.0008\n",
      "\n",
      "t = open('toffoliGRAD', 'w+')\n",
      "startTime = datetime.now()\n",
      "\n",
      "Jopt = rand(2*len(interactions)+3)\n",
      "\n",
      "\n",
      "delta = 0.0001\n",
      "check = 0\n",
      "s = 0\n",
      "time = step\n",
      "\n",
      "\n",
      "for i in range(3):\n",
      "    \n",
      "    J = [x for x in Jopt]\n",
      "    \n",
      "    walk = step*500*i\n",
      "    \n",
      "    while True :\n",
      "        \n",
      "        walk += step\n",
      "        time += step\n",
      "        \n",
      "        rho_0 = rand_ket(N = 8, dims = [[2,2,2], [1,1,1]])\n",
      "        index = randrange(len(J))\n",
      "        \n",
      "        JdJ = [x for x in J]\n",
      "        JdJ[index] += delta\n",
      "        grad = (Likelihood(JdJ, rho_0) - Likelihood(J, rho_0))/delta\n",
      "        J[index] = J[index] + grad/sqrt(walk)\n",
      "        s = Likelihood(J, rho_0) \n",
      "        \n",
      "        \n",
      "        \n",
      "        t.write(str(time/step)+'    '+str(s)+'\\n')        \n",
      "        \n",
      "        \n",
      "        \n",
      "        if abs(s) > 0.99 :\n",
      "            check += 1    \n",
      "            if check == 20:\n",
      "                break\n",
      "         \n",
      "        if time/step % 100 < 1:\n",
      "            print(str(time/step)+ '   ' + str(s)+ '   ' + str(walk))\n",
      "            \n",
      "            \n",
      "        if time/step > 1600*(i+1) :\n",
      "            print('HIT')\n",
      "            break\n",
      "    \n",
      "    Jopt = J\n",
      "\n",
      "\n",
      "print(datetime.now()-startTime)\n",
      "print(Jopt)\n",
      "t.close()\n",
      "alert.play()"
     ],
     "language": "python",
     "metadata": {},
     "outputs": [
      {
       "ename": "TypeError",
       "evalue": "HamiltonianAB() takes exactly 2 arguments (1 given)",
       "output_type": "pyerr",
       "traceback": [
        "\u001b[0;31m---------------------------------------------------------------------------\u001b[0m\n\u001b[0;31mTypeError\u001b[0m                                 Traceback (most recent call last)",
        "\u001b[0;32m<ipython-input-6-673b295d837d>\u001b[0m in \u001b[0;36m<module>\u001b[0;34m()\u001b[0m\n\u001b[1;32m     33\u001b[0m         \u001b[0mJdJ\u001b[0m \u001b[0;34m=\u001b[0m \u001b[0;34m[\u001b[0m\u001b[0mx\u001b[0m \u001b[0;32mfor\u001b[0m \u001b[0mx\u001b[0m \u001b[0;32min\u001b[0m \u001b[0mJ\u001b[0m\u001b[0;34m]\u001b[0m\u001b[0;34m\u001b[0m\u001b[0m\n\u001b[1;32m     34\u001b[0m         \u001b[0mJdJ\u001b[0m\u001b[0;34m[\u001b[0m\u001b[0mindex\u001b[0m\u001b[0;34m]\u001b[0m \u001b[0;34m+=\u001b[0m \u001b[0mdelta\u001b[0m\u001b[0;34m\u001b[0m\u001b[0m\n\u001b[0;32m---> 35\u001b[0;31m         \u001b[0mgrad\u001b[0m \u001b[0;34m=\u001b[0m \u001b[0;34m(\u001b[0m\u001b[0mLikelihood\u001b[0m\u001b[0;34m(\u001b[0m\u001b[0mJdJ\u001b[0m\u001b[0;34m,\u001b[0m \u001b[0mrho_0\u001b[0m\u001b[0;34m)\u001b[0m \u001b[0;34m-\u001b[0m \u001b[0mLikelihood\u001b[0m\u001b[0;34m(\u001b[0m\u001b[0mJ\u001b[0m\u001b[0;34m,\u001b[0m \u001b[0mrho_0\u001b[0m\u001b[0;34m)\u001b[0m\u001b[0;34m)\u001b[0m\u001b[0;34m/\u001b[0m\u001b[0mdelta\u001b[0m\u001b[0;34m\u001b[0m\u001b[0m\n\u001b[0m\u001b[1;32m     36\u001b[0m         \u001b[0mJ\u001b[0m\u001b[0;34m[\u001b[0m\u001b[0mindex\u001b[0m\u001b[0;34m]\u001b[0m \u001b[0;34m=\u001b[0m \u001b[0mJ\u001b[0m\u001b[0;34m[\u001b[0m\u001b[0mindex\u001b[0m\u001b[0;34m]\u001b[0m \u001b[0;34m+\u001b[0m \u001b[0mgrad\u001b[0m\u001b[0;34m/\u001b[0m\u001b[0msqrt\u001b[0m\u001b[0;34m(\u001b[0m\u001b[0mwalk\u001b[0m\u001b[0;34m)\u001b[0m\u001b[0;34m\u001b[0m\u001b[0m\n\u001b[1;32m     37\u001b[0m         \u001b[0ms\u001b[0m \u001b[0;34m=\u001b[0m \u001b[0mLikelihood\u001b[0m\u001b[0;34m(\u001b[0m\u001b[0mJ\u001b[0m\u001b[0;34m,\u001b[0m \u001b[0mrho_0\u001b[0m\u001b[0;34m)\u001b[0m\u001b[0;34m\u001b[0m\u001b[0m\n",
        "\u001b[0;32m<ipython-input-3-4739d0ab18ca>\u001b[0m in \u001b[0;36mLikelihood\u001b[0;34m(J, rho_0)\u001b[0m\n\u001b[1;32m     74\u001b[0m \u001b[0;34m\u001b[0m\u001b[0m\n\u001b[1;32m     75\u001b[0m     \u001b[0mrho\u001b[0m \u001b[0;34m=\u001b[0m \u001b[0mtensor\u001b[0m\u001b[0;34m(\u001b[0m\u001b[0mrho_0\u001b[0m\u001b[0;34m,\u001b[0m \u001b[0mdCS\u001b[0m\u001b[0;34m)\u001b[0m\u001b[0;34m\u001b[0m\u001b[0m\n\u001b[0;32m---> 76\u001b[0;31m     \u001b[0mH\u001b[0m \u001b[0;34m=\u001b[0m \u001b[0mHamiltonianAB\u001b[0m\u001b[0;34m(\u001b[0m\u001b[0mJ\u001b[0m\u001b[0;34m)\u001b[0m\u001b[0;34m\u001b[0m\u001b[0m\n\u001b[0m\u001b[1;32m     77\u001b[0m     \u001b[0mU\u001b[0m \u001b[0;34m=\u001b[0m \u001b[0;34m(\u001b[0m\u001b[0;34m-\u001b[0m\u001b[0mj\u001b[0m\u001b[0;34m*\u001b[0m\u001b[0mH\u001b[0m\u001b[0;34m)\u001b[0m\u001b[0;34m.\u001b[0m\u001b[0mexpm\u001b[0m\u001b[0;34m(\u001b[0m\u001b[0;34m)\u001b[0m\u001b[0;34m\u001b[0m\u001b[0m\n\u001b[1;32m     78\u001b[0m     \u001b[0mBtemp\u001b[0m \u001b[0;34m=\u001b[0m \u001b[0mU\u001b[0m\u001b[0;34m*\u001b[0m\u001b[0mrho\u001b[0m\u001b[0;34m\u001b[0m\u001b[0m\n",
        "\u001b[0;31mTypeError\u001b[0m: HamiltonianAB() takes exactly 2 arguments (1 given)"
       ]
      }
     ],
     "prompt_number": 6
    },
    {
     "cell_type": "code",
     "collapsed": false,
     "input": [],
     "language": "python",
     "metadata": {},
     "outputs": []
    },
    {
     "cell_type": "code",
     "collapsed": false,
     "input": [
      "from decimal import *\n",
      "getcontext().prec = 5\n",
      "i = s = 0\n",
      "N = 5\n",
      "Jopt = J2\n",
      "zz = [sz,sz]\n",
      "\n",
      "s += 1\n",
      "c = 'J_' + sz.name + sz.name\n",
      "J = zeros(shape=(N,N))\n",
      "for k in interactions :\n",
      "    a = \"{0:.3f}\".format(Jopt[i])\n",
      "    val = float(a)\n",
      "    J[k[0],k[1]] = val\n",
      "    i += 1\n",
      "i = s\n",
      "exec(c + '= asmatrix(J)')"
     ],
     "language": "python",
     "metadata": {},
     "outputs": [],
     "prompt_number": 22
    },
    {
     "cell_type": "code",
     "collapsed": false,
     "input": [
      "J_ZZ"
     ],
     "language": "python",
     "metadata": {},
     "outputs": [
      {
       "metadata": {},
       "output_type": "pyout",
       "prompt_number": 23,
       "text": [
        "matrix([[ 0.   ,  1.196,  1.215, -0.   , -0.   ],\n",
        "        [ 0.   ,  0.   , -0.382, -0.   ,  1.571],\n",
        "        [ 0.   ,  0.   ,  0.   , -0.   ,  1.571],\n",
        "        [ 0.   ,  0.   ,  0.   ,  0.   ,  0.   ],\n",
        "        [ 0.   ,  0.   ,  0.   ,  0.   ,  0.   ]])"
       ]
      }
     ],
     "prompt_number": 23
    },
    {
     "cell_type": "code",
     "collapsed": false,
     "input": [
      "J_ZZ[3,4]"
     ],
     "language": "python",
     "metadata": {},
     "outputs": [
      {
       "latex": [
        "$$0.0$$"
       ],
       "metadata": {},
       "output_type": "pyout",
       "png": "[encoded data removed]",
       "prompt_number": 24,
       "text": [
        "0.0"
       ]
      }
     ],
     "prompt_number": 24
    },
    {
     "cell_type": "code",
     "collapsed": false,
     "input": [
      "J_IZ"
     ],
     "language": "python",
     "metadata": {},
     "outputs": [
      {
       "metadata": {},
       "output_type": "pyout",
       "prompt_number": 32,
       "text": [
        "matrix([[ 0.   , -2.26 , -1.218,  0.978,  0.406],\n",
        "        [ 0.   ,  0.   ,  0.311,  0.239,  0.863],\n",
        "        [ 0.   ,  0.   ,  0.   ,  0.708,  0.429],\n",
        "        [ 0.   ,  0.   ,  0.   ,  0.   ,  0.   ],\n",
        "        [ 0.   ,  0.   ,  0.   ,  0.   ,  0.   ]])"
       ]
      }
     ],
     "prompt_number": 32
    },
    {
     "cell_type": "code",
     "collapsed": false,
     "input": [
      "J_ZI"
     ],
     "language": "python",
     "metadata": {},
     "outputs": [
      {
       "metadata": {},
       "output_type": "pyout",
       "prompt_number": 33,
       "text": [
        "matrix([[ 0.   ,  3.496, -1.005, -2.924,  1.558],\n",
        "        [ 0.   ,  0.   ,  2.572,  6.592,  0.598],\n",
        "        [ 0.   ,  0.   ,  0.   ,  1.07 ,  1.041],\n",
        "        [ 0.   ,  0.   ,  0.   ,  0.   ,  0.   ],\n",
        "        [ 0.   ,  0.   ,  0.   ,  0.   ,  0.   ]])"
       ]
      }
     ],
     "prompt_number": 33
    }
   ],
   "metadata": {}
  }
 ]
}