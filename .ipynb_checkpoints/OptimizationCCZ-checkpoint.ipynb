{
 "metadata": {
  "name": "",
  "signature": "sha256:bdfcd4fe7dc9477f4193358801a0293bc27c61c9f44f3799df52f4d75c45ff43"
 },
 "nbformat": 3,
 "nbformat_minor": 0,
 "worksheets": [
  {
   "cells": [
    {
     "cell_type": "code",
     "collapsed": false,
     "input": [
      "%pylab inline"
     ],
     "language": "python",
     "metadata": {},
     "outputs": [
      {
       "output_type": "stream",
       "stream": "stdout",
       "text": [
        "Populating the interactive namespace from numpy and matplotlib\n"
       ]
      }
     ],
     "prompt_number": 1
    },
    {
     "cell_type": "code",
     "collapsed": false,
     "input": [
      "from qutip import *\n",
      "from scipy import *\n",
      "from numpy import *\n",
      "from scipy.optimize import minimize\n",
      "import random\n",
      "from math import log\n",
      "\n",
      "from IPython.display import display\n",
      "\n",
      "from sympy.interactive import printing\n",
      "printing.init_printing()\n",
      "\n",
      "from collections import defaultdict\n",
      "\n",
      "from __future__ import division\n",
      "\n",
      "from pygame import mixer\n",
      "mixer.init() #you must initialize the mixer\n",
      "\n",
      "from random import randrange\n",
      "from datetime import datetime\n",
      "\n",
      "from tempfile import TemporaryFile\n",
      "arglikelihood = TemporaryFile()\n",
      "argFid = TemporaryFile()"
     ],
     "language": "python",
     "metadata": {},
     "outputs": [],
     "prompt_number": 2
    },
    {
     "cell_type": "code",
     "collapsed": false,
     "input": [
      "j = complex(0,1)\n",
      "\n",
      "class PAULI (object) :\n",
      "    \n",
      "    name = ''\n",
      "    op = Qobj()\n",
      "    \n",
      "    def __init__(self, name, PauliMatrix) :\n",
      "        self.name = name\n",
      "        self.op = PauliMatrix\n",
      "    \n",
      "def make_pauli_matrix (name, PauliMatrix) :\n",
      "    Pmatrix = PAULI (name, PauliMatrix)\n",
      "    return Pmatrix\n",
      "\n",
      " \n",
      "sx = make_pauli_matrix('X', sigmax())\n",
      "sy = make_pauli_matrix('Y', sigmay())\n",
      "sz = make_pauli_matrix('Z', sigmaz())\n",
      "I = make_pauli_matrix('I', qeye(2))\n",
      "\n",
      "pauliMatr = [[sz,sz],[sz,I],[I,sz]]\n",
      "\n",
      "\n",
      "######################################################\n",
      "#GATE and DIMENSION\n",
      "####################################################\n",
      "N = 3        # n of qubits\n",
      "\n",
      "\n",
      "\n",
      "GateMatrix = matrix([[1,0,0,0,0,0,0,0],\n",
      "                     [0,1,0,0,0,0,0,0],\n",
      "                     [0,0,1,0,0,0,0,0],\n",
      "                     [0,0,0,1,0,0,0,0],\n",
      "                     [0,0,0,0,1,0,0,0],\n",
      "                     [0,0,0,0,0,1,0,0],\n",
      "                     [0,0,0,0,0,0,1,0],\n",
      "                     [0,0,0,0,0,0,0,-1]]) #GATE ODD\n",
      "G = Qobj(GateMatrix, dims = [[2,2,2],[2,2,2]])\n",
      "#G = toffoli()\n",
      "\n",
      "interactions = [[0,1],[0,2],[1,2]]\n",
      "\n",
      "#######################################################################\n",
      "#USEFUL DEFINITIONS\n",
      "#######################################################################\n",
      "\n",
      "dimG = G.shape[0]  \n",
      "CareStateDim = int(log(dimG,2))\n",
      "\n",
      "h = N-CareStateDim\n",
      "\n",
      "sq2 = 1/sqrt(2)\n",
      "\n",
      "if h > 1 :\n",
      "    dontCareStates = [sq2*basis(2,1) + sq2*basis(2,0)]*(h)\n",
      "    dontCareIdentity = [qeye(2)]*(h)\n",
      "else :\n",
      "    dontCareStates = [sq2*basis(2,1) + sq2*basis(2,0)]\n",
      "    dontCareIdentity = [qeye(2)]\n",
      "\n",
      "\n",
      "dCS = tensor(dontCareStates)\n",
      "dCI = tensor(dontCareIdentity)\n",
      "\n",
      "###########################################################################\n",
      "#FUNCTIONS\n",
      "###########################################################################\n",
      "from pygame import mixer\n",
      "mixer.init() #you must initialize the mixer\n",
      "alert = mixer.Sound('small-bell-ringing-02.wav') \n",
      "\n",
      "def Likelihood(J, rho_0) : #Likelihood function\n",
      "    \n",
      "    Ak = G*rho_0\n",
      "    #A = tensor(Ak*Ak.dag(), dCI)\n",
      "    A = Ak*Ak.dag()\n",
      "    \n",
      "    #rho = tensor(rho_0, dCS)\n",
      "    H = HamiltonianAB(J)\n",
      "    U = (-j*H).expm()\n",
      "    Btemp = U*rho_0\n",
      "    B = Btemp*Btemp.dag()\n",
      "    #B = Bk.ptrace([0,1,2])\n",
      "    \n",
      "    out = (A*B).tr()\n",
      "\n",
      "    return abs(out)\n",
      "\n",
      "\n",
      "def HamiltonianAB(x) :\n",
      "    \n",
      "    k = 0\n",
      "    H = 0\n",
      "    i = 0\n",
      "    \n",
      "    for p in interactions :\n",
      "        \n",
      "        temp = 0\n",
      "        \n",
      "        OpChain = [qeye(2)]*N\n",
      "        OpChain[p[0]] = sz.op\n",
      "        OpChain[p[1]] = sz.op\n",
      "        \n",
      "        temp += x[k]*tensor(OpChain)\n",
      "        k += 1\n",
      "\n",
      "        H += temp \n",
      "    \n",
      "    for i in range(3) :\n",
      "        \n",
      "        temp = 0\n",
      "        OpChain = [qeye(2)]*N\n",
      "        OpChain[i] = sz.op\n",
      "        temp += x[k]*tensor(OpChain)\n",
      "        k += 1\n",
      "\n",
      "        H += temp \n",
      "        \n",
      "        \n",
      "    \n",
      "    return H"
     ],
     "language": "python",
     "metadata": {},
     "outputs": [],
     "prompt_number": 21
    },
    {
     "cell_type": "code",
     "collapsed": false,
     "input": [
      "########################\n",
      "#SGD\n",
      "######################\n",
      "\n",
      "step = 0.025\n",
      "\n",
      "t = open('ccz_optimized', 'w+')\n",
      "startTime = datetime.now()\n",
      "\n",
      "Jopt = rand(len(interactions)+3)\n",
      "\n",
      "\n",
      "delta = 0.0001\n",
      "check = 0\n",
      "s = 0\n",
      "time = step\n",
      "\n",
      "\n",
      "    \n",
      "J = [x for x in Jopt]\n",
      "\n",
      "\n",
      "\n",
      "while True :\n",
      "    \n",
      "    time += step\n",
      "    #delta = (time + 1)**0.101\n",
      "    #gamma = (time + 1)**0.5\n",
      "    gamma = sqrt(time)\n",
      "        \n",
      "    rho_0 = rand_ket(N = 8, dims = [[2,2,2], [1,1,1]])\n",
      "    index = randrange(len(J))\n",
      "    \n",
      "    JdJ = [x for x in J]\n",
      "    JdJ[index] += delta\n",
      "    grad = (Likelihood(JdJ, rho_0) - Likelihood(J, rho_0))/delta\n",
      "    J[index] = J[index] + grad/gamma\n",
      "    s = Likelihood(J, rho_0) \n",
      "    \n",
      "    \n",
      "    \n",
      "    t.write(str(time/step)+'    '+str(s)+'\\n')        \n",
      "    \n",
      "    \n",
      "    \n",
      "    if abs(s) > 0.99 :\n",
      "        check += 1    \n",
      "        if check == 20:\n",
      "            break\n",
      "    if time/step % 100 < 1:\n",
      "        print(str(time/step)+ '   ' + str(s)+ '   ' + str(gamma))\n",
      "    if time/step > 1000 :\n",
      "        break\n",
      "\n",
      "Jopt = J\n",
      "\n",
      "print(datetime.now()-startTime)\n",
      "print(Jopt)\n",
      "t.close()\n",
      "alert.play()"
     ],
     "language": "python",
     "metadata": {},
     "outputs": [
      {
       "output_type": "stream",
       "stream": "stdout",
       "text": [
        "101.0   0.816577081316   1.58902485821\n",
        "200.0   0.855807758003   2.2360679775"
       ]
      },
      {
       "output_type": "stream",
       "stream": "stdout",
       "text": [
        "\n",
        "300.0   0.88350781167   2.73861278753"
       ]
      },
      {
       "output_type": "stream",
       "stream": "stdout",
       "text": [
        "\n",
        "400.0   0.883027485478   3.16227766017"
       ]
      },
      {
       "output_type": "stream",
       "stream": "stdout",
       "text": [
        "\n",
        "500.0   0.89211480489   3.53553390593"
       ]
      },
      {
       "output_type": "stream",
       "stream": "stdout",
       "text": [
        "\n",
        "600.0   0.810351455422   3.87298334621"
       ]
      },
      {
       "output_type": "stream",
       "stream": "stdout",
       "text": [
        "\n",
        "700.0   0.825589736118   4.18330013267"
       ]
      },
      {
       "output_type": "stream",
       "stream": "stdout",
       "text": [
        "\n",
        "801.0   0.860054369042   4.47493016705"
       ]
      },
      {
       "output_type": "stream",
       "stream": "stdout",
       "text": [
        "\n",
        "901.0   0.810808967243   4.74605099003"
       ]
      },
      {
       "output_type": "stream",
       "stream": "stdout",
       "text": [
        "\n",
        "1001.0   0.891677427484   5.00249937531"
       ]
      },
      {
       "output_type": "stream",
       "stream": "stdout",
       "text": [
        "\n",
        "0:00:34.431892\n",
        "[0.42800314775463089, -1.1264700553221885, 0.3207608316103393, 1.1389098816413865, -0.45159044256836639, 1.1664471971704251]\n"
       ]
      },
      {
       "metadata": {},
       "output_type": "pyout",
       "prompt_number": 22,
       "text": [
        "<Channel at 0x7f9846dc6ac8>"
       ]
      }
     ],
     "prompt_number": 22
    },
    {
     "cell_type": "code",
     "collapsed": false,
     "input": [
      "\n",
      "rho_0 = rand_ket(N = 8, dims = [[2,2,2], [1,1,1]])\n",
      "H = HamiltonianAB(Jopt)\n",
      "a = G*rho_0\n",
      "a = a*a.dag()\n",
      "U = (-j*H).expm()\n",
      "b = U*rho_0\n",
      "b = b*b.dag()\n",
      "\n",
      "(b*a).tr()"
     ],
     "language": "python",
     "metadata": {},
     "outputs": [
      {
       "metadata": {},
       "output_type": "pyout",
       "prompt_number": 130,
       "text": [
        "(0.8675321469721233-6.938893903907228e-18j)"
       ]
      }
     ],
     "prompt_number": 130
    },
    {
     "cell_type": "code",
     "collapsed": false,
     "input": [
      "###########################################\n",
      "##Functions to implement the Fidelity\n",
      "###########################################\n",
      "\n",
      "def getGate (G): #extract non zero elements of the gate and save them in s\n",
      "    \n",
      "    s = []\n",
      "\n",
      "    rows = G.shape[0]\n",
      "    colums = G.shape[1]\n",
      "    \n",
      "    for i in range(rows):\n",
      "        for j in range(colums):\n",
      "            if G[i][0][j] != 0 :\n",
      "                s.append([i,j])\n",
      "    return s\n",
      "\n",
      "def bin(a):  #binary representation of a number a: useful to write the computational basis \n",
      "    s=''                                          #inside the Fidelity\n",
      "    t={'0':'000','1':'001','2':'010','3':'011',\n",
      "       '4':'100','5':'101','6':'110','7':'111'}\n",
      "    for c in oct(a)[1:]:\n",
      "            s+=t[c]\n",
      "    return s\n",
      "\n",
      "def getBasis (a) : #get the basis states according to the binary of a: 10 -> |10>\n",
      "    \n",
      "    if a == 0:\n",
      "          B = [basis(2,0)]*(CareStateDim)\n",
      "          return tensor(B)\n",
      "    \n",
      "    c = bin(a)\n",
      "    if dimG == 8:\n",
      "        return tensor(basis(2,int(c[0])) , basis(2,int(c[1])), basis(2,int(c[2])))\n",
      "    if dimG == 4:\n",
      "        return tensor(basis(2,int(c[1])) , basis(2,int(c[2])))\n",
      "    \n",
      "def Fidelity (J):  #Fidelity function\n",
      "    \n",
      "    s = getGate(G)\n",
      "    H = HamiltonianAB(J)\n",
      "    Fid = 1/(dimG + 1)\n",
      "    U = (-j*H).expm()\n",
      "    Udag = U.dag()\n",
      "    \n",
      "    for x in s :\n",
      "        for y in s:\n",
      "            \n",
      "            #definition of the basis kets and bras.             \n",
      "            bra_i = getBasis(x[0]).dag()\n",
      "            ket_j = getBasis(y[0])\n",
      "            ket_k = getBasis(x[1])\n",
      "            bra_l = getBasis(y[1]).dag()\n",
      "            \n",
      "            Epsilon = U*ket_k*bra_l*Udag\n",
      "            Eps_ijkl = bra_i*Epsilon*ket_j\n",
      "            #print(Eps_ijkl)\n",
      "            \n",
      "            Gstar_ik = G[x[0],x[1]].conjugate()\n",
      "            G_jl = G[y[0],y[1]]\n",
      "            \n",
      "            \n",
      "            fidStep = (1/(dimG*(dimG+1)))*Gstar_ik*Eps_ijkl*G_jl     \n",
      "            Fid += abs(fidStep[0][0][0])\n",
      "            \n",
      "    return Fid\n"
     ],
     "language": "python",
     "metadata": {},
     "outputs": [],
     "prompt_number": 146
    },
    {
     "cell_type": "code",
     "collapsed": false,
     "input": [
      "H = HamiltonianAB(J)\n",
      "U = (-j*H).expm()\n",
      "zii = tensor(sz.op,I.op,I.op)\n",
      "v = getBasis(6)\n",
      "v.dag()*U*v"
     ],
     "language": "python",
     "metadata": {},
     "outputs": [
      {
       "latex": [
        "Quantum object: dims = [[1], [1]], shape = [1, 1], type = oper, isherm = False\\begin{equation*}\\left(\\begin{array}{*{11}c}(-0.142-0.990j)\\\\\\end{array}\\right)\\end{equation*}"
       ],
       "metadata": {},
       "output_type": "pyout",
       "prompt_number": 187,
       "text": [
        "Quantum object: dims = [[1], [1]], shape = [1, 1], type = oper, isherm = False\n",
        "Qobj data =\n",
        "[[-0.14156663-0.98992873j]]"
       ]
      }
     ],
     "prompt_number": 187
    },
    {
     "cell_type": "code",
     "collapsed": false,
     "input": [
      "def LocGradient(J) :\n",
      "    \n",
      "    dL = []\n",
      "    delta = 0.0001\n",
      "    for s in range(len(J)) :\n",
      "        JdJ = [x for x in J]\n",
      "        JdJ[s] += delta\n",
      "        \n",
      "        dL.append((Fidelity(JdJ) - Fidelity(J))/delta)\n",
      "    \n",
      "    return dL\n",
      "\n",
      "def GradDesc(Jopt) :\n",
      "    \n",
      "    J = [x for x in Jopt]\n",
      "    check = 0\n",
      "    s = 1\n",
      "    i = 1\n",
      "    g = 0\n",
      "    \n",
      "    while True :   \n",
      "        \n",
      "        g = s\n",
      "        grad = LocGradient(J)\n",
      "        J = [J[k] + grad[k]/i for k in range(len(J))]\n",
      "    \n",
      "        s = Fidelity(J) \n",
      "        t.write(str(i)+'    '+str(s)+'\\n')\n",
      "        \n",
      "\n",
      "        print(s)\n",
      "        \n",
      "        if abs(s-g) < 0.00005 :\n",
      "            check += 1    \n",
      "            if check == 20:\n",
      "                break\n",
      "        \n",
      "        i += 1\n",
      "       \n",
      "    return J\n",
      "\n",
      "t = open('nonStochasticCCZ', 'w+')\n",
      "J2 = GradDesc(Jopt)\n",
      "t.close()"
     ],
     "language": "python",
     "metadata": {},
     "outputs": [
      {
       "output_type": "stream",
       "stream": "stdout",
       "text": [
        "0.999999993952\n",
        "0.999999993406"
       ]
      },
      {
       "output_type": "stream",
       "stream": "stdout",
       "text": [
        "\n",
        "0.999999993363"
       ]
      },
      {
       "output_type": "stream",
       "stream": "stdout",
       "text": [
        "\n",
        "0.99999999335"
       ]
      },
      {
       "output_type": "stream",
       "stream": "stdout",
       "text": [
        "\n",
        "0.999999993344"
       ]
      },
      {
       "output_type": "stream",
       "stream": "stdout",
       "text": [
        "\n",
        "0.999999993341"
       ]
      },
      {
       "output_type": "stream",
       "stream": "stdout",
       "text": [
        "\n",
        "0.999999993339"
       ]
      },
      {
       "output_type": "stream",
       "stream": "stdout",
       "text": [
        "\n",
        "0.999999993338"
       ]
      },
      {
       "output_type": "stream",
       "stream": "stdout",
       "text": [
        "\n",
        "0.999999993337"
       ]
      },
      {
       "output_type": "stream",
       "stream": "stdout",
       "text": [
        "\n",
        "0.999999993336"
       ]
      },
      {
       "output_type": "stream",
       "stream": "stdout",
       "text": [
        "\n",
        "0.999999993336"
       ]
      },
      {
       "output_type": "stream",
       "stream": "stdout",
       "text": [
        "\n",
        "0.999999993335"
       ]
      },
      {
       "output_type": "stream",
       "stream": "stdout",
       "text": [
        "\n",
        "0.999999993335"
       ]
      },
      {
       "output_type": "stream",
       "stream": "stdout",
       "text": [
        "\n",
        "0.999999993335"
       ]
      },
      {
       "output_type": "stream",
       "stream": "stdout",
       "text": [
        "\n",
        "0.999999993335"
       ]
      },
      {
       "output_type": "stream",
       "stream": "stdout",
       "text": [
        "\n",
        "0.999999993335"
       ]
      },
      {
       "output_type": "stream",
       "stream": "stdout",
       "text": [
        "\n",
        "0.999999993334"
       ]
      },
      {
       "output_type": "stream",
       "stream": "stdout",
       "text": [
        "\n",
        "0.999999993334"
       ]
      },
      {
       "output_type": "stream",
       "stream": "stdout",
       "text": [
        "\n",
        "0.999999993334"
       ]
      },
      {
       "output_type": "stream",
       "stream": "stdout",
       "text": [
        "\n",
        "0.999999993334"
       ]
      },
      {
       "output_type": "stream",
       "stream": "stdout",
       "text": [
        "\n"
       ]
      }
     ],
     "prompt_number": 42
    },
    {
     "cell_type": "code",
     "collapsed": false,
     "input": [
      "print(Jopt)"
     ],
     "language": "python",
     "metadata": {},
     "outputs": [
      {
       "output_type": "stream",
       "stream": "stdout",
       "text": [
        "[0.46020259542064712, 0.31099998464899359, -5.3371247492149754e-05, 1.9575576278985944, -5.9451775692598035e-05, -5.4339747182128122e-05, -0.42485347606312257, 1.1893723133250731, 1.1551868957867331]\n"
       ]
      }
     ],
     "prompt_number": 18
    },
    {
     "cell_type": "code",
     "collapsed": false,
     "input": [
      "#Jtr = [1.1955105697197526, 1.2150832881859908, -0.38230385072176165, 0, 0, 0, 0, pi/2, pi/2, 0.38153473411959815, 0.40771192008762402, 0.41430372074536176]\n",
      "180*Jopt[5]/pi"
     ],
     "language": "python",
     "metadata": {},
     "outputs": [
      {
       "latex": [
        "$$-61.3834209649$$"
       ],
       "metadata": {},
       "output_type": "pyout",
       "png": "[encoded data removed]",
       "prompt_number": 84,
       "text": [
        "-61.3834209649"
       ]
      }
     ],
     "prompt_number": 84
    },
    {
     "cell_type": "code",
     "collapsed": false,
     "input": [
      "#vec = [pi/3,pi/7,pi/2,pi/2,pi/7,pi/3]\n",
      "vec = rand(6)\n",
      "Fidelity(vec)"
     ],
     "language": "python",
     "metadata": {},
     "outputs": [
      {
       "latex": [
        "$$1.0$$"
       ],
       "metadata": {},
       "output_type": "pyout",
       "png": "[encoded data removed]",
       "prompt_number": 9,
       "text": [
        "1.0"
       ]
      }
     ],
     "prompt_number": 9
    },
    {
     "cell_type": "code",
     "collapsed": false,
     "input": [
      "Jtr = [1.1955105697197526, 1.2150832881859908, -0.38230385072176165, 0, 0, 0, 0, pi/2, pi/2, 0.38153473411959815, 0.40771192008762402, 0.41430372074536176]\n",
      "#sin(Jtr[0])\n",
      "sin(pi/3)"
     ],
     "language": "python",
     "metadata": {},
     "outputs": []
    },
    {
     "cell_type": "code",
     "collapsed": false,
     "input": [
      "pi*sqrt(3)/4"
     ],
     "language": "python",
     "metadata": {},
     "outputs": [
      {
       "latex": [
        "$$1.36034952318$$"
       ],
       "metadata": {},
       "output_type": "pyout",
       "png": "[encoded data removed]",
       "prompt_number": 28,
       "text": [
        "1.36034952318"
       ]
      }
     ],
     "prompt_number": 28
    },
    {
     "cell_type": "code",
     "collapsed": false,
     "input": [
      "from decimal import *\n",
      "getcontext().prec = 5\n",
      "i = s = 0\n",
      "N = 5\n",
      "Jopt = J2\n",
      "zz = [sz,sz]\n",
      "\n",
      "s += 1\n",
      "c = 'J_' + sz.name + sz.name\n",
      "J = zeros(shape=(N,N))\n",
      "for k in interactions :\n",
      "    a = \"{0:.3f}\".format(Jopt[i])\n",
      "    val = float(a)\n",
      "    J[k[0],k[1]] = val\n",
      "    i += 1\n",
      "i = s\n",
      "exec(c + '= asmatrix(J)')"
     ],
     "language": "python",
     "metadata": {},
     "outputs": [],
     "prompt_number": 22
    },
    {
     "cell_type": "code",
     "collapsed": false,
     "input": [
      "J_ZZ"
     ],
     "language": "python",
     "metadata": {},
     "outputs": [
      {
       "metadata": {},
       "output_type": "pyout",
       "prompt_number": 23,
       "text": [
        "matrix([[ 0.   ,  1.196,  1.215, -0.   , -0.   ],\n",
        "        [ 0.   ,  0.   , -0.382, -0.   ,  1.571],\n",
        "        [ 0.   ,  0.   ,  0.   , -0.   ,  1.571],\n",
        "        [ 0.   ,  0.   ,  0.   ,  0.   ,  0.   ],\n",
        "        [ 0.   ,  0.   ,  0.   ,  0.   ,  0.   ]])"
       ]
      }
     ],
     "prompt_number": 23
    },
    {
     "cell_type": "code",
     "collapsed": false,
     "input": [
      "J_ZZ[3,4]"
     ],
     "language": "python",
     "metadata": {},
     "outputs": [
      {
       "latex": [
        "$$0.0$$"
       ],
       "metadata": {},
       "output_type": "pyout",
       "png": "[encoded data removed]",
       "prompt_number": 24,
       "text": [
        "0.0"
       ]
      }
     ],
     "prompt_number": 24
    },
    {
     "cell_type": "code",
     "collapsed": false,
     "input": [
      "J_IZ"
     ],
     "language": "python",
     "metadata": {},
     "outputs": [
      {
       "metadata": {},
       "output_type": "pyout",
       "prompt_number": 32,
       "text": [
        "matrix([[ 0.   , -2.26 , -1.218,  0.978,  0.406],\n",
        "        [ 0.   ,  0.   ,  0.311,  0.239,  0.863],\n",
        "        [ 0.   ,  0.   ,  0.   ,  0.708,  0.429],\n",
        "        [ 0.   ,  0.   ,  0.   ,  0.   ,  0.   ],\n",
        "        [ 0.   ,  0.   ,  0.   ,  0.   ,  0.   ]])"
       ]
      }
     ],
     "prompt_number": 32
    },
    {
     "cell_type": "code",
     "collapsed": false,
     "input": [
      "J_ZI"
     ],
     "language": "python",
     "metadata": {},
     "outputs": [
      {
       "metadata": {},
       "output_type": "pyout",
       "prompt_number": 33,
       "text": [
        "matrix([[ 0.   ,  3.496, -1.005, -2.924,  1.558],\n",
        "        [ 0.   ,  0.   ,  2.572,  6.592,  0.598],\n",
        "        [ 0.   ,  0.   ,  0.   ,  1.07 ,  1.041],\n",
        "        [ 0.   ,  0.   ,  0.   ,  0.   ,  0.   ],\n",
        "        [ 0.   ,  0.   ,  0.   ,  0.   ,  0.   ]])"
       ]
      }
     ],
     "prompt_number": 33
    }
   ],
   "metadata": {}
  }
 ]
}