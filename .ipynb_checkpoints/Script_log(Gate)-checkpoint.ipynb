{
 "metadata": {
  "name": "",
  "signature": "sha256:57f5788bd39304841681d382a1dd5a255103051faa1ac29570fb04382465c4f7"
 },
 "nbformat": 3,
 "nbformat_minor": 0,
 "worksheets": [
  {
   "cells": [
    {
     "cell_type": "code",
     "collapsed": false,
     "input": [
      "%pylab inline"
     ],
     "language": "python",
     "metadata": {},
     "outputs": [
      {
       "output_type": "stream",
       "stream": "stdout",
       "text": [
        "Populating the interactive namespace from numpy and matplotlib\n"
       ]
      }
     ],
     "prompt_number": 1
    },
    {
     "cell_type": "code",
     "collapsed": false,
     "input": [
      "from qutip import *\n",
      "from scipy import *\n",
      "from numpy import *\n",
      "from scipy.optimize import minimize\n",
      "import random\n",
      "from math import log\n",
      "\n",
      "from IPython.display import display\n",
      "\n",
      "from sympy.interactive import printing\n",
      "printing.init_printing()\n",
      "\n",
      "from collections import defaultdict\n",
      "\n",
      "from __future__ import division\n",
      "\n",
      "from pygame import mixer\n",
      "mixer.init() #you must initialize the mixer\n",
      "\n",
      "from random import randrange\n",
      "from datetime import datetime\n",
      "\n",
      "from tempfile import TemporaryFile\n",
      "arglikelihood = TemporaryFile()\n",
      "argFid = TemporaryFile()"
     ],
     "language": "python",
     "metadata": {},
     "outputs": [],
     "prompt_number": 2
    },
    {
     "cell_type": "code",
     "collapsed": false,
     "input": [
      "from scipy import linalg\n",
      "\n",
      "j = complex(0,1)\n",
      "\n",
      "class PAULI (object) :\n",
      "    \n",
      "    name = ''\n",
      "    op = Qobj()\n",
      "    \n",
      "    def __init__(self, name, PauliMatrix) :\n",
      "        self.name = name\n",
      "        self.op = PauliMatrix\n",
      "    \n",
      "def make_pauli_matrix (name, PauliMatrix) :\n",
      "    Pmatrix = PAULI (name, PauliMatrix)\n",
      "    return Pmatrix\n",
      "\n",
      " \n",
      "sx = make_pauli_matrix('X', sigmax())\n",
      "sy = make_pauli_matrix('Y', sigmay())\n",
      "sz = make_pauli_matrix('Z', sigmaz())\n",
      "I = make_pauli_matrix('I', qeye(2))\n",
      "\n",
      "pauliMatr = [sx, sy, sz, I]\n",
      "\n",
      "Gate_Matrix_CCZ = matrix([[1,0,0,0,0,0,0,0],\n",
      "                       [0,1,0,0,0,0,0,0],\n",
      "                       [0,0,1,0,0,0,0,0],\n",
      "                       [0,0,0,1,0,0,0,0],\n",
      "                       [0,0,0,0,1,0,0,0],\n",
      "                       [0,0,0,0,0,1,0,0],\n",
      "                       [0,0,0,0,0,0,1,0],\n",
      "                       [0,0,0,0,0,0,0,-1]])\n",
      "\n",
      "Gate_Matrix_Toff = matrix([[1,0,0,0,0,0,0,0],\n",
      "                       [0,1,0,0,0,0,0,0],\n",
      "                       [0,0,1,0,0,0,0,0],\n",
      "                       [0,0,0,1,0,0,0,0],\n",
      "                       [0,0,0,0,1,0,0,0],\n",
      "                       [0,0,0,0,0,1,0,0],\n",
      "                       [0,0,0,0,0,0,0,1],\n",
      "                       [0,0,0,0,0,0,1,0]])\n",
      "\n",
      "\n",
      "log_G = linalg.logm(Gate_Matrix_CCZ)\n",
      "#log_G = linalg.logm(Gate_Matrix_Toff)\n",
      "H = Qobj(log_G, dims = [[2,2,2],[2,2,2]])\n",
      "\n",
      "temp = 0\n",
      "\n",
      "for x in pauliMatr :\n",
      "    for y in pauliMatr :\n",
      "        for z in pauliMatr :\n",
      "            SIGMA = tensor(x.op,y.op,z.op)\n",
      "            value = (-H*SIGMA).tr()           \n",
      "            \n",
      "            if value != 0 :\n",
      "                print(x.name+y.name+z.name)     "
     ],
     "language": "python",
     "metadata": {},
     "outputs": [
      {
       "output_type": "stream",
       "stream": "stdout",
       "text": [
        "ZZZ\n",
        "ZZI\n",
        "ZIZ\n",
        "ZII\n",
        "IZZ"
       ]
      },
      {
       "output_type": "stream",
       "stream": "stdout",
       "text": [
        "\n",
        "IZI\n",
        "IIZ\n",
        "III\n"
       ]
      }
     ],
     "prompt_number": 4
    }
   ],
   "metadata": {}
  }
 ]
}