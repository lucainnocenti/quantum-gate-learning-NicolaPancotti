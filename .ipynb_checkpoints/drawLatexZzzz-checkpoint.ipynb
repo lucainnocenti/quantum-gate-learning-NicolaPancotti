{
 "metadata": {
  "name": ""
 },
 "nbformat": 3,
 "nbformat_minor": 0,
 "worksheets": [
  {
   "cells": [
    {
     "cell_type": "code",
     "collapsed": false,
     "input": [
      "%pylab inline"
     ],
     "language": "python",
     "metadata": {},
     "outputs": [
      {
       "output_type": "stream",
       "stream": "stdout",
       "text": [
        "Populating the interactive namespace from numpy and matplotlib\n"
       ]
      }
     ],
     "prompt_number": 2
    },
    {
     "cell_type": "code",
     "collapsed": false,
     "input": [
      "strin = '\\draw (\\\\a*360/5 - 54: 5cm) node [circle, draw, fill = myyellow, align=center] (\\\\a) {\\scriptsize qubit \\\\a};'\n",
      "strin\n",
      "\n",
      "ZZ = matrix([[ 0.  ,  1.57,  0.  ,  0.  , -1.57],\n",
      "        [ 0.  ,  0.  ,  1.57,  0.  ,  0.  ],\n",
      "        [ 0.  ,  0.  ,  0.  ,  1.57,  1.57],\n",
      "        [ 0.  ,  0.  ,  0.  ,  0.  , -1.57],\n",
      "        [ 0.  ,  0.  ,  0.  ,  0.  ,  0.  ]])\n",
      "\n",
      "IZ = matrix([[ 0.  ,  0.42,  0.  ,  0.  ,  0.58],\n",
      "        [ 0.  ,  0.  ,  1.76,  0.  ,  0.63],\n",
      "        [ 0.  ,  0.  ,  0.  , -1.48,  0.73],\n",
      "        [ 0.76,  0.  ,  0.  ,  0.  ,  0.07],\n",
      "        [ 0.  ,  0.  ,  0.  ,  0.  ,  0.  ]])\n",
      "\n",
      "interactions = [[0,1],[0,4],[1,2],[1,4],[2,3],[2,4],[3,4],[3,0]]\n",
      "\n",
      "k = 0\n",
      "\n",
      "for j,i in interactions:\n",
      "    \n",
      "        if ZZ[j,i] != 0.0:\n",
      "            yy = '('+str(i+1)+') to [bend right = 0] node[sloped, above] {\\scriptsize ZZ ='+str(ZZ[j,i])+'} (' + str(j+1) + ');'\n",
      "            print('\\draw[-]')\n",
      "            print(yy)\n",
      "\n",
      "        if IZ[j,i] != 0.0:\n",
      "            iz = '('+str(i+1)+') to [bend right = 15] node[sloped, above] {\\scriptsize IZ ='+str(IZ[j,i])+'} (' + str(j+1) + ');'\n",
      "            print('\\draw[-]')\n",
      "            print(iy)\n",
      "       \n",
      "        "
     ],
     "language": "python",
     "metadata": {},
     "outputs": [
      {
       "output_type": "stream",
       "stream": "stdout",
       "text": [
        "\\draw[-]\n",
        "(2) to [bend right = 0] node[sloped, above] {\\scriptsize ZZ =1.57} (1);\n",
        "\\draw[-]\n",
        "(2) to [bend right = 0] node[sloped, above] {\\scriptsize ZZ =1.57} (1);\n",
        "\\draw[-]\n",
        "(5) to [bend right = 0] node[sloped, above] {\\scriptsize ZZ =-1.57} (1);\n",
        "\\draw[-]\n",
        "(5) to [bend right = 0] node[sloped, above] {\\scriptsize ZZ =-1.57} (1);\n",
        "\\draw[-]\n",
        "(3) to [bend right = 0] node[sloped, above] {\\scriptsize ZZ =1.57} (2);\n",
        "\\draw[-]\n",
        "(3) to [bend right = 0] node[sloped, above] {\\scriptsize ZZ =1.57} (2);\n",
        "\\draw[-]\n",
        "(3) to [bend right = 0] node[sloped, above] {\\scriptsize ZZ =1.57} (2);\n",
        "\\draw[-]\n",
        "(4) to [bend right = 0] node[sloped, above] {\\scriptsize ZZ =1.57} (3);\n",
        "\\draw[-]\n",
        "(4) to [bend right = 0] node[sloped, above] {\\scriptsize ZZ =1.57} (3);\n",
        "\\draw[-]\n",
        "(5) to [bend right = 0] node[sloped, above] {\\scriptsize ZZ =1.57} (3);\n",
        "\\draw[-]\n",
        "(5) to [bend right = 0] node[sloped, above] {\\scriptsize ZZ =1.57} (3);\n",
        "\\draw[-]\n",
        "(5) to [bend right = 0] node[sloped, above] {\\scriptsize ZZ =-1.57} (4);\n",
        "\\draw[-]\n",
        "(5) to [bend right = 0] node[sloped, above] {\\scriptsize ZZ =-1.57} (4);\n",
        "\\draw[-]\n",
        "(5) to [bend right = 0] node[sloped, above] {\\scriptsize ZZ =-1.57} (4);\n"
       ]
      }
     ],
     "prompt_number": 7
    }
   ],
   "metadata": {}
  }
 ]
}