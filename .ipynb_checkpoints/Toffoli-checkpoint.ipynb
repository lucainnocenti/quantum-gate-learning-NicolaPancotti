{
 "metadata": {
  "name": "",
  "signature": "sha256:19dbd13104dfb8d48d282bd20ea625371fa8a33f1974e6456842a05b5cfbdf80"
 },
 "nbformat": 3,
 "nbformat_minor": 0,
 "worksheets": [
  {
   "cells": [
    {
     "cell_type": "code",
     "collapsed": false,
     "input": [
      "%pylab inline"
     ],
     "language": "python",
     "metadata": {},
     "outputs": [
      {
       "output_type": "stream",
       "stream": "stdout",
       "text": [
        "Populating the interactive namespace from numpy and matplotlib\n"
       ]
      }
     ],
     "prompt_number": 1
    },
    {
     "cell_type": "code",
     "collapsed": false,
     "input": [
      "from qutip import *\n",
      "from scipy import *\n",
      "from numpy import *\n",
      "from scipy.optimize import minimize\n",
      "import random\n",
      "from math import log\n",
      "\n",
      "from IPython.display import display\n",
      "\n",
      "from sympy.interactive import printing\n",
      "printing.init_printing()\n",
      "\n",
      "from collections import defaultdict\n",
      "\n",
      "from __future__ import division\n",
      "\n",
      "from pygame import mixer\n",
      "mixer.init() #you must initialize the mixer\n",
      "\n",
      "from random import randrange\n",
      "from datetime import datetime\n",
      "\n",
      "from tempfile import TemporaryFile\n",
      "arglikelihood = TemporaryFile()\n",
      "argFid = TemporaryFile()"
     ],
     "language": "python",
     "metadata": {},
     "outputs": [],
     "prompt_number": 2
    },
    {
     "cell_type": "code",
     "collapsed": false,
     "input": [
      "j = complex(0,1)\n",
      "\n",
      "class PAULI (object) :\n",
      "    \n",
      "    name = ''\n",
      "    op = Qobj()\n",
      "    \n",
      "    def __init__(self, name, PauliMatrix) :\n",
      "        self.name = name\n",
      "        self.op = PauliMatrix\n",
      "    \n",
      "def make_pauli_matrix (name, PauliMatrix) :\n",
      "    Pmatrix = PAULI (name, PauliMatrix)\n",
      "    return Pmatrix\n",
      "\n",
      " \n",
      "sx = make_pauli_matrix('X', sigmax())\n",
      "sy = make_pauli_matrix('Y', sigmay())\n",
      "sz = make_pauli_matrix('Z', sigmaz())\n",
      "I = make_pauli_matrix('I', qeye(2))\n",
      "\n",
      "pauliMatr = [[sz,sz],[sx,sx],[I,sx],[sz,I]]\n",
      "\n",
      "\n",
      "######################################################\n",
      "#GATE and DIMENSION\n",
      "####################################################\n",
      "N = 5        # n of qubits\n",
      "\n",
      "G = toffoli()\n",
      "\n",
      "interactions = [[0,1],[0,2],[1,2],[0,3],[1,3],[2,3],[0,4],[2,4],[1,4]]\n",
      "\n",
      "#######################################################################\n",
      "#USEFUL DEFINITIONS\n",
      "#######################################################################\n",
      "\n",
      "dimG = G.shape[0]  \n",
      "CareStateDim = int(log(dimG,2))\n",
      "\n",
      "h = N-CareStateDim\n",
      "if h > 1 :\n",
      "    dontCareStates = [sin(0.847)*basis(2,1) + cos(0.847)*basis(2,0)]*(h)\n",
      "    dontCareIdentity = [qeye(2)]*(h)\n",
      "else :\n",
      "    dontCareStates = [sin(0.847)*basis(2,1) + cos(0.847)*basis(2,0)]\n",
      "    dontCareIdentity = [qeye(2)]\n",
      "\n",
      "\n",
      "dCS = tensor(dontCareStates)\n",
      "dCI = tensor(dontCareIdentity)\n",
      "\n",
      "###########################################################################\n",
      "#FUNCTIONS\n",
      "###########################################################################\n",
      "from pygame import mixer\n",
      "mixer.init() #you must initialize the mixer\n",
      "alert = mixer.Sound('small-bell-ringing-02.wav') \n",
      "\n",
      "def Likelihood(J, rho_0) : #Likelihood function\n",
      "    \n",
      "    Ak = G*rho_0\n",
      "    #A = tensor(Ak*Ak.dag(), dCI)\n",
      "    A = Ak*Ak.dag()\n",
      "    \n",
      "    rho = tensor(rho_0, dCS)\n",
      "    H = HamiltonianAB(J)\n",
      "    U = (-j*H).expm()\n",
      "    Btemp = U*rho\n",
      "    Bk = Btemp*Btemp.dag()\n",
      "    B = Bk.ptrace([0,1,2])\n",
      "    \n",
      "    out = (A*B).tr()\n",
      "\n",
      "    return abs(out)\n",
      "\n",
      "\n",
      "def HamiltonianAB(x) :\n",
      "    \n",
      "    i = 0\n",
      "    k = 0\n",
      "    H = 0\n",
      "    \n",
      "    for p in interactions :\n",
      "        \n",
      "        temp = 0\n",
      "        \n",
      "        for S in pauliMatr :\n",
      "        \n",
      "            OpChain = [qeye(2)]*N\n",
      "            OpChain[p[0]] = S[0].op\n",
      "            OpChain[p[1]] = S[1].op\n",
      "            \n",
      "            temp += x[k]*tensor(OpChain)\n",
      "            k += 1\n",
      "\n",
      "        H += temp \n",
      "        \n",
      "    \n",
      "    return H"
     ],
     "language": "python",
     "metadata": {},
     "outputs": [],
     "prompt_number": 3
    },
    {
     "cell_type": "code",
     "collapsed": false,
     "input": [
      "###########################################\n",
      "##Functions to implement the Fidelity\n",
      "###########################################\n",
      "\n",
      "def getGate (G): #extract non zero elements of the gate and save them in s\n",
      "    \n",
      "    s = []\n",
      "\n",
      "    rows = G.shape[0]\n",
      "    colums = G.shape[1]\n",
      "    \n",
      "    for i in range(rows):\n",
      "        for j in range(colums):\n",
      "            if G[i][0][j] != 0 :\n",
      "                s.append([i,j])\n",
      "    return s\n",
      "\n",
      "def get_bin(a):  #binary representation of a number a: useful to write the computational basis \n",
      "    \n",
      "    s = bin(a)[2:]\n",
      "    l = len(s)\n",
      "    if l < 4 :\n",
      "        r = '0'*(4-l)\n",
      "        s = r + s\n",
      "        \n",
      "    return s\n",
      "\n",
      "def getBasis (a) : #get the basis states according to the binary of a: 10 -> |10>\n",
      "    \n",
      "    if a == 0:\n",
      "          B = [basis(2,0)]*(CareStateDim)\n",
      "          return tensor(B)\n",
      "    \n",
      "    c = get_bin(a)\n",
      "    if dimG == 16:\n",
      "        return tensor(basis(2,int(c[0])) , basis(2,int(c[1])), basis(2,int(c[2])), basis(2,int(c[3])))\n",
      "    if dimG == 8:\n",
      "        return tensor(basis(2,int(c[0])) , basis(2,int(c[1])), basis(2,int(c[2])))\n",
      "    if dimG == 4:\n",
      "        return tensor(basis(2,int(c[1])) , basis(2,int(c[2])))\n",
      "    \n",
      "def Fidelity (J):  #Fidelity function\n",
      "    \n",
      "    s = getGate(G)\n",
      "    H = HamiltonianAB(J)\n",
      "    Fid = 1/(dimG + 1)\n",
      "    U = (-j*H).expm()\n",
      "    Udag = (j*H).expm()\n",
      "    \n",
      "    for x in s :\n",
      "        for y in s:\n",
      "            \n",
      "            #definition of the basis kets and bras.             \n",
      "            bra_i = getBasis(x[0]).dag()\n",
      "            ket_j = getBasis(y[0])\n",
      "            ket_k = getBasis(x[1])\n",
      "            bra_l = getBasis(y[1]).dag()\n",
      "            \n",
      "            Epsilon = U*tensor(ket_k*bra_l, dCS*dCS.dag())*Udag\n",
      "            Eps_ijkl = bra_i*(Epsilon.ptrace([0,1,2]))*ket_j\n",
      "            \n",
      "            Gstar_ik = G[x[0],x[1]].conjugate()\n",
      "            G_jl = G[y[0],y[1]]\n",
      "            \n",
      "            \n",
      "            fidStep = (1/(dimG*(dimG+1)))*Gstar_ik*Eps_ijkl*G_jl     \n",
      "            Fid += abs(fidStep[0][0][0])\n",
      "            \n",
      "    return -Fid\n"
     ],
     "language": "python",
     "metadata": {},
     "outputs": [],
     "prompt_number": 4
    },
    {
     "cell_type": "code",
     "collapsed": false,
     "input": [
      "########################\n",
      "#SGD\n",
      "######################\n",
      "\n",
      "step = 0.0008\n",
      "\n",
      "t = open('ToffoliOK', 'w+')\n",
      "startTime = datetime.now()\n",
      "Jopt = rand(len(interactions)*len(pauliMatr))\n",
      "\n",
      "'''\n",
      "Jopt = [-1.5891812232412459, 0.222201067110399, 2.9659134724454628, -0.61951776957560623, \n",
      "        0.61672394748136605, 2.9300251298898132, -2.8212390258083273, -0.87573248099454737, \n",
      "        0.40545591119003588, 0.30810380881645394, -0.20518203145596964, 2.1667996986171847, \n",
      "        0.012150621188495705, -0.78460485860462426, 0.48542689192214367, -0.2433259463869461, \n",
      "        -0.032646187693451088, 1.3827524967742615, -1.1725443013381454, 2.4916920168135519, \n",
      "        -0.00211546362361537, 0.56803067543107266, 0.15565154202542081, -0.95621213465733401, \n",
      "        -0.0081518495874134192, 0.70974885090792139, 0.27313441307128938, 1.3887347262985441, \n",
      "        -0.011186727441676907, 1.4691967774428702, 0.76662282735320775, 0.11736393526330254, \n",
      "        -0.041449262207567866, 0.10761097335491261, -0.051045946606989107, 3.2261405436903159]\n",
      "'''\n",
      "\n",
      "\n",
      "delta = 0.0001\n",
      "check = 0\n",
      "s = 0\n",
      "time = step\n",
      "\n",
      "for i in range(3):\n",
      "    \n",
      "    J = [x for x in Jopt]\n",
      "    \n",
      "    walk = step*500*i\n",
      "    \n",
      "    while True :\n",
      "        \n",
      "        walk += step\n",
      "        time += step\n",
      "        \n",
      "        rho_0 = rand_ket(N = 8, dims = [[2,2,2], [1,1,1]])\n",
      "        index = randrange(len(J))\n",
      "        \n",
      "        JdJ = [x for x in J]\n",
      "        JdJ[index] += delta\n",
      "        grad = (Likelihood(JdJ, rho_0) - Likelihood(J, rho_0))/delta\n",
      "        J[index] = J[index] + grad/sqrt(walk)\n",
      "        s = Likelihood(J, rho_0) \n",
      "        \n",
      "        \n",
      "        \n",
      "        t.write(str(time/step)+'    '+str(s)+'\\n')        \n",
      "        \n",
      "        \n",
      "        \n",
      "        if abs(s) > 0.99 :\n",
      "            check += 1    \n",
      "            if check == 20:\n",
      "                break\n",
      "         \n",
      "        if time/step % 100 < 1:\n",
      "            print(str(time/step)+ '   ' + str(s)+ '   ' + str(walk))\n",
      "            \n",
      "            \n",
      "        if time/step > 1600*(i+1) :\n",
      "            print('HIT')\n",
      "            break\n",
      "    \n",
      "    Jopt = J\n",
      "\n",
      "print(datetime.now()-startTime)\n",
      "print(Jopt)\n",
      "t.close()\n",
      "alert.play()"
     ],
     "language": "python",
     "metadata": {},
     "outputs": [
      {
       "output_type": "stream",
       "stream": "stdout",
       "text": [
        "101.0   0.725429312297   0.08\n",
        "201.0   0.795359280247   0.16"
       ]
      },
      {
       "output_type": "stream",
       "stream": "stdout",
       "text": [
        "\n",
        "301.0   0.732489642593   0.24"
       ]
      },
      {
       "output_type": "stream",
       "stream": "stdout",
       "text": [
        "\n",
        "400.0   0.932164660197   0.3192"
       ]
      },
      {
       "output_type": "stream",
       "stream": "stdout",
       "text": [
        "\n",
        "500.0   0.847265173645   0.3992"
       ]
      },
      {
       "output_type": "stream",
       "stream": "stdout",
       "text": [
        "\n",
        "600.0   0.913614062136   0.4792"
       ]
      },
      {
       "output_type": "stream",
       "stream": "stdout",
       "text": [
        "\n",
        "700.0   0.828979427686   0.5592"
       ]
      },
      {
       "output_type": "stream",
       "stream": "stdout",
       "text": [
        "\n",
        "800.0   0.955194472227   0.6392"
       ]
      },
      {
       "output_type": "stream",
       "stream": "stdout",
       "text": [
        "\n",
        "900.0   0.902641295006   0.7192"
       ]
      },
      {
       "output_type": "stream",
       "stream": "stdout",
       "text": [
        "\n",
        "1000.0   0.9815518312   0.7992"
       ]
      },
      {
       "output_type": "stream",
       "stream": "stdout",
       "text": [
        "\n",
        "1100.0   0.974724047217   0.8792"
       ]
      },
      {
       "output_type": "stream",
       "stream": "stdout",
       "text": [
        "\n",
        "1200.0   0.976236810297   0.9592"
       ]
      },
      {
       "output_type": "stream",
       "stream": "stdout",
       "text": [
        "\n",
        "1300.0   0.987903249808   1.0392"
       ]
      },
      {
       "output_type": "stream",
       "stream": "stdout",
       "text": [
        "\n",
        "1400.0   0.984676772632   1.1192"
       ]
      },
      {
       "output_type": "stream",
       "stream": "stdout",
       "text": [
        "\n",
        "1501.0   0.973723598336   1.2"
       ]
      },
      {
       "output_type": "stream",
       "stream": "stdout",
       "text": [
        "\n",
        "1601.0   0.97462135938   1.28"
       ]
      },
      {
       "output_type": "stream",
       "stream": "stdout",
       "text": [
        "\n",
        "HIT\n",
        "1701.0   0.969024313441   0.48"
       ]
      },
      {
       "output_type": "stream",
       "stream": "stdout",
       "text": [
        "\n",
        "1801.0   0.971435443352   0.56"
       ]
      },
      {
       "output_type": "stream",
       "stream": "stdout",
       "text": [
        "\n",
        "1901.0   0.967991285304   0.64"
       ]
      },
      {
       "output_type": "stream",
       "stream": "stdout",
       "text": [
        "\n",
        "2001.0   0.981190915488   0.72"
       ]
      },
      {
       "output_type": "stream",
       "stream": "stdout",
       "text": [
        "\n",
        "2101.0   0.934137353787   0.8"
       ]
      },
      {
       "output_type": "stream",
       "stream": "stdout",
       "text": [
        "\n",
        "2201.0   0.976293761111   0.88"
       ]
      },
      {
       "output_type": "stream",
       "stream": "stdout",
       "text": [
        "\n",
        "2301.0   0.971257891869   0.96"
       ]
      },
      {
       "output_type": "stream",
       "stream": "stdout",
       "text": [
        "\n",
        "2401.0   0.983255067342   1.04"
       ]
      },
      {
       "output_type": "stream",
       "stream": "stdout",
       "text": [
        "\n",
        "2501.0   0.971482785335   1.12"
       ]
      },
      {
       "output_type": "stream",
       "stream": "stdout",
       "text": [
        "\n",
        "2601.0   0.973768920522   1.2"
       ]
      },
      {
       "output_type": "stream",
       "stream": "stdout",
       "text": [
        "\n",
        "2701.0   0.978160801684   1.28"
       ]
      },
      {
       "output_type": "stream",
       "stream": "stdout",
       "text": [
        "\n",
        "2801.0   0.981054877005   1.36"
       ]
      },
      {
       "output_type": "stream",
       "stream": "stdout",
       "text": [
        "\n",
        "2901.0   0.975859220477   1.44"
       ]
      },
      {
       "output_type": "stream",
       "stream": "stdout",
       "text": [
        "\n",
        "3001.0   0.984547317156   1.52"
       ]
      },
      {
       "output_type": "stream",
       "stream": "stdout",
       "text": [
        "\n",
        "3101.0   0.975270149253   1.6"
       ]
      },
      {
       "output_type": "stream",
       "stream": "stdout",
       "text": [
        "\n",
        "3201.0   0.979068690905   1.68"
       ]
      },
      {
       "output_type": "stream",
       "stream": "stdout",
       "text": [
        "\n",
        "HIT\n",
        "3301.0   0.975663629968   0.88"
       ]
      },
      {
       "output_type": "stream",
       "stream": "stdout",
       "text": [
        "\n",
        "3401.0   0.975677957804   0.96"
       ]
      },
      {
       "output_type": "stream",
       "stream": "stdout",
       "text": [
        "\n",
        "3501.0   0.969356629242   1.04"
       ]
      },
      {
       "output_type": "stream",
       "stream": "stdout",
       "text": [
        "\n",
        "3601.0   0.977172958617   1.12"
       ]
      },
      {
       "output_type": "stream",
       "stream": "stdout",
       "text": [
        "\n",
        "3701.0   0.9771369785   1.2"
       ]
      },
      {
       "output_type": "stream",
       "stream": "stdout",
       "text": [
        "\n",
        "3801.0   0.985017572682   1.28"
       ]
      },
      {
       "output_type": "stream",
       "stream": "stdout",
       "text": [
        "\n",
        "3901.0   0.981847165033   1.36"
       ]
      },
      {
       "output_type": "stream",
       "stream": "stdout",
       "text": [
        "\n",
        "4001.0   0.985728503936   1.44"
       ]
      },
      {
       "output_type": "stream",
       "stream": "stdout",
       "text": [
        "\n",
        "4101.0   0.964994293402   1.52"
       ]
      },
      {
       "output_type": "stream",
       "stream": "stdout",
       "text": [
        "\n",
        "0:14:32.127888"
       ]
      },
      {
       "output_type": "stream",
       "stream": "stdout",
       "text": [
        "\n",
        "[0.76647556196169342, 0.28500037835676162, 1.5907048693115762, 0.47382274463352952, -0.0031911952536275261, 1.0504146781569172, -0.25875681009202883, 3.1171782180008023, 0.0093412712885166949, 2.2360236329183856, 0.1299810042560495, 0.72944480433040715, 0.029863701335390028, 1.0765656249193905, 0.84517949410820914, -2.6998513478724999, 0.00061579312594525846, 0.6336271337656485, 0.64667813241040095, -4.9173513898984691, 0.014345061889050199, 1.3151337811811119, 0.26659441167287701, 0.016983247135478947, 0.066373526822133863, 0.16432078787072774, 1.0806842759569435, 1.4115892799076186, 0.0023525538794476573, 0.60856049261188194, 0.24728145586507735, -0.020562717230570297, -2.5523420915886197, -0.097694742426209083, 1.0622189335057703, 0.32307630717798297]\n"
       ]
      },
      {
       "metadata": {},
       "output_type": "pyout",
       "prompt_number": 5,
       "text": [
        "<Channel at 0x7fe8ebe503c0>"
       ]
      }
     ],
     "prompt_number": 5
    },
    {
     "cell_type": "code",
     "collapsed": false,
     "input": [
      "#---- NUN TE SCORDA' DE METTE ER MENO NELLA FIDELITY !!!!! ------#\n",
      "Jopt = [0.76647556196169342, 0.28500037835676162, 1.5907048693115762, 0.47382274463352952, -0.0031911952536275261, 1.0504146781569172, -0.25875681009202883, 3.1171782180008023, 0.0093412712885166949, 2.2360236329183856, 0.1299810042560495, 0.72944480433040715, 0.029863701335390028, 1.0765656249193905, 0.84517949410820914, -2.6998513478724999, 0.00061579312594525846, 0.6336271337656485, 0.64667813241040095, -4.9173513898984691, 0.014345061889050199, 1.3151337811811119, 0.26659441167287701, 0.016983247135478947, 0.066373526822133863, 0.16432078787072774, 1.0806842759569435, 1.4115892799076186, 0.0023525538794476573, 0.60856049261188194, 0.24728145586507735, -0.020562717230570297, -2.5523420915886197, -0.097694742426209083, 1.0622189335057703, 0.32307630717798297]\n",
      "from scipy.optimize import minimize, fmin\n",
      "res = fmin(Fidelity, Jopt)"
     ],
     "language": "python",
     "metadata": {},
     "outputs": [
      {
       "output_type": "stream",
       "stream": "stdout",
       "text": [
        "Warning: Maximum number of function evaluations has been exceeded.\n"
       ]
      }
     ],
     "prompt_number": 47
    },
    {
     "cell_type": "code",
     "collapsed": false,
     "input": [
      "def LocGradient(J) :\n",
      "    \n",
      "    dL = []\n",
      "    delta = 0.0001\n",
      "    for s in range(len(J)) :\n",
      "        JdJ = [x for x in J]\n",
      "        JdJ[s] += delta\n",
      "        \n",
      "        dL.append((Fidelity(JdJ) - Fidelity(J))/delta)\n",
      "    \n",
      "    return dL\n",
      "\n",
      "def GradDesc(Jopt) :\n",
      "    \n",
      "    J = [x for x in Jopt]\n",
      "    check = 0\n",
      "    s = 1\n",
      "    i = 1\n",
      "    g = 0\n",
      "    \n",
      "    while True :   \n",
      "        \n",
      "        g = s\n",
      "        grad = LocGradient(J)\n",
      "        J = [J[k] - grad[k]/i for k in range(len(J))]\n",
      "    \n",
      "        s = Fidelity(J) \n",
      "        t.write(str(i)+'    '+str(s)+'\\n')\n",
      "        \n",
      "\n",
      "        print(s)\n",
      "        \n",
      "        if abs(s-g) < 0.00005 :\n",
      "            check += 1    \n",
      "            if check == 20:\n",
      "                break\n",
      "        \n",
      "        i += 1\n",
      "       \n",
      "    return J\n",
      "\n",
      "t = open('nonStochasticToffoli', 'w+')\n",
      "J2 = GradDesc(res_minimize.x)\n",
      "t.close()"
     ],
     "language": "python",
     "metadata": {},
     "outputs": [
      {
       "output_type": "stream",
       "stream": "stdout",
       "text": [
        "-0.999897524177\n",
        "-0.999904533052"
       ]
      },
      {
       "output_type": "stream",
       "stream": "stdout",
       "text": [
        "\n",
        "-0.999906154765"
       ]
      },
      {
       "output_type": "stream",
       "stream": "stdout",
       "text": [
        "\n",
        "-0.999914709748"
       ]
      },
      {
       "output_type": "stream",
       "stream": "stdout",
       "text": [
        "\n",
        "-0.999923618207"
       ]
      },
      {
       "output_type": "stream",
       "stream": "stdout",
       "text": [
        "\n",
        "-0.999926854887"
       ]
      },
      {
       "output_type": "stream",
       "stream": "stdout",
       "text": [
        "\n",
        "-0.999928705068"
       ]
      },
      {
       "output_type": "stream",
       "stream": "stdout",
       "text": [
        "\n",
        "-0.999930190173"
       ]
      },
      {
       "output_type": "stream",
       "stream": "stdout",
       "text": [
        "\n",
        "-0.999931444179"
       ]
      },
      {
       "output_type": "stream",
       "stream": "stdout",
       "text": [
        "\n",
        "-0.999932522725"
       ]
      },
      {
       "output_type": "stream",
       "stream": "stdout",
       "text": [
        "\n",
        "-0.999933464234"
       ]
      },
      {
       "output_type": "stream",
       "stream": "stdout",
       "text": [
        "\n",
        "-0.999934296215"
       ]
      },
      {
       "output_type": "stream",
       "stream": "stdout",
       "text": [
        "\n",
        "-0.999935038957"
       ]
      },
      {
       "output_type": "stream",
       "stream": "stdout",
       "text": [
        "\n",
        "-0.999935707808"
       ]
      },
      {
       "output_type": "stream",
       "stream": "stdout",
       "text": [
        "\n",
        "-0.999936314623"
       ]
      },
      {
       "output_type": "stream",
       "stream": "stdout",
       "text": [
        "\n",
        "-0.999936868733"
       ]
      },
      {
       "output_type": "stream",
       "stream": "stdout",
       "text": [
        "\n",
        "-0.999937377594"
       ]
      },
      {
       "output_type": "stream",
       "stream": "stdout",
       "text": [
        "\n",
        "-0.999937847252"
       ]
      },
      {
       "output_type": "stream",
       "stream": "stdout",
       "text": [
        "\n",
        "-0.999938282667"
       ]
      },
      {
       "output_type": "stream",
       "stream": "stdout",
       "text": [
        "\n",
        "-0.999938687953"
       ]
      },
      {
       "output_type": "stream",
       "stream": "stdout",
       "text": [
        "\n",
        "-0.999939066555"
       ]
      },
      {
       "output_type": "stream",
       "stream": "stdout",
       "text": [
        "\n"
       ]
      }
     ],
     "prompt_number": 54
    },
    {
     "cell_type": "code",
     "collapsed": false,
     "input": [
      "res_minimize"
     ],
     "language": "python",
     "metadata": {},
     "outputs": [
      {
       "metadata": {},
       "output_type": "pyout",
       "prompt_number": 51,
       "text": [
        "  status: 1\n",
        "    nfev: 7200\n",
        " success: False\n",
        "     fun: -0.99985694688255611\n",
        "       x: array([  3.01244967e-02,   3.72743088e-04,   2.57327936e+00,\n",
        "         2.62808777e-01,  -2.83541700e-03,   9.31211181e-01,\n",
        "        -1.58564974e-01,   5.30525197e+00,   1.19616443e-02,\n",
        "         2.57801583e+00,   1.67278970e-01,   9.57916862e-01,\n",
        "         2.20053445e-02,   9.18940162e-01,   1.58409399e+00,\n",
        "        -4.93167266e+00,   1.20311415e-03,   7.52463461e-03,\n",
        "         1.35185346e+00,  -4.16403595e+00,   2.19526493e-02,\n",
        "         1.26387633e+00,   5.82067710e-01,   1.91335379e-02,\n",
        "         1.47539488e-02,   5.73897488e-02,   1.64147396e+00,\n",
        "         1.86562320e+00,   1.23420311e-03,   2.08551303e-01,\n",
        "         7.45019117e-01,  -2.82141305e-02,  -1.64538808e+00,\n",
        "         2.63695234e-02,   4.96263673e-01,   3.84521672e-02])\n",
        " message: 'Maximum number of function evaluations has been exceeded.'\n",
        "     nit: 6052"
       ]
      }
     ],
     "prompt_number": 51
    },
    {
     "cell_type": "code",
     "collapsed": false,
     "input": [
      "print(J2)"
     ],
     "language": "python",
     "metadata": {},
     "outputs": [
      {
       "output_type": "stream",
       "stream": "stdout",
       "text": [
        "[0.029712113684975471, 0.0019313360118088381, 2.5730646249014986, 0.2634350106218819, 0.00017673541938522937, 0.93176797709631909, -0.1579166701659572, 5.3058782012480226, 0.0047436976211173649, 2.5792495288939659, 0.16792727392254292, 0.95809038402944036, 0.019688428648378824, 0.91896027156177207, 1.5842521682278288, -4.9310464237029539, 0.00057397157496532627, 0.0069072338921918634, 1.3520116379060121, -4.163862423244459, 0.008902423872820418, 1.2634974458842052, 0.58222588404795483, 0.022419336142045217, 0.014063835375487284, 0.0537610005782952, 1.6417943244674049, 1.866249432982835, 0.00038905379099161839, 0.20881318699294046, 0.74533948241432357, -0.024928332217093375, -1.6454861800652032, 0.023603966332102731, 0.49658403840790943, 0.038625689254558622]\n"
       ]
      }
     ],
     "prompt_number": 87
    },
    {
     "cell_type": "code",
     "collapsed": false,
     "input": [
      "from decimal import *\n",
      "getcontext().prec = 5\n",
      "i = s = 0\n",
      "N = 5\n",
      "Jopt = J2\n",
      "for f in pauliMatr :\n",
      "    s += 1\n",
      "    c = 'J_' + f[0].name + f[1].name\n",
      "    J = zeros(shape=(N,N))\n",
      "    for k in interactions :\n",
      "        a = \"{0:.4f}\".format(Jopt[i])\n",
      "        val = float(a)\n",
      "        J[k[0],k[1]] = val\n",
      "        i += len(pauliMatr)\n",
      "    i = s\n",
      "    exec(c + '= asmatrix(J)')"
     ],
     "language": "python",
     "metadata": {},
     "outputs": [],
     "prompt_number": 60
    },
    {
     "cell_type": "code",
     "collapsed": false,
     "input": [
      "J_ZI"
     ],
     "language": "python",
     "metadata": {},
     "outputs": [
      {
       "metadata": {},
       "output_type": "pyout",
       "prompt_number": 61,
       "text": [
        "matrix([[ 0.    ,  0.2634,  5.3059, -4.931 ,  1.8662],\n",
        "        [ 0.    ,  0.    ,  0.9581, -4.1639,  0.0386],\n",
        "        [ 0.    ,  0.    ,  0.    ,  0.0224, -0.0249],\n",
        "        [ 0.    ,  0.    ,  0.    ,  0.    ,  0.    ],\n",
        "        [ 0.    ,  0.    ,  0.    ,  0.    ,  0.    ]])"
       ]
      }
     ],
     "prompt_number": 61
    }
   ],
   "metadata": {}
  }
 ]
}