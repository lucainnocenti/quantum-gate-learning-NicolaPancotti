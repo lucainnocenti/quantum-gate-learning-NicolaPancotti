{
 "metadata": {
  "name": "",
  "signature": "sha256:19dbd13104dfb8d48d282bd20ea625371fa8a33f1974e6456842a05b5cfbdf80"
 },
 "nbformat": 3,
 "nbformat_minor": 0,
 "worksheets": [
  {
   "cells": [
    {
     "cell_type": "code",
     "collapsed": false,
     "input": [
      "%pylab inline"
     ],
     "language": "python",
     "metadata": {},
     "outputs": [
      {
       "output_type": "stream",
       "stream": "stdout",
       "text": [
        "Populating the interactive namespace from numpy and matplotlib\n"
       ]
      }
     ],
     "prompt_number": 1
    },
    {
     "cell_type": "code",
     "collapsed": false,
     "input": [
      "from qutip import *\n",
      "from scipy import *\n",
      "from numpy import *\n",
      "from scipy.optimize import minimize\n",
      "import random\n",
      "from math import log\n",
      "\n",
      "from IPython.display import display\n",
      "\n",
      "from sympy.interactive import printing\n",
      "printing.init_printing()\n",
      "\n",
      "from collections import defaultdict\n",
      "\n",
      "from __future__ import division\n",
      "\n",
      "from pygame import mixer\n",
      "mixer.init() #you must initialize the mixer\n",
      "\n",
      "from random import randrange\n",
      "from datetime import datetime\n",
      "\n",
      "from tempfile import TemporaryFile\n",
      "arglikelihood = TemporaryFile()\n",
      "argFid = TemporaryFile()"
     ],
     "language": "python",
     "metadata": {},
     "outputs": [],
     "prompt_number": 2
    },
    {
     "cell_type": "code",
     "collapsed": false,
     "input": [
      "j = complex(0,1)\n",
      "\n",
      "class PAULI (object) :\n",
      "    \n",
      "    name = ''\n",
      "    op = Qobj()\n",
      "    \n",
      "    def __init__(self, name, PauliMatrix) :\n",
      "        self.name = name\n",
      "        self.op = PauliMatrix\n",
      "    \n",
      "def make_pauli_matrix (name, PauliMatrix) :\n",
      "    Pmatrix = PAULI (name, PauliMatrix)\n",
      "    return Pmatrix\n",
      "\n",
      " \n",
      "sx = make_pauli_matrix('X', sigmax())\n",
      "sy = make_pauli_matrix('Y', sigmay())\n",
      "sz = make_pauli_matrix('Z', sigmaz())\n",
      "I = make_pauli_matrix('I', qeye(2))\n",
      "\n",
      "pauliMatr = [[sz,sz],[sx,sx],[I,sx],[sz,I]]\n",
      "\n",
      "\n",
      "######################################################\n",
      "#GATE and DIMENSION\n",
      "####################################################\n",
      "N = 5        # n of qubits\n",
      "\n",
      "G = toffoli()\n",
      "\n",
      "interactions = [[0,1],[0,2],[1,2],[0,3],[1,3],[2,3],[0,4],[2,4],[1,4]]\n",
      "\n",
      "#######################################################################\n",
      "#USEFUL DEFINITIONS\n",
      "#######################################################################\n",
      "\n",
      "dimG = G.shape[0]  \n",
      "CareStateDim = int(log(dimG,2))\n",
      "\n",
      "h = N-CareStateDim\n",
      "if h > 1 :\n",
      "    dontCareStates = [sin(0.847)*basis(2,1) + cos(0.847)*basis(2,0)]*(h)\n",
      "    dontCareIdentity = [qeye(2)]*(h)\n",
      "else :\n",
      "    dontCareStates = [sin(0.847)*basis(2,1) + cos(0.847)*basis(2,0)]\n",
      "    dontCareIdentity = [qeye(2)]\n",
      "\n",
      "\n",
      "dCS = tensor(dontCareStates)\n",
      "dCI = tensor(dontCareIdentity)\n",
      "\n",
      "###########################################################################\n",
      "#FUNCTIONS\n",
      "###########################################################################\n",
      "from pygame import mixer\n",
      "mixer.init() #you must initialize the mixer\n",
      "alert = mixer.Sound('small-bell-ringing-02.wav') \n",
      "\n",
      "def Likelihood(J, rho_0) : #Likelihood function\n",
      "    \n",
      "    Ak = G*rho_0\n",
      "    #A = tensor(Ak*Ak.dag(), dCI)\n",
      "    A = Ak*Ak.dag()\n",
      "    \n",
      "    rho = tensor(rho_0, dCS)\n",
      "    H = HamiltonianAB(J)\n",
      "    U = (-j*H).expm()\n",
      "    Btemp = U*rho\n",
      "    Bk = Btemp*Btemp.dag()\n",
      "    B = Bk.ptrace([0,1,2])\n",
      "    \n",
      "    out = (A*B).tr()\n",
      "\n",
      "    return abs(out)\n",
      "\n",
      "\n",
      "def HamiltonianAB(x) :\n",
      "    \n",
      "    i = 0\n",
      "    k = 0\n",
      "    H = 0\n",
      "    \n",
      "    for p in interactions :\n",
      "        \n",
      "        temp = 0\n",
      "        \n",
      "        for S in pauliMatr :\n",
      "        \n",
      "            OpChain = [qeye(2)]*N\n",
      "            OpChain[p[0]] = S[0].op\n",
      "            OpChain[p[1]] = S[1].op\n",
      "            \n",
      "            temp += x[k]*tensor(OpChain)\n",
      "            k += 1\n",
      "\n",
      "        H += temp \n",
      "        \n",
      "    \n",
      "    return H"
     ],
     "language": "python",
     "metadata": {},
     "outputs": [],
     "prompt_number": 3
    },
    {
     "cell_type": "code",
     "collapsed": false,
     "input": [
      "###########################################\n",
      "##Functions to implement the Fidelity\n",
      "###########################################\n",
      "\n",
      "def getGate (G): #extract non zero elements of the gate and save them in s\n",
      "    \n",
      "    s = []\n",
      "\n",
      "    rows = G.shape[0]\n",
      "    colums = G.shape[1]\n",
      "    \n",
      "    for i in range(rows):\n",
      "        for j in range(colums):\n",
      "            if G[i][0][j] != 0 :\n",
      "                s.append([i,j])\n",
      "    return s\n",
      "\n",
      "def get_bin(a):  #binary representation of a number a: useful to write the computational basis \n",
      "    \n",
      "    s = bin(a)[2:]\n",
      "    l = len(s)\n",
      "    if l < 4 :\n",
      "        r = '0'*(4-l)\n",
      "        s = r + s\n",
      "        \n",
      "    return s\n",
      "\n",
      "def getBasis (a) : #get the basis states according to the binary of a: 10 -> |10>\n",
      "    \n",
      "    if a == 0:\n",
      "          B = [basis(2,0)]*(CareStateDim)\n",
      "          return tensor(B)\n",
      "    \n",
      "    c = get_bin(a)\n",
      "    if dimG == 16:\n",
      "        return tensor(basis(2,int(c[0])) , basis(2,int(c[1])), basis(2,int(c[2])), basis(2,int(c[3])))\n",
      "    if dimG == 8:\n",
      "        return tensor(basis(2,int(c[0])) , basis(2,int(c[1])), basis(2,int(c[2])))\n",
      "    if dimG == 4:\n",
      "        return tensor(basis(2,int(c[1])) , basis(2,int(c[2])))\n",
      "    \n",
      "def Fidelity (J):  #Fidelity function\n",
      "    \n",
      "    s = getGate(G)\n",
      "    H = HamiltonianAB(J)\n",
      "    Fid = 1/(dimG + 1)\n",
      "    U = (-j*H).expm()\n",
      "    Udag = (j*H).expm()\n",
      "    \n",
      "    for x in s :\n",
      "        for y in s:\n",
      "            \n",
      "            #definition of the basis kets and bras.             \n",
      "            bra_i = getBasis(x[0]).dag()\n",
      "            ket_j = getBasis(y[0])\n",
      "            ket_k = getBasis(x[1])\n",
      "            bra_l = getBasis(y[1]).dag()\n",
      "            \n",
      "            Epsilon = U*tensor(ket_k*bra_l, dCS*dCS.dag())*Udag\n",
      "            Eps_ijkl = bra_i*(Epsilon.ptrace([0,1,2]))*ket_j\n",
      "            \n",
      "            Gstar_ik = G[x[0],x[1]].conjugate()\n",
      "            G_jl = G[y[0],y[1]]\n",
      "            \n",
      "            \n",
      "            fidStep = (1/(dimG*(dimG+1)))*Gstar_ik*Eps_ijkl*G_jl     \n",
      "            Fid += fidStep[0][0][0]\n",
      "            \n",
      "    return -abs(Fid)\n"
     ],
     "language": "python",
     "metadata": {},
     "outputs": [],
     "prompt_number": 12
    },
    {
     "cell_type": "code",
     "collapsed": false,
     "input": [
      "########################\n",
      "#SGD\n",
      "######################\n",
      "\n",
      "step = 0.0008\n",
      "\n",
      "t = open('ToffoliOK', 'w+')\n",
      "startTime = datetime.now()\n",
      "Jopt = rand(len(interactions)*len(pauliMatr))\n",
      "\n",
      "'''\n",
      "Jopt = [-1.5891812232412459, 0.222201067110399, 2.9659134724454628, -0.61951776957560623, \n",
      "        0.61672394748136605, 2.9300251298898132, -2.8212390258083273, -0.87573248099454737, \n",
      "        0.40545591119003588, 0.30810380881645394, -0.20518203145596964, 2.1667996986171847, \n",
      "        0.012150621188495705, -0.78460485860462426, 0.48542689192214367, -0.2433259463869461, \n",
      "        -0.032646187693451088, 1.3827524967742615, -1.1725443013381454, 2.4916920168135519, \n",
      "        -0.00211546362361537, 0.56803067543107266, 0.15565154202542081, -0.95621213465733401, \n",
      "        -0.0081518495874134192, 0.70974885090792139, 0.27313441307128938, 1.3887347262985441, \n",
      "        -0.011186727441676907, 1.4691967774428702, 0.76662282735320775, 0.11736393526330254, \n",
      "        -0.041449262207567866, 0.10761097335491261, -0.051045946606989107, 3.2261405436903159]\n",
      "'''\n",
      "\n",
      "\n",
      "delta = 0.0001\n",
      "check = 0\n",
      "s = 0\n",
      "time = step\n",
      "\n",
      "for i in range(3):\n",
      "    \n",
      "    J = [x for x in Jopt]\n",
      "    \n",
      "    walk = step*500*i\n",
      "    \n",
      "    while True :\n",
      "        \n",
      "        walk += step\n",
      "        time += step\n",
      "        \n",
      "        rho_0 = rand_ket(N = 8, dims = [[2,2,2], [1,1,1]])\n",
      "        index = randrange(len(J))\n",
      "        \n",
      "        JdJ = [x for x in J]\n",
      "        JdJ[index] += delta\n",
      "        grad = (Likelihood(JdJ, rho_0) - Likelihood(J, rho_0))/delta\n",
      "        J[index] = J[index] + grad/sqrt(walk)\n",
      "        s = Likelihood(J, rho_0) \n",
      "        \n",
      "        \n",
      "        \n",
      "        t.write(str(time/step)+'    '+str(s)+'\\n')        \n",
      "        \n",
      "        \n",
      "        \n",
      "        if abs(s) > 0.99 :\n",
      "            check += 1    \n",
      "            if check == 20:\n",
      "                break\n",
      "         \n",
      "        if time/step % 100 < 1:\n",
      "            print(str(time/step)+ '   ' + str(s)+ '   ' + str(walk))\n",
      "            \n",
      "            \n",
      "        if time/step > 1600*(i+1) :\n",
      "            print('HIT')\n",
      "            break\n",
      "    \n",
      "    Jopt = J\n",
      "\n",
      "print(datetime.now()-startTime)\n",
      "print(Jopt)\n",
      "t.close()\n",
      "alert.play()"
     ],
     "language": "python",
     "metadata": {},
     "outputs": [
      {
       "output_type": "stream",
       "stream": "stdout",
       "text": [
        "101.0   0.344236117217   0.08\n",
        "201.0   0.432607222592   0.16"
       ]
      },
      {
       "output_type": "stream",
       "stream": "stdout",
       "text": [
        "\n",
        "301.0   0.78823777879   0.24"
       ]
      },
      {
       "output_type": "stream",
       "stream": "stdout",
       "text": [
        "\n",
        "400.0   0.693001549214   0.3192"
       ]
      },
      {
       "output_type": "stream",
       "stream": "stdout",
       "text": [
        "\n",
        "500.0   0.834655433867   0.3992"
       ]
      },
      {
       "output_type": "stream",
       "stream": "stdout",
       "text": [
        "\n",
        "600.0   0.83403531105   0.4792"
       ]
      },
      {
       "output_type": "stream",
       "stream": "stdout",
       "text": [
        "\n",
        "700.0   0.882486420261   0.5592"
       ]
      },
      {
       "output_type": "stream",
       "stream": "stdout",
       "text": [
        "\n",
        "800.0   0.908051005532   0.6392"
       ]
      },
      {
       "output_type": "stream",
       "stream": "stdout",
       "text": [
        "\n",
        "900.0   0.92085594374   0.7192"
       ]
      },
      {
       "output_type": "stream",
       "stream": "stdout",
       "text": [
        "\n",
        "1000.0   0.912443679533   0.7992"
       ]
      },
      {
       "output_type": "stream",
       "stream": "stdout",
       "text": [
        "\n",
        "1100.0   0.890337512789   0.8792"
       ]
      },
      {
       "output_type": "stream",
       "stream": "stdout",
       "text": [
        "\n",
        "1200.0   0.890682304549   0.9592"
       ]
      },
      {
       "output_type": "stream",
       "stream": "stdout",
       "text": [
        "\n",
        "1300.0   0.848475700318   1.0392"
       ]
      },
      {
       "output_type": "stream",
       "stream": "stdout",
       "text": [
        "\n",
        "1400.0   0.901900568936   1.1192"
       ]
      },
      {
       "output_type": "stream",
       "stream": "stdout",
       "text": [
        "\n",
        "1501.0   0.945320954614   1.2"
       ]
      },
      {
       "output_type": "stream",
       "stream": "stdout",
       "text": [
        "\n",
        "1601.0   0.90879947448   1.28"
       ]
      },
      {
       "output_type": "stream",
       "stream": "stdout",
       "text": [
        "\n",
        "HIT\n",
        "1701.0   0.88317825267   0.48"
       ]
      },
      {
       "output_type": "stream",
       "stream": "stdout",
       "text": [
        "\n",
        "1801.0   0.928479051714   0.56"
       ]
      },
      {
       "output_type": "stream",
       "stream": "stdout",
       "text": [
        "\n",
        "1901.0   0.889813817722   0.64"
       ]
      },
      {
       "output_type": "stream",
       "stream": "stdout",
       "text": [
        "\n",
        "2001.0   0.924485313656   0.72"
       ]
      },
      {
       "output_type": "stream",
       "stream": "stdout",
       "text": [
        "\n",
        "2101.0   0.904939595169   0.8"
       ]
      },
      {
       "output_type": "stream",
       "stream": "stdout",
       "text": [
        "\n",
        "2201.0   0.911807993704   0.88"
       ]
      },
      {
       "output_type": "stream",
       "stream": "stdout",
       "text": [
        "\n",
        "2301.0   0.933254741711   0.96"
       ]
      },
      {
       "output_type": "stream",
       "stream": "stdout",
       "text": [
        "\n",
        "2401.0   0.943379640231   1.04"
       ]
      },
      {
       "output_type": "stream",
       "stream": "stdout",
       "text": [
        "\n",
        "2501.0   0.963127178933   1.12"
       ]
      },
      {
       "output_type": "stream",
       "stream": "stdout",
       "text": [
        "\n",
        "2601.0   0.942641842915   1.2"
       ]
      },
      {
       "output_type": "stream",
       "stream": "stdout",
       "text": [
        "\n",
        "2701.0   0.923594630942   1.28"
       ]
      },
      {
       "output_type": "stream",
       "stream": "stdout",
       "text": [
        "\n",
        "2801.0   0.933727992402   1.36"
       ]
      },
      {
       "output_type": "stream",
       "stream": "stdout",
       "text": [
        "\n",
        "2901.0   0.942792640777   1.44"
       ]
      },
      {
       "output_type": "stream",
       "stream": "stdout",
       "text": [
        "\n",
        "3001.0   0.949745115262   1.52"
       ]
      },
      {
       "output_type": "stream",
       "stream": "stdout",
       "text": [
        "\n",
        "3101.0   0.979342712676   1.6"
       ]
      },
      {
       "output_type": "stream",
       "stream": "stdout",
       "text": [
        "\n",
        "3201.0   0.863003067688   1.68"
       ]
      },
      {
       "output_type": "stream",
       "stream": "stdout",
       "text": [
        "\n",
        "HIT\n",
        "3301.0   0.861949291839   0.88"
       ]
      },
      {
       "output_type": "stream",
       "stream": "stdout",
       "text": [
        "\n",
        "3401.0   0.96949087538   0.96"
       ]
      },
      {
       "output_type": "stream",
       "stream": "stdout",
       "text": [
        "\n",
        "3501.0   0.964385569841   1.04"
       ]
      },
      {
       "output_type": "stream",
       "stream": "stdout",
       "text": [
        "\n",
        "3601.0   0.962089171257   1.12"
       ]
      },
      {
       "output_type": "stream",
       "stream": "stdout",
       "text": [
        "\n",
        "3701.0   0.958128501441   1.2"
       ]
      },
      {
       "output_type": "stream",
       "stream": "stdout",
       "text": [
        "\n",
        "3801.0   0.980325485163   1.28"
       ]
      },
      {
       "output_type": "stream",
       "stream": "stdout",
       "text": [
        "\n",
        "3901.0   0.952693459886   1.36"
       ]
      },
      {
       "output_type": "stream",
       "stream": "stdout",
       "text": [
        "\n",
        "4001.0   0.96660106511   1.44"
       ]
      },
      {
       "output_type": "stream",
       "stream": "stdout",
       "text": [
        "\n",
        "4101.0   0.983814131741   1.52"
       ]
      },
      {
       "output_type": "stream",
       "stream": "stdout",
       "text": [
        "\n",
        "4201.0   0.979043855197   1.6"
       ]
      },
      {
       "output_type": "stream",
       "stream": "stdout",
       "text": [
        "\n",
        "4301.0   0.968833324037   1.68"
       ]
      },
      {
       "output_type": "stream",
       "stream": "stdout",
       "text": [
        "\n",
        "4401.0   0.985907357884   1.76"
       ]
      },
      {
       "output_type": "stream",
       "stream": "stdout",
       "text": [
        "\n",
        "4501.0   0.977120331031   1.84"
       ]
      },
      {
       "output_type": "stream",
       "stream": "stdout",
       "text": [
        "\n",
        "0:16:30.673755"
       ]
      },
      {
       "output_type": "stream",
       "stream": "stdout",
       "text": [
        "\n",
        "[2.0497873086646172, 0.76788835078270568, 0.18964137305108555, -0.36208869020051954, 0.88459774368272681, -0.043145799782676145, 0.82534773119520788, 4.1873844869111254, 0.86747636210755019, -0.0018649132250724209, 3.8252250293539984, 1.8449468858850517, 1.4803336786379104, -0.18295835975118852, -0.14926754720317206, 1.6594497886672925, 1.5210006018009417, -0.1074487326216416, -0.2946728146383078, 1.130241420078048, -0.098058597469569686, 1.1937294395281981, 0.5642154387350794, 4.2606514933298971, 0.018830174931910356, 0.32686322906685111, 1.0595313651951535, 0.30691337733672674, 0.030468250852097201, -0.0033320784608349557, 0.78706625598223057, -1.8290789408311658, 0.0077795670405671662, -0.10734530987783186, 0.74992798000334215, -0.22045253668951698]\n"
       ]
      },
      {
       "metadata": {},
       "output_type": "pyout",
       "prompt_number": 5,
       "text": [
        "<Channel at 0x7f81df4f73c0>"
       ]
      }
     ],
     "prompt_number": 5
    },
    {
     "cell_type": "code",
     "collapsed": false,
     "input": [
      "Fidelity(Jopt)"
     ],
     "language": "python",
     "metadata": {},
     "outputs": [
      {
       "latex": [
        "$$-0.984169598201$$"
       ],
       "metadata": {},
       "output_type": "pyout",
       "png": "[encoded data removed]",
       "prompt_number": 13,
       "text": [
        "-0.984169598201"
       ]
      }
     ],
     "prompt_number": 13
    },
    {
     "cell_type": "code",
     "collapsed": false,
     "input": [
      "def LocGradient(J,s) :\n",
      "    \n",
      "    dL = []\n",
      "    delta = 0.0001\n",
      "    for h in range(len(J)) :\n",
      "        JdJ = [x for x in J]\n",
      "        JdJ[h] += delta\n",
      "        FdJ = Fidelity(JdJ)\n",
      "        dL.append((FdJ - s)/delta)\n",
      "    \n",
      "    return dL, FdJ\n",
      "\n",
      "def GradDesc(Jopt) :\n",
      "    \n",
      "    J = [x for x in Jopt]\n",
      "    check = 0\n",
      "    s = 1\n",
      "    i = 16\n",
      "    g = 0\n",
      "    s = Fidelity(J)\n",
      "    print(s)\n",
      "    while True :   \n",
      "        \n",
      "        g = s\n",
      "        grad, s = LocGradient(J,s)\n",
      "        J = [J[k] - grad[k]/sqrt(i) for k in range(len(J))]\n",
      "    \n",
      "        s = Fidelity(J) \n",
      "        t.write(str(i)+'    '+str(s)+'\\n')\n",
      "        \n",
      "\n",
      "        print(s)\n",
      "        \n",
      "        if abs(s-g) < 0.00005 :\n",
      "            check += 1    \n",
      "            if check == 20:\n",
      "                break\n",
      "        \n",
      "        i += 0.5\n",
      "       \n",
      "    return J\n",
      "\n",
      "t = open('nonStochasticToffoli', 'w+')\n",
      "Jini = Jopt\n",
      "startTime = datetime.now()\n",
      "J2 = GradDesc(Jini)\n",
      "print(datetime.now()-startTime)\n",
      "print(J2)\n",
      "t.close()"
     ],
     "language": "python",
     "metadata": {},
     "outputs": [
      {
       "output_type": "stream",
       "stream": "stdout",
       "text": [
        "-0.984169598201\n",
        "-0.985548806673"
       ]
      },
      {
       "output_type": "stream",
       "stream": "stdout",
       "text": [
        "\n",
        "-0.986222662143"
       ]
      },
      {
       "output_type": "stream",
       "stream": "stdout",
       "text": [
        "\n",
        "-0.98671001696"
       ]
      },
      {
       "output_type": "stream",
       "stream": "stdout",
       "text": [
        "\n",
        "-0.987124986903"
       ]
      },
      {
       "output_type": "stream",
       "stream": "stdout",
       "text": [
        "\n",
        "-0.987492360024"
       ]
      },
      {
       "output_type": "stream",
       "stream": "stdout",
       "text": [
        "\n",
        "-0.9878257017"
       ]
      },
      {
       "output_type": "stream",
       "stream": "stdout",
       "text": [
        "\n",
        "-0.988129992051"
       ]
      },
      {
       "output_type": "stream",
       "stream": "stdout",
       "text": [
        "\n",
        "-0.988411506287"
       ]
      },
      {
       "output_type": "stream",
       "stream": "stdout",
       "text": [
        "\n",
        "-0.988672677513"
       ]
      },
      {
       "output_type": "stream",
       "stream": "stdout",
       "text": [
        "\n",
        "-0.988917293445"
       ]
      },
      {
       "output_type": "stream",
       "stream": "stdout",
       "text": [
        "\n",
        "-0.989146863359"
       ]
      },
      {
       "output_type": "stream",
       "stream": "stdout",
       "text": [
        "\n",
        "-0.989363770659"
       ]
      },
      {
       "output_type": "stream",
       "stream": "stdout",
       "text": [
        "\n",
        "-0.989569074386"
       ]
      },
      {
       "output_type": "stream",
       "stream": "stdout",
       "text": [
        "\n",
        "-0.989764292396"
       ]
      },
      {
       "output_type": "stream",
       "stream": "stdout",
       "text": [
        "\n",
        "-0.989950220437"
       ]
      },
      {
       "output_type": "stream",
       "stream": "stdout",
       "text": [
        "\n",
        "-0.990127852429"
       ]
      },
      {
       "output_type": "stream",
       "stream": "stdout",
       "text": [
        "\n",
        "-0.990297812023"
       ]
      },
      {
       "output_type": "stream",
       "stream": "stdout",
       "text": [
        "\n",
        "-0.990460783955"
       ]
      },
      {
       "output_type": "stream",
       "stream": "stdout",
       "text": [
        "\n",
        "-0.990617268357"
       ]
      },
      {
       "output_type": "stream",
       "stream": "stdout",
       "text": [
        "\n",
        "-0.990767765226"
       ]
      },
      {
       "output_type": "stream",
       "stream": "stdout",
       "text": [
        "\n",
        "-0.990912679979"
       ]
      },
      {
       "output_type": "stream",
       "stream": "stdout",
       "text": [
        "\n",
        "-0.991052396488"
       ]
      },
      {
       "output_type": "stream",
       "stream": "stdout",
       "text": [
        "\n",
        "-0.991187245792"
       ]
      },
      {
       "output_type": "stream",
       "stream": "stdout",
       "text": [
        "\n",
        "-0.991317533713"
       ]
      },
      {
       "output_type": "stream",
       "stream": "stdout",
       "text": [
        "\n",
        "-0.991443532859"
       ]
      },
      {
       "output_type": "stream",
       "stream": "stdout",
       "text": [
        "\n",
        "-0.991565493224"
       ]
      },
      {
       "output_type": "stream",
       "stream": "stdout",
       "text": [
        "\n",
        "-0.991683641584"
       ]
      },
      {
       "output_type": "stream",
       "stream": "stdout",
       "text": [
        "\n",
        "-0.991798186054"
       ]
      },
      {
       "output_type": "stream",
       "stream": "stdout",
       "text": [
        "\n",
        "-0.991909317311"
       ]
      },
      {
       "output_type": "stream",
       "stream": "stdout",
       "text": [
        "\n",
        "-0.992017210985"
       ]
      },
      {
       "output_type": "stream",
       "stream": "stdout",
       "text": [
        "\n",
        "-0.992122029052"
       ]
      },
      {
       "output_type": "stream",
       "stream": "stdout",
       "text": [
        "\n",
        "-0.992223921358"
       ]
      },
      {
       "output_type": "stream",
       "stream": "stdout",
       "text": [
        "\n",
        "-0.992323026794"
       ]
      },
      {
       "output_type": "stream",
       "stream": "stdout",
       "text": [
        "\n",
        "-0.992419474392"
       ]
      },
      {
       "output_type": "stream",
       "stream": "stdout",
       "text": [
        "\n",
        "-0.992513384254"
       ]
      },
      {
       "output_type": "stream",
       "stream": "stdout",
       "text": [
        "\n",
        "-0.992604868387"
       ]
      },
      {
       "output_type": "stream",
       "stream": "stdout",
       "text": [
        "\n",
        "-0.992694031432"
       ]
      },
      {
       "output_type": "stream",
       "stream": "stdout",
       "text": [
        "\n",
        "-0.992780971314"
       ]
      },
      {
       "output_type": "stream",
       "stream": "stdout",
       "text": [
        "\n",
        "-0.992865779823"
       ]
      },
      {
       "output_type": "stream",
       "stream": "stdout",
       "text": [
        "\n",
        "-0.992948543127"
       ]
      },
      {
       "output_type": "stream",
       "stream": "stdout",
       "text": [
        "\n",
        "-0.993029342235"
       ]
      },
      {
       "output_type": "stream",
       "stream": "stdout",
       "text": [
        "\n",
        "-0.993108253415"
       ]
      },
      {
       "output_type": "stream",
       "stream": "stdout",
       "text": [
        "\n",
        "-0.993185348561"
       ]
      },
      {
       "output_type": "stream",
       "stream": "stdout",
       "text": [
        "\n",
        "-0.993260695537"
       ]
      },
      {
       "output_type": "stream",
       "stream": "stdout",
       "text": [
        "\n",
        "-0.993334358473"
       ]
      },
      {
       "output_type": "stream",
       "stream": "stdout",
       "text": [
        "\n",
        "-0.99340639805"
       ]
      },
      {
       "output_type": "stream",
       "stream": "stdout",
       "text": [
        "\n",
        "-0.993476871743"
       ]
      },
      {
       "output_type": "stream",
       "stream": "stdout",
       "text": [
        "\n",
        "-0.993545834049"
       ]
      },
      {
       "output_type": "stream",
       "stream": "stdout",
       "text": [
        "\n",
        "-0.9936133367"
       ]
      },
      {
       "output_type": "stream",
       "stream": "stdout",
       "text": [
        "\n",
        "-0.993679428846"
       ]
      },
      {
       "output_type": "stream",
       "stream": "stdout",
       "text": [
        "\n",
        "-0.993744157231"
       ]
      },
      {
       "output_type": "stream",
       "stream": "stdout",
       "text": [
        "\n",
        "-0.993807566352"
       ]
      },
      {
       "output_type": "stream",
       "stream": "stdout",
       "text": [
        "\n",
        "-0.993869698603"
       ]
      },
      {
       "output_type": "stream",
       "stream": "stdout",
       "text": [
        "\n",
        "-0.993930594408"
       ]
      },
      {
       "output_type": "stream",
       "stream": "stdout",
       "text": [
        "\n",
        "-0.993990292347"
       ]
      },
      {
       "output_type": "stream",
       "stream": "stdout",
       "text": [
        "\n",
        "-0.994048829265"
       ]
      },
      {
       "output_type": "stream",
       "stream": "stdout",
       "text": [
        "\n",
        "-0.99410624038"
       ]
      },
      {
       "output_type": "stream",
       "stream": "stdout",
       "text": [
        "\n",
        "-0.994162559378"
       ]
      },
      {
       "output_type": "stream",
       "stream": "stdout",
       "text": [
        "\n",
        "-0.994217818503"
       ]
      },
      {
       "output_type": "stream",
       "stream": "stdout",
       "text": [
        "\n",
        "-0.99427204864"
       ]
      },
      {
       "output_type": "stream",
       "stream": "stdout",
       "text": [
        "\n",
        "-0.994325279389"
       ]
      },
      {
       "output_type": "stream",
       "stream": "stdout",
       "text": [
        "\n",
        "-0.994377539141"
       ]
      },
      {
       "output_type": "stream",
       "stream": "stdout",
       "text": [
        "\n",
        "-0.994428855141"
       ]
      },
      {
       "output_type": "stream",
       "stream": "stdout",
       "text": [
        "\n",
        "-0.99447925355"
       ]
      },
      {
       "output_type": "stream",
       "stream": "stdout",
       "text": [
        "\n",
        "-0.994528759504"
       ]
      },
      {
       "output_type": "stream",
       "stream": "stdout",
       "text": [
        "\n",
        "-0.994577397166"
       ]
      },
      {
       "output_type": "stream",
       "stream": "stdout",
       "text": [
        "\n",
        "-0.994625189777"
       ]
      },
      {
       "output_type": "stream",
       "stream": "stdout",
       "text": [
        "\n",
        "-0.994672159703"
       ]
      },
      {
       "output_type": "stream",
       "stream": "stdout",
       "text": [
        "\n",
        "-0.994718328479"
       ]
      },
      {
       "output_type": "stream",
       "stream": "stdout",
       "text": [
        "\n",
        "-0.994763716847"
       ]
      },
      {
       "output_type": "stream",
       "stream": "stdout",
       "text": [
        "\n",
        "-0.994808344801"
       ]
      },
      {
       "output_type": "stream",
       "stream": "stdout",
       "text": [
        "\n",
        "-0.994852231617"
       ]
      },
      {
       "output_type": "stream",
       "stream": "stdout",
       "text": [
        "\n",
        "-0.994895395888"
       ]
      },
      {
       "output_type": "stream",
       "stream": "stdout",
       "text": [
        "\n",
        "-0.994937855559"
       ]
      },
      {
       "output_type": "stream",
       "stream": "stdout",
       "text": [
        "\n",
        "-0.994979627954"
       ]
      },
      {
       "output_type": "stream",
       "stream": "stdout",
       "text": [
        "\n",
        "-0.995020729805"
       ]
      },
      {
       "output_type": "stream",
       "stream": "stdout",
       "text": [
        "\n",
        "-0.995061177281"
       ]
      },
      {
       "output_type": "stream",
       "stream": "stdout",
       "text": [
        "\n",
        "-0.995100986009"
       ]
      }
     ],
     "prompt_number": "*"
    },
    {
     "cell_type": "code",
     "collapsed": false,
     "input": [
      "#---- NUN TE SCORDA' DE METTE ER MENO NELLA FIDELITY !!!!! ------#\n",
      "Jopt = [0.76647556196169342, 0.28500037835676162, 1.5907048693115762, 0.47382274463352952, -0.0031911952536275261, 1.0504146781569172, -0.25875681009202883, 3.1171782180008023, 0.0093412712885166949, 2.2360236329183856, 0.1299810042560495, 0.72944480433040715, 0.029863701335390028, 1.0765656249193905, 0.84517949410820914, -2.6998513478724999, 0.00061579312594525846, 0.6336271337656485, 0.64667813241040095, -4.9173513898984691, 0.014345061889050199, 1.3151337811811119, 0.26659441167287701, 0.016983247135478947, 0.066373526822133863, 0.16432078787072774, 1.0806842759569435, 1.4115892799076186, 0.0023525538794476573, 0.60856049261188194, 0.24728145586507735, -0.020562717230570297, -2.5523420915886197, -0.097694742426209083, 1.0622189335057703, 0.32307630717798297]\n",
      "from scipy.optimize import minimize, fmin\n",
      "res = fmin(Fidelity, Jopt)"
     ],
     "language": "python",
     "metadata": {},
     "outputs": [
      {
       "output_type": "stream",
       "stream": "stdout",
       "text": [
        "Warning: Maximum number of function evaluations has been exceeded.\n"
       ]
      }
     ],
     "prompt_number": 47
    },
    {
     "cell_type": "code",
     "collapsed": false,
     "input": [
      "res_minimize"
     ],
     "language": "python",
     "metadata": {},
     "outputs": [
      {
       "metadata": {},
       "output_type": "pyout",
       "prompt_number": 51,
       "text": [
        "  status: 1\n",
        "    nfev: 7200\n",
        " success: False\n",
        "     fun: -0.99985694688255611\n",
        "       x: array([  3.01244967e-02,   3.72743088e-04,   2.57327936e+00,\n",
        "         2.62808777e-01,  -2.83541700e-03,   9.31211181e-01,\n",
        "        -1.58564974e-01,   5.30525197e+00,   1.19616443e-02,\n",
        "         2.57801583e+00,   1.67278970e-01,   9.57916862e-01,\n",
        "         2.20053445e-02,   9.18940162e-01,   1.58409399e+00,\n",
        "        -4.93167266e+00,   1.20311415e-03,   7.52463461e-03,\n",
        "         1.35185346e+00,  -4.16403595e+00,   2.19526493e-02,\n",
        "         1.26387633e+00,   5.82067710e-01,   1.91335379e-02,\n",
        "         1.47539488e-02,   5.73897488e-02,   1.64147396e+00,\n",
        "         1.86562320e+00,   1.23420311e-03,   2.08551303e-01,\n",
        "         7.45019117e-01,  -2.82141305e-02,  -1.64538808e+00,\n",
        "         2.63695234e-02,   4.96263673e-01,   3.84521672e-02])\n",
        " message: 'Maximum number of function evaluations has been exceeded.'\n",
        "     nit: 6052"
       ]
      }
     ],
     "prompt_number": 51
    },
    {
     "cell_type": "code",
     "collapsed": false,
     "input": [
      "J2 = [0.30732449653474714, 0.032349875842103845, 1.6742985009446181, 0.49652749894742687, -0.00013292479468922648, 0.94777110584897784, -0.24188837298040003, 3.1398829723183086, -3.7443522497868309e-05, 2.3416812782265355, 0.14684944136703645, 0.8720361347547293, -0.0062314522030540824, 1.0290536531745456, 0.84536496323344956, -2.6771465935667629, -0.011392137660098422, 0.66755286913075396, 0.64686360153564137, -4.774760059478429, -5.3051967787498941e-05, 1.3048317293139469, 0.26677988079811743, 0.018796824311887707, 0.053026892928173905, 0.21665335254993609, 1.0790288882484309, 1.4342940342237842, -3.8904488801613184e-05, 0.60916953189328493, 0.2456260681565634, -0.018749140058713167, -2.5741884201829373, 0.028932315241459713, 1.0605635457955971, 0.46566763759541019]"
     ],
     "language": "python",
     "metadata": {},
     "outputs": [],
     "prompt_number": 5
    },
    {
     "cell_type": "code",
     "collapsed": false,
     "input": [
      "from decimal import *\n",
      "getcontext().prec = 5\n",
      "i = s = 0\n",
      "N = 5\n",
      "Jopt = J2\n",
      "for f in pauliMatr :\n",
      "    s += 1\n",
      "    c = 'J_' + f[0].name + f[1].name\n",
      "    J = zeros(shape=(N,N))\n",
      "    for k in interactions :\n",
      "        a = \"{0:.3f}\".format(Jopt[i])\n",
      "        val = float(a)\n",
      "        J[k[0],k[1]] = val\n",
      "        i += len(pauliMatr)\n",
      "    i = s\n",
      "    exec(c + '= asmatrix(J)')"
     ],
     "language": "python",
     "metadata": {},
     "outputs": [],
     "prompt_number": 17
    },
    {
     "cell_type": "code",
     "collapsed": false,
     "input": [
      "J_ZI"
     ],
     "language": "python",
     "metadata": {},
     "outputs": [
      {
       "metadata": {},
       "output_type": "pyout",
       "prompt_number": 21,
       "text": [
        "matrix([[ 0.   ,  0.497,  3.14 , -2.677,  1.434],\n",
        "        [ 0.   ,  0.   ,  0.872, -4.775,  0.466],\n",
        "        [ 0.   ,  0.   ,  0.   ,  0.019, -0.019],\n",
        "        [ 0.   ,  0.   ,  0.   ,  0.   ,  0.   ],\n",
        "        [ 0.   ,  0.   ,  0.   ,  0.   ,  0.   ]])"
       ]
      }
     ],
     "prompt_number": 21
    },
    {
     "cell_type": "code",
     "collapsed": false,
     "input": [
      "J_IX"
     ],
     "language": "python",
     "metadata": {},
     "outputs": [
      {
       "metadata": {},
       "output_type": "pyout",
       "prompt_number": 22,
       "text": [
        "matrix([[ 0.   ,  1.674, -0.242,  0.845,  1.079],\n",
        "        [ 0.   ,  0.   ,  0.147,  0.647,  1.061],\n",
        "        [ 0.   ,  0.   ,  0.   ,  0.267,  0.246],\n",
        "        [ 0.   ,  0.   ,  0.   ,  0.   ,  0.   ],\n",
        "        [ 0.   ,  0.   ,  0.   ,  0.   ,  0.   ]])"
       ]
      }
     ],
     "prompt_number": 22
    }
   ],
   "metadata": {}
  }
 ]
}