{
 "cells": [
  {
   "cell_type": "code",
   "execution_count": 1,
   "metadata": {
    "collapsed": false
   },
   "outputs": [
    {
     "name": "stdout",
     "output_type": "stream",
     "text": [
      "Populating the interactive namespace from numpy and matplotlib\n"
     ]
    }
   ],
   "source": [
    "%pylab inline"
   ]
  },
  {
   "cell_type": "code",
   "execution_count": 4,
   "metadata": {
    "collapsed": false
   },
   "outputs": [],
   "source": [
    "from qutip import *\n",
    "from scipy import *\n",
    "from numpy import *\n",
    "from scipy.optimize import minimize\n",
    "import random\n",
    "from math import log\n",
    "\n",
    "from IPython.display import display\n",
    "\n",
    "from sympy.interactive import printing\n",
    "printing.init_printing()\n",
    "\n",
    "from collections import defaultdict\n",
    "\n",
    "from __future__ import division\n",
    "\n",
    "from random import randrange\n",
    "from datetime import datetime\n",
    "\n",
    "from tempfile import TemporaryFile\n",
    "arglikelihood = TemporaryFile()\n",
    "argFid = TemporaryFile()"
   ]
  },
  {
   "cell_type": "code",
   "execution_count": 12,
   "metadata": {
    "collapsed": false
   },
   "outputs": [
    {
     "data": {
      "image/png": "[encoded data removed]",
      "text/latex": [
       "$$-192.0$$"
      ],
      "text/plain": [
       "-192.0"
      ]
     },
     "execution_count": 12,
     "metadata": {},
     "output_type": "execute_result"
    }
   ],
   "source": [
    "sx=sigmax()\n",
    "sy=sigmay()\n",
    "sz=sigmaz()\n",
    "\n",
    "xxi = tensor(sx,sx,qeye(2))\n",
    "yyi = tensor(sy,sy,qeye(2))\n",
    "zzi = tensor(sz,sz,qeye(2))\n",
    "zii = tensor(sz,qeye(2),qeye(2))\n",
    "\n",
    "ixx = tensor(qeye(2),sx,sx)\n",
    "iyy = tensor(qeye(2),sy,sy)\n",
    "izz = tensor(qeye(2),sz,sz)\n",
    "izi = tensor(qeye(2),sz,qeye(2))\n",
    "HO=(xxi+yyi+zzi+zii)*(ixx+iyy+izz+iiz) - (ixx+iyy+izz+iiz)*(xxi+yyi+zzi+zii)\n",
    "HOc=HO.conj()\n",
    "(HO*HOc).tr()"
   ]
  },
  {
   "cell_type": "code",
   "execution_count": 3,
   "metadata": {
    "collapsed": false
   },
   "outputs": [],
   "source": [
    "j = complex(0,1)\n",
    "\n",
    "class PAULI (object) :\n",
    "    \n",
    "    name = ''\n",
    "    op = Qobj()\n",
    "    \n",
    "    def __init__(self, name, PauliMatrix) :\n",
    "        self.name = name\n",
    "        self.op = PauliMatrix\n",
    "    \n",
    "def make_pauli_matrix (name, PauliMatrix) :\n",
    "    Pmatrix = PAULI (name, PauliMatrix)\n",
    "    return Pmatrix\n",
    "\n",
    " \n",
    "sx = make_pauli_matrix('X', sigmax())\n",
    "sy = make_pauli_matrix('Y', sigmay())\n",
    "sz = make_pauli_matrix('Z', sigmaz())\n",
    "I = make_pauli_matrix('I', qeye(2))\n",
    "\n",
    "pauliMatr = [[sz,sz],[sx,sx],[I,sx],[sz,I]]\n",
    "\n",
    "\n",
    "######################################################\n",
    "#GATE and DIMENSION\n",
    "####################################################\n",
    "N = 4        # n of qubits\n",
    "\n",
    "G = toffoli()\n",
    "\n",
    "#interactions = [[0,1],[0,2],[1,2],[0,3],[1,3],[2,3],[0,4],[2,4],[1,4]]\n",
    "\n",
    "#######################################################################\n",
    "#USEFUL DEFINITIONS\n",
    "#######################################################################\n",
    "\n",
    "dimG = G.shape[0]  \n",
    "CareStateDim = int(log(dimG,2))\n",
    "\n",
    "h = N-CareStateDim\n",
    "\n",
    "b = sin(0.823937)\n",
    "a = cos(0.823937)\n",
    "\n",
    "if h > 1 :\n",
    "    dontCareStates = [b*basis(2,1) + a*basis(2,0)]*(h)\n",
    "    dontCareIdentity = [qeye(2)]*(h)\n",
    "else :\n",
    "    dontCareStates = [b*basis(2,1) + a*basis(2,0)]\n",
    "    dontCareIdentity = [qeye(2)]\n",
    "\n",
    "\n",
    "dCS = tensor(dontCareStates)\n",
    "dCI = tensor(dontCareIdentity)\n",
    "\n",
    "###########################################################################\n",
    "#FUNCTIONS\n",
    "###########################################################################\n",
    "from pygame import mixer\n",
    "mixer.init() #you must initialize the mixer\n",
    "alert = mixer.Sound('small-bell-ringing-02.wav') \n",
    "\n",
    "def Likelihood(J, rho_0) : #Likelihood function\n",
    "    \n",
    "    Ak = G*rho_0\n",
    "    #A = tensor(Ak*Ak.dag(), dCI)\n",
    "    A = Ak*Ak.dag()\n",
    "    \n",
    "    rho = tensor(rho_0, dCS)\n",
    "    H = HamiltonianAB(J)\n",
    "    U = (-j*H).expm()\n",
    "    Btemp = U*rho\n",
    "    Bk = Btemp*Btemp.dag()\n",
    "    B = Bk.ptrace([0,1,2])\n",
    "    \n",
    "    out = (A*B).tr()\n",
    "\n",
    "    return abs(out)\n",
    "\n",
    "\n",
    "def Hamiltonian(x) :\n",
    "    \n",
    "    k = 0\n",
    "    H = 0\n",
    "\n",
    "\n",
    "    for q in [sx,sz]:    \n",
    "        temp = 0\n",
    "        OpChain = [qeye(2)]*N\n",
    "        OpChain[0] = q.op\n",
    "        OpChain[1] = q.op\n",
    "        temp += x[k]*tensor(OpChain)\n",
    "        k+=1        \n",
    "        H += temp \n",
    "\n",
    "    for p in [2,3,4]:\n",
    "        for q in [sx,sz]:\n",
    "            \n",
    "            temp = 0\n",
    "            OpChain = [qeye(2)]*N\n",
    "            OpChain[0] = q.op\n",
    "            OpChain[p] = q.op\n",
    "            \n",
    "            temp += x[k]*tensor(OpChain)\n",
    "            \n",
    "            OpChain = [qeye(2)]*N\n",
    "            OpChain[1] = q.op\n",
    "            OpChain[p] = q.op\n",
    "            \n",
    "            temp += x[k]*tensor(OpChain)\n",
    "            k += 1\n",
    "            \n",
    "            H += temp \n",
    "                \n",
    "    for p in [3,4]:\n",
    "        for q in [sx,sz]:\n",
    "\n",
    "    \n",
    "            temp = 0\n",
    "            OpChain = [qeye(2)]*N\n",
    "            OpChain[2] = q.op\n",
    "            OpChain[p] = q.op\n",
    "            temp += x[k]*tensor(OpChain)\n",
    "            k+=1        \n",
    "            H += temp \n",
    "    \n",
    "\n",
    "    for i in range(2) :\n",
    "    \n",
    "        temp = 0\n",
    "        OpChain = [qeye(2)]*N\n",
    "        OpChain[i] = sz.op\n",
    "        temp += x[k]*tensor(OpChain)\n",
    "    \n",
    "        H += temp \n",
    "        \n",
    "    k+=1\n",
    "    temp = 0\n",
    "    OpChain = [qeye(2)]*N\n",
    "    OpChain[2] = sz.op\n",
    "    temp += x[k]*tensor(OpChain)\n",
    "    \n",
    "    H += temp \n",
    "\n",
    "    for i in range(3) :\n",
    "        k += 1\n",
    "        temp = 0\n",
    "        OpChain = [qeye(2)]*N\n",
    "        OpChain[i+2] = sx.op\n",
    "        temp += x[k]*tensor(OpChain)#last one\n",
    "\n",
    "        H += temp \n",
    "\n",
    "    \n",
    "    return H\n",
    "\n",
    "def HamiltonianAB(x) :\n",
    "    \n",
    "    k = 0\n",
    "    H = 0\n",
    "\n",
    "\n",
    "    for q in [sx,sz]:    \n",
    "        temp = 0\n",
    "        OpChain = [qeye(2)]*N\n",
    "        OpChain[0] = q.op\n",
    "        OpChain[1] = q.op\n",
    "        temp += x[k]*tensor(OpChain)\n",
    "        k+=1        \n",
    "        H += temp \n",
    "\n",
    "    for p in [2,3]:\n",
    "        for q in [sx,sz]:\n",
    "            \n",
    "            temp = 0\n",
    "            OpChain = [qeye(2)]*N\n",
    "            OpChain[0] = q.op\n",
    "            OpChain[p] = q.op\n",
    "            \n",
    "            temp += x[k]*tensor(OpChain)\n",
    "            \n",
    "            OpChain = [qeye(2)]*N\n",
    "            OpChain[1] = q.op\n",
    "            OpChain[p] = q.op\n",
    "            \n",
    "            temp += x[k]*tensor(OpChain)\n",
    "            k += 1\n",
    "            \n",
    "            H += temp \n",
    "            \n",
    "   \n",
    "    for q in [sx,sz]:\n",
    "        \n",
    "            \n",
    "        temp = 0\n",
    "        OpChain = [qeye(2)]*N\n",
    "        OpChain[2] = q.op\n",
    "        OpChain[3] = q.op\n",
    "        temp += x[k]*tensor(OpChain)\n",
    "        k+=1    \n",
    "        H += temp \n",
    "            \n",
    "            \n",
    "    for i in range(2) :\n",
    "        \n",
    "        temp = 0\n",
    "        OpChain = [qeye(2)]*N\n",
    "        OpChain[i] = sz.op\n",
    "        temp += x[k]*tensor(OpChain)\n",
    "        H += temp \n",
    "\n",
    "    k += 1\n",
    "\n",
    "    for i in [2,3] :\n",
    "    \n",
    "        temp = 0\n",
    "        OpChain = [qeye(2)]*N\n",
    "        OpChain[i] = sx.op\n",
    "        temp += x[k]*tensor(OpChain)\n",
    "        k += 1    \n",
    "\n",
    "        OpChain = [qeye(2)]*N\n",
    "        OpChain[i] = sz.op\n",
    "        temp += x[k]*tensor(OpChain)#last one\n",
    "        k += 1\n",
    "\n",
    "        H += temp \n",
    "\n",
    "    \n",
    "    return H\n"
   ]
  },
  {
   "cell_type": "code",
   "execution_count": 4,
   "metadata": {
    "collapsed": false
   },
   "outputs": [],
   "source": [
    "def getGate (G): #extract non zero elements of the gate and save them in s\n",
    "    \n",
    "    s = []\n",
    "\n",
    "    rows = G.shape[0]\n",
    "    colums = G.shape[1]\n",
    "    \n",
    "    for i in range(rows):\n",
    "        for j in range(colums):\n",
    "            if G[i][0][j] != 0 :\n",
    "                s.append([i,j])\n",
    "    return s\n",
    "\n",
    "def bin(a):  #binary representation of a number a: useful to write the computational basis \n",
    "    s=''                                          #inside the Fidelity\n",
    "    t={'0':'000','1':'001','2':'010','3':'011',\n",
    "       '4':'100','5':'101','6':'110','7':'111'}\n",
    "    for c in oct(a)[1:]:\n",
    "            s+=t[c]\n",
    "    return s\n",
    "\n",
    "def getBasis (a) : #get the basis states according to the binary of a: 10 -> |10>\n",
    "    \n",
    "    if a == 0:\n",
    "          B = [basis(2,0)]*(CareStateDim)\n",
    "          return tensor(B)\n",
    "    \n",
    "    c = bin(a)\n",
    "    if dimG == 8:\n",
    "        return tensor(basis(2,int(c[0])) , basis(2,int(c[1])), basis(2,int(c[2])))\n",
    "    if dimG == 4:\n",
    "        return tensor(basis(2,int(c[1])) , basis(2,int(c[2])))\n",
    "    \n",
    "def Fidelity (J):  #Fidelity function\n",
    "    \n",
    "    s = getGate(G)\n",
    "    H = HamiltonianAB(J)\n",
    "    Fid = 1/(dimG + 1)\n",
    "    U = (-j*H).expm()\n",
    "    Udag = (j*H).expm()\n",
    "    \n",
    "    for x in s :\n",
    "        for y in s:\n",
    "            \n",
    "            #definition of the basis kets and bras.             \n",
    "            bra_i = getBasis(x[0]).dag()\n",
    "            ket_j = getBasis(y[0])\n",
    "            ket_k = getBasis(x[1])\n",
    "            bra_l = getBasis(y[1]).dag()\n",
    "            \n",
    "            Epsilon = U*tensor(ket_k*bra_l, dCS*dCS.dag())*Udag\n",
    "            Eps_ijkl = bra_i*(Epsilon.ptrace([0,1,2]))*ket_j\n",
    "            \n",
    "            Gstar_ik = G[x[0],x[1]].conjugate()\n",
    "            G_jl = G[y[0],y[1]]\n",
    "            \n",
    "            \n",
    "            fidStep = (1/(dimG*(dimG+1)))*Gstar_ik*Eps_ijkl*G_jl     \n",
    "            Fid += fidStep[0][0][0]\n",
    "            \n",
    "    return -abs(Fid)\n",
    "\n",
    "def LocGradient(J,s) :\n",
    "    \n",
    "    dL = []\n",
    "    delta = 0.0001\n",
    "    for h in range(len(J)) :\n",
    "        JdJ = [x for x in J]\n",
    "        JdJ[h] += delta\n",
    "        FdJ = Fidelity(JdJ)\n",
    "        dL.append((FdJ - s)/delta)\n",
    "    \n",
    "    return dL, FdJ\n",
    "\n",
    "def GradDesc(Jopt) :\n",
    "    \n",
    "    J = [x for x in Jopt]\n",
    "    check = 0\n",
    "    s = 1\n",
    "    i = 16\n",
    "    g = 0\n",
    "    s = Fidelity(J)\n",
    "    print(s)\n",
    "    while True :   \n",
    "        \n",
    "        g = s\n",
    "        grad, s = LocGradient(J,s)\n",
    "        J = [J[k] - grad[k]/sqrt(i) for k in range(len(J))]\n",
    "    \n",
    "        s = Fidelity(J) \n",
    "        t.write(str(i)+'    '+str(s)+'\\n')\n",
    "        \n",
    "\n",
    "        print(s)\n",
    "        \n",
    "        if abs(s-g) < 0.00005 :\n",
    "            check += 1    \n",
    "            if check == 20:\n",
    "                break\n",
    "        \n",
    "        i += 0.5\n",
    "       \n",
    "    return J\n",
    "\n"
   ]
  },
  {
   "cell_type": "code",
   "execution_count": 5,
   "metadata": {
    "collapsed": false
   },
   "outputs": [
    {
     "data": {
      "image/png": "[encoded data removed]",
      "text/latex": [
       "$$-0.999264070707$$"
      ],
      "text/plain": [
       "-0.999264070707"
      ]
     },
     "execution_count": 5,
     "metadata": {},
     "output_type": "execute_result"
    }
   ],
   "source": [
    "Jopt=zeros(13)\n",
    "Jopt[6] = 15.1043/4\n",
    "Jopt[5] = -5.66207/4\n",
    "Jopt[1] = -8.95113/4\n",
    "Jopt[3] = -4.9753/4\n",
    "Jopt[9] = -19.0948/2\n",
    "Jopt[11] = -4.30184/2\n",
    "Jopt[8] = -2.43/2\n",
    "Jopt[10] = -4.98238/2\n",
    "Jopt[12] =-0.208699/2\n",
    "Fidelity(Jopt)"
   ]
  },
  {
   "cell_type": "code",
   "execution_count": 11,
   "metadata": {
    "collapsed": false
   },
   "outputs": [
    {
     "data": {
      "text/plain": [
       "array([1, 0, 0, 1])"
      ]
     },
     "execution_count": 11,
     "metadata": {},
     "output_type": "execute_result"
    }
   ],
   "source": [
    "ide = array([1,0,0,1])\n",
    "idet = ide.T\n",
    "idet*ide"
   ]
  },
  {
   "cell_type": "code",
   "execution_count": 89,
   "metadata": {
    "collapsed": false
   },
   "outputs": [
    {
     "data": {
      "text/plain": [
       "array([ 3.14159265,  0.90381015,  3.14159265,  1.89776765,  3.14159265,\n",
       "        1.72607515,  6.91766765,  3.14159265,  1.92659265, -6.40580735,\n",
       "        0.65040265,  0.99067265,  3.03724315])"
      ]
     },
     "execution_count": 89,
     "metadata": {},
     "output_type": "execute_result"
    }
   ],
   "source": [
    "Jopt+pi"
   ]
  },
  {
   "cell_type": "code",
   "execution_count": 11,
   "metadata": {
    "collapsed": false
   },
   "outputs": [
    {
     "data": {
      "text/plain": [
       "array([   0.        , -128.21549272,    0.        ,  -71.26592295,\n",
       "          0.        ,  -81.10317858,  216.35316062,    0.        ,\n",
       "        -69.61437211, -547.02572532, -142.73467297, -123.23863807,\n",
       "         -5.97878594])"
      ]
     },
     "execution_count": 11,
     "metadata": {},
     "output_type": "execute_result"
    }
   ],
   "source": [
    "Jgrad = Jopt*180/pi\n",
    "Jgrad"
   ]
  },
  {
   "cell_type": "code",
   "execution_count": 94,
   "metadata": {
    "collapsed": false
   },
   "outputs": [
    {
     "data": {
      "image/png": "[encoded data removed]",
      "text/latex": [
       "$$-0.219407516186$$"
      ],
      "text/plain": [
       "-0.219407516186"
      ]
     },
     "execution_count": 94,
     "metadata": {},
     "output_type": "execute_result"
    }
   ],
   "source": [
    "Jgrad = Jopt*180/pi\n",
    "Jgrad[1] = -128\n",
    "Jgrad[3] = -70\n",
    "Jgrad[5] = -81\n",
    "Jgrad[6] = 216\n",
    "Jgrad[8] = -70\n",
    "Jgrad[9] = -547\n",
    "Jgrad[10] = -143\n",
    "Jgrad[11] = -123\n",
    "Jgrad[12] = -6\n",
    "k = Jgrad*pi/180\n",
    "k = k + 4*pi\n",
    "k[0] = 0\n",
    "k[2] = 0\n",
    "k[4] =0\n",
    "k[7] = 0\n",
    "Fidelity(k)"
   ]
  },
  {
   "cell_type": "code",
   "execution_count": 78,
   "metadata": {
    "collapsed": false
   },
   "outputs": [
    {
     "data": {
      "image/png": "[encoded data removed]",
      "text/latex": [
       "$$273.5$$"
      ],
      "text/plain": [
       "273.5"
      ]
     },
     "execution_count": 78,
     "metadata": {},
     "output_type": "execute_result"
    }
   ],
   "source": [
    "547/2"
   ]
  },
  {
   "cell_type": "code",
   "execution_count": 85,
   "metadata": {
    "collapsed": false
   },
   "outputs": [
    {
     "name": "stdout",
     "output_type": "stream",
     "text": [
      "3\n",
      "41\n",
      "123\n"
     ]
    }
   ],
   "source": [
    "for p in range(2,274):\n",
    "    if 123%p == 0:\n",
    "        print p\n",
    "        \n",
    "        "
   ]
  },
  {
   "cell_type": "code",
   "execution_count": 7,
   "metadata": {
    "collapsed": false
   },
   "outputs": [
    {
     "name": "stdout",
     "output_type": "stream",
     "text": [
      "-0.94376739569\n",
      "-0.951185797356\n",
      "-0.953449815795\n",
      "-0.954956510758\n",
      "-0.956061851064\n"
     ]
    },
    {
     "ename": "KeyboardInterrupt",
     "evalue": "",
     "output_type": "error",
     "traceback": [
      "\u001b[0;31m---------------------------------------------------------------------------\u001b[0m\n\u001b[0;31mKeyboardInterrupt\u001b[0m                         Traceback (most recent call last)",
      "\u001b[0;32m<ipython-input-7-04b497b6800c>\u001b[0m in \u001b[0;36m<module>\u001b[0;34m()\u001b[0m\n\u001b[1;32m      2\u001b[0m \u001b[0mJini\u001b[0m \u001b[0;34m=\u001b[0m \u001b[0mJopt\u001b[0m\u001b[0;34m\u001b[0m\u001b[0m\n\u001b[1;32m      3\u001b[0m \u001b[0mstartTime\u001b[0m \u001b[0;34m=\u001b[0m \u001b[0mdatetime\u001b[0m\u001b[0;34m.\u001b[0m\u001b[0mnow\u001b[0m\u001b[0;34m(\u001b[0m\u001b[0;34m)\u001b[0m\u001b[0;34m\u001b[0m\u001b[0m\n\u001b[0;32m----> 4\u001b[0;31m \u001b[0mJ2\u001b[0m \u001b[0;34m=\u001b[0m \u001b[0mGradDesc\u001b[0m\u001b[0;34m(\u001b[0m\u001b[0mJini\u001b[0m\u001b[0;34m)\u001b[0m\u001b[0;34m\u001b[0m\u001b[0m\n\u001b[0m\u001b[1;32m      5\u001b[0m \u001b[0;32mprint\u001b[0m\u001b[0;34m(\u001b[0m\u001b[0mdatetime\u001b[0m\u001b[0;34m.\u001b[0m\u001b[0mnow\u001b[0m\u001b[0;34m(\u001b[0m\u001b[0;34m)\u001b[0m\u001b[0;34m-\u001b[0m\u001b[0mstartTime\u001b[0m\u001b[0;34m)\u001b[0m\u001b[0;34m\u001b[0m\u001b[0m\n\u001b[1;32m      6\u001b[0m \u001b[0;32mprint\u001b[0m\u001b[0;34m(\u001b[0m\u001b[0mJ2\u001b[0m\u001b[0;34m)\u001b[0m\u001b[0;34m\u001b[0m\u001b[0m\n",
      "\u001b[0;32m<ipython-input-4-c2b84f96cfc7>\u001b[0m in \u001b[0;36mGradDesc\u001b[0;34m(Jopt)\u001b[0m\n\u001b[1;32m     93\u001b[0m \u001b[0;34m\u001b[0m\u001b[0m\n\u001b[1;32m     94\u001b[0m         \u001b[0mg\u001b[0m \u001b[0;34m=\u001b[0m \u001b[0ms\u001b[0m\u001b[0;34m\u001b[0m\u001b[0m\n\u001b[0;32m---> 95\u001b[0;31m         \u001b[0mgrad\u001b[0m\u001b[0;34m,\u001b[0m \u001b[0ms\u001b[0m \u001b[0;34m=\u001b[0m \u001b[0mLocGradient\u001b[0m\u001b[0;34m(\u001b[0m\u001b[0mJ\u001b[0m\u001b[0;34m,\u001b[0m\u001b[0ms\u001b[0m\u001b[0;34m)\u001b[0m\u001b[0;34m\u001b[0m\u001b[0m\n\u001b[0m\u001b[1;32m     96\u001b[0m         \u001b[0mJ\u001b[0m \u001b[0;34m=\u001b[0m \u001b[0;34m[\u001b[0m\u001b[0mJ\u001b[0m\u001b[0;34m[\u001b[0m\u001b[0mk\u001b[0m\u001b[0;34m]\u001b[0m \u001b[0;34m-\u001b[0m \u001b[0mgrad\u001b[0m\u001b[0;34m[\u001b[0m\u001b[0mk\u001b[0m\u001b[0;34m]\u001b[0m\u001b[0;34m/\u001b[0m\u001b[0msqrt\u001b[0m\u001b[0;34m(\u001b[0m\u001b[0mi\u001b[0m\u001b[0;34m)\u001b[0m \u001b[0;32mfor\u001b[0m \u001b[0mk\u001b[0m \u001b[0;32min\u001b[0m \u001b[0mrange\u001b[0m\u001b[0;34m(\u001b[0m\u001b[0mlen\u001b[0m\u001b[0;34m(\u001b[0m\u001b[0mJ\u001b[0m\u001b[0;34m)\u001b[0m\u001b[0;34m)\u001b[0m\u001b[0;34m]\u001b[0m\u001b[0;34m\u001b[0m\u001b[0m\n\u001b[1;32m     97\u001b[0m \u001b[0;34m\u001b[0m\u001b[0m\n",
      "\u001b[0;32m<ipython-input-4-c2b84f96cfc7>\u001b[0m in \u001b[0;36mLocGradient\u001b[0;34m(J, s)\u001b[0m\n\u001b[1;32m     76\u001b[0m         \u001b[0mJdJ\u001b[0m \u001b[0;34m=\u001b[0m \u001b[0;34m[\u001b[0m\u001b[0mx\u001b[0m \u001b[0;32mfor\u001b[0m \u001b[0mx\u001b[0m \u001b[0;32min\u001b[0m \u001b[0mJ\u001b[0m\u001b[0;34m]\u001b[0m\u001b[0;34m\u001b[0m\u001b[0m\n\u001b[1;32m     77\u001b[0m         \u001b[0mJdJ\u001b[0m\u001b[0;34m[\u001b[0m\u001b[0mh\u001b[0m\u001b[0;34m]\u001b[0m \u001b[0;34m+=\u001b[0m \u001b[0mdelta\u001b[0m\u001b[0;34m\u001b[0m\u001b[0m\n\u001b[0;32m---> 78\u001b[0;31m         \u001b[0mFdJ\u001b[0m \u001b[0;34m=\u001b[0m \u001b[0mFidelity\u001b[0m\u001b[0;34m(\u001b[0m\u001b[0mJdJ\u001b[0m\u001b[0;34m)\u001b[0m\u001b[0;34m\u001b[0m\u001b[0m\n\u001b[0m\u001b[1;32m     79\u001b[0m         \u001b[0mdL\u001b[0m\u001b[0;34m.\u001b[0m\u001b[0mappend\u001b[0m\u001b[0;34m(\u001b[0m\u001b[0;34m(\u001b[0m\u001b[0mFdJ\u001b[0m \u001b[0;34m-\u001b[0m \u001b[0ms\u001b[0m\u001b[0;34m)\u001b[0m\u001b[0;34m/\u001b[0m\u001b[0mdelta\u001b[0m\u001b[0;34m)\u001b[0m\u001b[0;34m\u001b[0m\u001b[0m\n\u001b[1;32m     80\u001b[0m \u001b[0;34m\u001b[0m\u001b[0m\n",
      "\u001b[0;32m<ipython-input-4-c2b84f96cfc7>\u001b[0m in \u001b[0;36mFidelity\u001b[0;34m(J)\u001b[0m\n\u001b[1;32m     57\u001b[0m             \u001b[0mbra_l\u001b[0m \u001b[0;34m=\u001b[0m \u001b[0mgetBasis\u001b[0m\u001b[0;34m(\u001b[0m\u001b[0my\u001b[0m\u001b[0;34m[\u001b[0m\u001b[0;36m1\u001b[0m\u001b[0;34m]\u001b[0m\u001b[0;34m)\u001b[0m\u001b[0;34m.\u001b[0m\u001b[0mdag\u001b[0m\u001b[0;34m(\u001b[0m\u001b[0;34m)\u001b[0m\u001b[0;34m\u001b[0m\u001b[0m\n\u001b[1;32m     58\u001b[0m \u001b[0;34m\u001b[0m\u001b[0m\n\u001b[0;32m---> 59\u001b[0;31m             \u001b[0mEpsilon\u001b[0m \u001b[0;34m=\u001b[0m \u001b[0mU\u001b[0m\u001b[0;34m*\u001b[0m\u001b[0mtensor\u001b[0m\u001b[0;34m(\u001b[0m\u001b[0mket_k\u001b[0m\u001b[0;34m*\u001b[0m\u001b[0mbra_l\u001b[0m\u001b[0;34m,\u001b[0m \u001b[0mdCS\u001b[0m\u001b[0;34m*\u001b[0m\u001b[0mdCS\u001b[0m\u001b[0;34m.\u001b[0m\u001b[0mdag\u001b[0m\u001b[0;34m(\u001b[0m\u001b[0;34m)\u001b[0m\u001b[0;34m)\u001b[0m\u001b[0;34m*\u001b[0m\u001b[0mUdag\u001b[0m\u001b[0;34m\u001b[0m\u001b[0m\n\u001b[0m\u001b[1;32m     60\u001b[0m             \u001b[0mEps_ijkl\u001b[0m \u001b[0;34m=\u001b[0m \u001b[0mbra_i\u001b[0m\u001b[0;34m*\u001b[0m\u001b[0;34m(\u001b[0m\u001b[0mEpsilon\u001b[0m\u001b[0;34m.\u001b[0m\u001b[0mptrace\u001b[0m\u001b[0;34m(\u001b[0m\u001b[0;34m[\u001b[0m\u001b[0;36m0\u001b[0m\u001b[0;34m,\u001b[0m\u001b[0;36m1\u001b[0m\u001b[0;34m,\u001b[0m\u001b[0;36m2\u001b[0m\u001b[0;34m]\u001b[0m\u001b[0;34m)\u001b[0m\u001b[0;34m)\u001b[0m\u001b[0;34m*\u001b[0m\u001b[0mket_j\u001b[0m\u001b[0;34m\u001b[0m\u001b[0m\n\u001b[1;32m     61\u001b[0m \u001b[0;34m\u001b[0m\u001b[0m\n",
      "\u001b[0;32m/usr/lib/python2.7/dist-packages/qutip/qobj.pyc\u001b[0m in \u001b[0;36m__mul__\u001b[0;34m(self, other)\u001b[0m\n\u001b[1;32m    342\u001b[0m                 \u001b[0mout\u001b[0m\u001b[0;34m.\u001b[0m\u001b[0mshape\u001b[0m \u001b[0;34m=\u001b[0m \u001b[0;34m[\u001b[0m\u001b[0mself\u001b[0m\u001b[0;34m.\u001b[0m\u001b[0mshape\u001b[0m\u001b[0;34m[\u001b[0m\u001b[0;36m0\u001b[0m\u001b[0;34m]\u001b[0m\u001b[0;34m,\u001b[0m \u001b[0mother\u001b[0m\u001b[0;34m.\u001b[0m\u001b[0mshape\u001b[0m\u001b[0;34m[\u001b[0m\u001b[0;36m1\u001b[0m\u001b[0;34m]\u001b[0m\u001b[0;34m]\u001b[0m\u001b[0;34m\u001b[0m\u001b[0m\n\u001b[1;32m    343\u001b[0m                 \u001b[0mout\u001b[0m\u001b[0;34m.\u001b[0m\u001b[0mtype\u001b[0m \u001b[0;34m=\u001b[0m \u001b[0mischeck\u001b[0m\u001b[0;34m(\u001b[0m\u001b[0mout\u001b[0m\u001b[0;34m)\u001b[0m\u001b[0;34m\u001b[0m\u001b[0m\n\u001b[0;32m--> 344\u001b[0;31m                 \u001b[0mout\u001b[0m\u001b[0;34m.\u001b[0m\u001b[0misherm\u001b[0m \u001b[0;34m=\u001b[0m \u001b[0mhermcheck\u001b[0m\u001b[0;34m(\u001b[0m\u001b[0mout\u001b[0m\u001b[0;34m)\u001b[0m\u001b[0;34m\u001b[0m\u001b[0m\n\u001b[0m\u001b[1;32m    345\u001b[0m                 \u001b[0;32mif\u001b[0m \u001b[0mqset\u001b[0m\u001b[0;34m.\u001b[0m\u001b[0mauto_tidyup\u001b[0m\u001b[0;34m:\u001b[0m\u001b[0;34m\u001b[0m\u001b[0m\n\u001b[1;32m    346\u001b[0m                     \u001b[0;32mreturn\u001b[0m \u001b[0mout\u001b[0m\u001b[0;34m.\u001b[0m\u001b[0mtidyup\u001b[0m\u001b[0;34m(\u001b[0m\u001b[0;34m)\u001b[0m\u001b[0;34m\u001b[0m\u001b[0m\n",
      "\u001b[0;32m/usr/lib/python2.7/dist-packages/qutip/qobj.pyc\u001b[0m in \u001b[0;36misherm\u001b[0;34m(Q)\u001b[0m\n\u001b[1;32m   1580\u001b[0m     \u001b[0;32melse\u001b[0m\u001b[0;34m:\u001b[0m\u001b[0;34m\u001b[0m\u001b[0m\n\u001b[1;32m   1581\u001b[0m         \u001b[0mdat\u001b[0m \u001b[0;34m=\u001b[0m \u001b[0mQ\u001b[0m\u001b[0;34m.\u001b[0m\u001b[0mdata\u001b[0m\u001b[0;34m\u001b[0m\u001b[0m\n\u001b[0;32m-> 1582\u001b[0;31m         \u001b[0melems\u001b[0m \u001b[0;34m=\u001b[0m \u001b[0;34m(\u001b[0m\u001b[0mdat\u001b[0m\u001b[0;34m.\u001b[0m\u001b[0mtranspose\u001b[0m\u001b[0;34m(\u001b[0m\u001b[0;34m)\u001b[0m\u001b[0;34m.\u001b[0m\u001b[0mconj\u001b[0m\u001b[0;34m(\u001b[0m\u001b[0;34m)\u001b[0m \u001b[0;34m-\u001b[0m \u001b[0mdat\u001b[0m\u001b[0;34m)\u001b[0m\u001b[0;34m.\u001b[0m\u001b[0mdata\u001b[0m\u001b[0;34m\u001b[0m\u001b[0m\n\u001b[0m\u001b[1;32m   1583\u001b[0m         \u001b[0;32mif\u001b[0m \u001b[0mnp\u001b[0m\u001b[0;34m.\u001b[0m\u001b[0many\u001b[0m\u001b[0;34m(\u001b[0m\u001b[0mabs\u001b[0m\u001b[0;34m(\u001b[0m\u001b[0melems\u001b[0m\u001b[0;34m)\u001b[0m \u001b[0;34m>\u001b[0m \u001b[0;36m1e-12\u001b[0m\u001b[0;34m)\u001b[0m\u001b[0;34m:\u001b[0m\u001b[0;34m\u001b[0m\u001b[0m\n\u001b[1;32m   1584\u001b[0m             \u001b[0;32mreturn\u001b[0m \u001b[0mFalse\u001b[0m\u001b[0;34m\u001b[0m\u001b[0m\n",
      "\u001b[0;32m/usr/lib/python2.7/dist-packages/scipy/sparse/data.pyc\u001b[0m in \u001b[0;36mconj\u001b[0;34m(self)\u001b[0m\n\u001b[1;32m     64\u001b[0m \u001b[0;34m\u001b[0m\u001b[0m\n\u001b[1;32m     65\u001b[0m     \u001b[0;32mdef\u001b[0m \u001b[0mconj\u001b[0m\u001b[0;34m(\u001b[0m\u001b[0mself\u001b[0m\u001b[0;34m)\u001b[0m\u001b[0;34m:\u001b[0m\u001b[0;34m\u001b[0m\u001b[0m\n\u001b[0;32m---> 66\u001b[0;31m         \u001b[0;32mreturn\u001b[0m \u001b[0mself\u001b[0m\u001b[0;34m.\u001b[0m\u001b[0m_with_data\u001b[0m\u001b[0;34m(\u001b[0m\u001b[0mself\u001b[0m\u001b[0;34m.\u001b[0m\u001b[0mdata\u001b[0m\u001b[0;34m.\u001b[0m\u001b[0mconj\u001b[0m\u001b[0;34m(\u001b[0m\u001b[0;34m)\u001b[0m\u001b[0;34m)\u001b[0m\u001b[0;34m\u001b[0m\u001b[0m\n\u001b[0m\u001b[1;32m     67\u001b[0m \u001b[0;34m\u001b[0m\u001b[0m\n\u001b[1;32m     68\u001b[0m     \u001b[0;32mdef\u001b[0m \u001b[0mcopy\u001b[0m\u001b[0;34m(\u001b[0m\u001b[0mself\u001b[0m\u001b[0;34m)\u001b[0m\u001b[0;34m:\u001b[0m\u001b[0;34m\u001b[0m\u001b[0m\n",
      "\u001b[0;32m/usr/lib/python2.7/dist-packages/scipy/sparse/compressed.pyc\u001b[0m in \u001b[0;36m_with_data\u001b[0;34m(self, data, copy)\u001b[0m\n\u001b[1;32m   1030\u001b[0m         \u001b[0;32mif\u001b[0m \u001b[0mcopy\u001b[0m\u001b[0;34m:\u001b[0m\u001b[0;34m\u001b[0m\u001b[0m\n\u001b[1;32m   1031\u001b[0m             return self.__class__((data,self.indices.copy(),self.indptr.copy()),\n\u001b[0;32m-> 1032\u001b[0;31m                                    shape=self.shape,dtype=data.dtype)\n\u001b[0m\u001b[1;32m   1033\u001b[0m         \u001b[0;32melse\u001b[0m\u001b[0;34m:\u001b[0m\u001b[0;34m\u001b[0m\u001b[0m\n\u001b[1;32m   1034\u001b[0m             return self.__class__((data,self.indices,self.indptr),\n",
      "\u001b[0;32m/usr/lib/python2.7/dist-packages/scipy/sparse/compressed.pyc\u001b[0m in \u001b[0;36m__init__\u001b[0;34m(self, arg1, shape, dtype, copy)\u001b[0m\n\u001b[1;32m     86\u001b[0m             \u001b[0mself\u001b[0m\u001b[0;34m.\u001b[0m\u001b[0mdata\u001b[0m \u001b[0;34m=\u001b[0m \u001b[0mself\u001b[0m\u001b[0;34m.\u001b[0m\u001b[0mdata\u001b[0m\u001b[0;34m.\u001b[0m\u001b[0mastype\u001b[0m\u001b[0;34m(\u001b[0m\u001b[0mdtype\u001b[0m\u001b[0;34m)\u001b[0m\u001b[0;34m\u001b[0m\u001b[0m\n\u001b[1;32m     87\u001b[0m \u001b[0;34m\u001b[0m\u001b[0m\n\u001b[0;32m---> 88\u001b[0;31m         \u001b[0mself\u001b[0m\u001b[0;34m.\u001b[0m\u001b[0mcheck_format\u001b[0m\u001b[0;34m(\u001b[0m\u001b[0mfull_check\u001b[0m\u001b[0;34m=\u001b[0m\u001b[0mFalse\u001b[0m\u001b[0;34m)\u001b[0m\u001b[0;34m\u001b[0m\u001b[0m\n\u001b[0m\u001b[1;32m     89\u001b[0m \u001b[0;34m\u001b[0m\u001b[0m\n\u001b[1;32m     90\u001b[0m     \u001b[0;32mdef\u001b[0m \u001b[0mgetnnz\u001b[0m\u001b[0;34m(\u001b[0m\u001b[0mself\u001b[0m\u001b[0;34m,\u001b[0m \u001b[0maxis\u001b[0m\u001b[0;34m=\u001b[0m\u001b[0mNone\u001b[0m\u001b[0;34m)\u001b[0m\u001b[0;34m:\u001b[0m\u001b[0;34m\u001b[0m\u001b[0m\n",
      "\u001b[0;32m/usr/lib/python2.7/dist-packages/scipy/sparse/compressed.pyc\u001b[0m in \u001b[0;36mcheck_format\u001b[0;34m(self, full_check)\u001b[0m\n\u001b[1;32m    137\u001b[0m         \u001b[0;31m# use _swap to determine proper bounds\u001b[0m\u001b[0;34m\u001b[0m\u001b[0;34m\u001b[0m\u001b[0m\n\u001b[1;32m    138\u001b[0m         \u001b[0mmajor_name\u001b[0m\u001b[0;34m,\u001b[0m\u001b[0mminor_name\u001b[0m \u001b[0;34m=\u001b[0m \u001b[0mself\u001b[0m\u001b[0;34m.\u001b[0m\u001b[0m_swap\u001b[0m\u001b[0;34m(\u001b[0m\u001b[0;34m(\u001b[0m\u001b[0;34m'row'\u001b[0m\u001b[0;34m,\u001b[0m\u001b[0;34m'column'\u001b[0m\u001b[0;34m)\u001b[0m\u001b[0;34m)\u001b[0m\u001b[0;34m\u001b[0m\u001b[0m\n\u001b[0;32m--> 139\u001b[0;31m         \u001b[0mmajor_dim\u001b[0m\u001b[0;34m,\u001b[0m\u001b[0mminor_dim\u001b[0m \u001b[0;34m=\u001b[0m \u001b[0mself\u001b[0m\u001b[0;34m.\u001b[0m\u001b[0m_swap\u001b[0m\u001b[0;34m(\u001b[0m\u001b[0mself\u001b[0m\u001b[0;34m.\u001b[0m\u001b[0mshape\u001b[0m\u001b[0;34m)\u001b[0m\u001b[0;34m\u001b[0m\u001b[0m\n\u001b[0m\u001b[1;32m    140\u001b[0m \u001b[0;34m\u001b[0m\u001b[0m\n\u001b[1;32m    141\u001b[0m         \u001b[0;31m# index arrays should have integer data types\u001b[0m\u001b[0;34m\u001b[0m\u001b[0;34m\u001b[0m\u001b[0m\n",
      "\u001b[0;31mKeyboardInterrupt\u001b[0m: "
     ]
    }
   ],
   "source": [
    "t = open('nonStochasticToffoli', 'w+')\n",
    "Jini = Jopt\n",
    "startTime = datetime.now()\n",
    "J2 = GradDesc(Jini)\n",
    "print(datetime.now()-startTime)\n",
    "print(J2)\n",
    "t.close()"
   ]
  },
  {
   "cell_type": "code",
   "execution_count": 51,
   "metadata": {
    "collapsed": false
   },
   "outputs": [
    {
     "data": {
      "text/plain": [
       "  status: 1\n",
       "    nfev: 7200\n",
       " success: False\n",
       "     fun: -0.99985694688255611\n",
       "       x: array([  3.01244967e-02,   3.72743088e-04,   2.57327936e+00,\n",
       "         2.62808777e-01,  -2.83541700e-03,   9.31211181e-01,\n",
       "        -1.58564974e-01,   5.30525197e+00,   1.19616443e-02,\n",
       "         2.57801583e+00,   1.67278970e-01,   9.57916862e-01,\n",
       "         2.20053445e-02,   9.18940162e-01,   1.58409399e+00,\n",
       "        -4.93167266e+00,   1.20311415e-03,   7.52463461e-03,\n",
       "         1.35185346e+00,  -4.16403595e+00,   2.19526493e-02,\n",
       "         1.26387633e+00,   5.82067710e-01,   1.91335379e-02,\n",
       "         1.47539488e-02,   5.73897488e-02,   1.64147396e+00,\n",
       "         1.86562320e+00,   1.23420311e-03,   2.08551303e-01,\n",
       "         7.45019117e-01,  -2.82141305e-02,  -1.64538808e+00,\n",
       "         2.63695234e-02,   4.96263673e-01,   3.84521672e-02])\n",
       " message: 'Maximum number of function evaluations has been exceeded.'\n",
       "     nit: 6052"
      ]
     },
     "execution_count": 51,
     "metadata": {},
     "output_type": "execute_result"
    }
   ],
   "source": [
    "res_minimize"
   ]
  },
  {
   "cell_type": "code",
   "execution_count": 6,
   "metadata": {
    "collapsed": false
   },
   "outputs": [],
   "source": [
    "J2 = [2.0565948620691823, 0.48226382405442797, 0.15393134664380062, -0.33289288739898715, 0.82714531675280167, 0.010563507543686479, 0.82106896438319665, 4.2165802897113487, 0.83343110003058118, -0.010683906294527919, 3.8209462625416766, 1.8665218299625692, 1.5043852083566869, -0.22816425207220267, -0.085767107039843249, 1.6886455914722138, 1.5325559085730567, -0.070158653304250168, -0.23117237447353578, 1.1518163641576706, -0.13880470709459947, 1.1285130855256897, 0.62771587889985092, 4.288834120929649, 0.01522806647698545, 0.24187071928102979, 1.0601273123008075, 0.33610918013820928, 0.014902613959011206, -0.00026858745357400462, 0.78766220308788482, -1.8008963132270512, 0.0053091449578853483, -0.14276279448268453, 0.75052392710876359, -0.19887759260445298]"
   ]
  },
  {
   "cell_type": "code",
   "execution_count": 7,
   "metadata": {
    "collapsed": false
   },
   "outputs": [],
   "source": [
    "from decimal import *\n",
    "getcontext().prec = 5\n",
    "i = s = 0\n",
    "N = 5\n",
    "Jopt = J2\n",
    "for f in pauliMatr :\n",
    "    s += 1\n",
    "    c = 'J_' + f[0].name + f[1].name\n",
    "    J = zeros(shape=(N,N))\n",
    "    for k in interactions :\n",
    "        a = \"{0:.3f}\".format(Jopt[i])\n",
    "        val = float(a)\n",
    "        J[k[0],k[1]] = val\n",
    "        i += len(pauliMatr)\n",
    "    i = s\n",
    "    exec(c + '= asmatrix(J)')"
   ]
  },
  {
   "cell_type": "code",
   "execution_count": 8,
   "metadata": {
    "collapsed": false
   },
   "outputs": [
    {
     "data": {
      "text/plain": [
       "matrix([[ 0.   , -0.333,  4.217,  1.689,  0.336],\n",
       "        [ 0.   ,  0.   ,  1.867,  1.152, -0.199],\n",
       "        [ 0.   ,  0.   ,  0.   ,  4.289, -1.801],\n",
       "        [ 0.   ,  0.   ,  0.   ,  0.   ,  0.   ],\n",
       "        [ 0.   ,  0.   ,  0.   ,  0.   ,  0.   ]])"
      ]
     },
     "execution_count": 8,
     "metadata": {},
     "output_type": "execute_result"
    }
   ],
   "source": [
    "J_ZI"
   ]
  },
  {
   "cell_type": "code",
   "execution_count": 13,
   "metadata": {
    "collapsed": false
   },
   "outputs": [
    {
     "data": {
      "text/plain": [
       "matrix([[ 0.   , -0.333,  6.084,  7.13 , -1.664]])"
      ]
     },
     "execution_count": 13,
     "metadata": {},
     "output_type": "execute_result"
    }
   ],
   "source": [
    "sum(J_ZI, axis=0)"
   ]
  },
  {
   "cell_type": "code",
   "execution_count": 9,
   "metadata": {
    "collapsed": false
   },
   "outputs": [
    {
     "data": {
      "text/plain": [
       "matrix([[ 0.   ,  0.154,  0.821, -0.086,  1.06 ],\n",
       "        [ 0.   ,  0.   ,  3.821, -0.231,  0.751],\n",
       "        [ 0.   ,  0.   ,  0.   ,  0.628,  0.788],\n",
       "        [ 0.   ,  0.   ,  0.   ,  0.   ,  0.   ],\n",
       "        [ 0.   ,  0.   ,  0.   ,  0.   ,  0.   ]])"
      ]
     },
     "execution_count": 9,
     "metadata": {},
     "output_type": "execute_result"
    }
   ],
   "source": [
    "J_IX"
   ]
  },
  {
   "cell_type": "code",
   "execution_count": 14,
   "metadata": {
    "collapsed": false
   },
   "outputs": [
    {
     "data": {
      "text/plain": [
       "matrix([[ 0.   ,  0.154,  4.642,  0.311,  2.599]])"
      ]
     },
     "execution_count": 14,
     "metadata": {},
     "output_type": "execute_result"
    }
   ],
   "source": [
    "sum(J_IX, axis=0)"
   ]
  },
  {
   "cell_type": "code",
   "execution_count": 10,
   "metadata": {
    "collapsed": false
   },
   "outputs": [
    {
     "data": {
      "text/plain": [
       "matrix([[ 0.   ,  0.482,  0.011, -0.228,  0.242],\n",
       "        [ 0.   ,  0.   , -0.011, -0.07 , -0.143],\n",
       "        [ 0.   ,  0.   ,  0.   ,  1.129, -0.   ],\n",
       "        [ 0.   ,  0.   ,  0.   ,  0.   ,  0.   ],\n",
       "        [ 0.   ,  0.   ,  0.   ,  0.   ,  0.   ]])"
      ]
     },
     "execution_count": 10,
     "metadata": {},
     "output_type": "execute_result"
    }
   ],
   "source": [
    "J_XX"
   ]
  },
  {
   "cell_type": "code",
   "execution_count": 15,
   "metadata": {
    "collapsed": false
   },
   "outputs": [
    {
     "data": {
      "text/plain": [
       "matrix([[ 0.   ,  0.482,  0.   ,  0.831,  0.099]])"
      ]
     },
     "execution_count": 15,
     "metadata": {},
     "output_type": "execute_result"
    }
   ],
   "source": [
    "sum(J_XX, axis=0)"
   ]
  },
  {
   "cell_type": "code",
   "execution_count": 11,
   "metadata": {
    "collapsed": false
   },
   "outputs": [
    {
     "data": {
      "text/plain": [
       "matrix([[ 0.   ,  2.057,  0.827,  1.504,  0.015],\n",
       "        [ 0.   ,  0.   ,  0.833,  1.533,  0.005],\n",
       "        [ 0.   ,  0.   ,  0.   , -0.139,  0.015],\n",
       "        [ 0.   ,  0.   ,  0.   ,  0.   ,  0.   ],\n",
       "        [ 0.   ,  0.   ,  0.   ,  0.   ,  0.   ]])"
      ]
     },
     "execution_count": 11,
     "metadata": {},
     "output_type": "execute_result"
    }
   ],
   "source": [
    "J_ZZ"
   ]
  },
  {
   "cell_type": "code",
   "execution_count": 16,
   "metadata": {
    "collapsed": false
   },
   "outputs": [
    {
     "data": {
      "text/plain": [
       "matrix([[ 0.   ,  2.057,  1.66 ,  2.898,  0.035]])"
      ]
     },
     "execution_count": 16,
     "metadata": {},
     "output_type": "execute_result"
    }
   ],
   "source": [
    "sum(J_ZZ, axis=0)"
   ]
  }
 ],
 "metadata": {
  "kernelspec": {
   "display_name": "Python 2",
   "language": "python",
   "name": "python2"
  },
  "language_info": {
   "codemirror_mode": {
    "name": "ipython",
    "version": 2
   },
   "file_extension": ".py",
   "mimetype": "text/x-python",
   "name": "python",
   "nbconvert_exporter": "python",
   "pygments_lexer": "ipython2",
   "version": "2.7.10"
  }
 },
 "nbformat": 4,
 "nbformat_minor": 0
}
