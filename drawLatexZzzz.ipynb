{
 "metadata": {
  "name": ""
 },
 "nbformat": 3,
 "nbformat_minor": 0,
 "worksheets": [
  {
   "cells": [
    {
     "cell_type": "code",
     "collapsed": false,
     "input": [
      "%pylab inline"
     ],
     "language": "python",
     "metadata": {},
     "outputs": [
      {
       "output_type": "stream",
       "stream": "stdout",
       "text": [
        "Populating the interactive namespace from numpy and matplotlib\n"
       ]
      }
     ],
     "prompt_number": 2
    },
    {
     "cell_type": "code",
     "collapsed": false,
     "input": [
      "strin = '\\draw (\\\\a*360/5 - 54: 5cm) node [circle, draw, fill = myyellow, align=center] (\\\\a) {\\scriptsize qubit \\\\a};'\n",
      "strin\n",
      "\n",
      "ZZ = matrix([[ 0.  ,  1.57,  0.  ,  0.  , -1.57],\n",
      "        [ 0.  ,  0.  ,  1.57,  0.  ,  0.  ],\n",
      "        [ 0.  ,  0.  ,  0.  ,  1.57,  1.57],\n",
      "        [ 0.  ,  0.  ,  0.  ,  0.  , -1.57],\n",
      "        [ 0.  ,  0.  ,  0.  ,  0.  ,  0.  ]])\n",
      "\n",
      "IZ = matrix([[ 0.  ,  0.42,  0.  ,  0.  ,  0.58],\n",
      "        [ 0.  ,  0.  ,  1.76,  0.  ,  0.63],\n",
      "        [ 0.  ,  0.  ,  0.  , -1.48,  0.73],\n",
      "        [ 0.76,  0.  ,  0.  ,  0.  ,  0.07],\n",
      "        [ 0.  ,  0.  ,  0.  ,  0.  ,  0.  ]])\n",
      "\n",
      "ZI = matrix([[ 0.  ,  2.94,  0.  ,  0.  , -2.13],\n",
      "        [ 0.  ,  0.  , -2.15,  0.  ,  3.29],\n",
      "        [ 0.  ,  0.  ,  0.  ,  0.63,  0.75],\n",
      "        [ 0.45,  0.  ,  0.  ,  0.  ,  5.75],\n",
      "        [ 0.  ,  0.  ,  0.  ,  0.  ,  0.  ]])\n",
      "\n",
      "interactions = [[0,1],[0,4],[1,2],[1,4],[2,3],[2,4],[3,4],[3,0]]\n",
      "\n",
      "k = 0\n",
      "\n",
      "for j,i in interactions:\n",
      "    \n",
      "        if ZZ[j,i] != 0.0:\n",
      "            yy = '('+str(i+1)+') to [bend right = 0] node[sloped, above] {\\scriptsize ZZ ='+str(ZZ[j,i])+'} (' + str(j+1) + ');'\n",
      "            print('\\draw[-]')\n",
      "            print(yy)\n",
      "\n",
      "        if IZ[j,i] != 0.0:\n",
      "            iz = '('+str(i+1)+') to [bend right = 15] node[sloped, above] {\\scriptsize IZ ='+str(IZ[j,i])+'} (' + str(j+1) + ');'\n",
      "            print('\\draw[-]')\n",
      "            print(iz)\n",
      "            \n",
      "        if ZI[j,i] != 0.0:\n",
      "            zi = '('+str(i+1)+') to [bend right = -15] node[sloped, above] {\\scriptsize ZI ='+str(ZI[j,i])+'} (' + str(j+1) + ');'\n",
      "            print('\\draw[-]')\n",
      "            print(zi)\n",
      "       \n",
      "        "
     ],
     "language": "python",
     "metadata": {},
     "outputs": [
      {
       "output_type": "stream",
       "stream": "stdout",
       "text": [
        "\\draw[-]\n",
        "(2) to [bend right = 0] node[sloped, above] {\\scriptsize ZZ =1.57} (1);\n",
        "\\draw[-]\n",
        "(2) to [bend right = 15] node[sloped, above] {\\scriptsize IZ =0.42} (1);\n",
        "\\draw[-]\n",
        "(2) to [bend right = -15] node[sloped, above] {\\scriptsize ZI =2.94} (1);\n",
        "\\draw[-]\n",
        "(5) to [bend right = 0] node[sloped, above] {\\scriptsize ZZ =-1.57} (1);\n",
        "\\draw[-]\n",
        "(5) to [bend right = 15] node[sloped, above] {\\scriptsize IZ =0.58} (1);\n",
        "\\draw[-]\n",
        "(5) to [bend right = -15] node[sloped, above] {\\scriptsize ZI =-2.13} (1);\n",
        "\\draw[-]\n",
        "(3) to [bend right = 0] node[sloped, above] {\\scriptsize ZZ =1.57} (2);\n",
        "\\draw[-]\n",
        "(3) to [bend right = 15] node[sloped, above] {\\scriptsize IZ =1.76} (2);\n",
        "\\draw[-]\n",
        "(3) to [bend right = -15] node[sloped, above] {\\scriptsize ZI =-2.15} (2);\n",
        "\\draw[-]\n",
        "(5) to [bend right = 15] node[sloped, above] {\\scriptsize IZ =0.63} (2);\n",
        "\\draw[-]\n",
        "(5) to [bend right = -15] node[sloped, above] {\\scriptsize ZI =3.29} (2);\n",
        "\\draw[-]\n",
        "(4) to [bend right = 0] node[sloped, above] {\\scriptsize ZZ =1.57} (3);\n",
        "\\draw[-]\n",
        "(4) to [bend right = 15] node[sloped, above] {\\scriptsize IZ =-1.48} (3);\n",
        "\\draw[-]\n",
        "(4) to [bend right = -15] node[sloped, above] {\\scriptsize ZI =0.63} (3);\n",
        "\\draw[-]\n",
        "(5) to [bend right = 0] node[sloped, above] {\\scriptsize ZZ =1.57} (3);\n",
        "\\draw[-]\n",
        "(5) to [bend right = 15] node[sloped, above] {\\scriptsize IZ =0.73} (3);\n",
        "\\draw[-]\n",
        "(5) to [bend right = -15] node[sloped, above] {\\scriptsize ZI =0.75} (3);\n",
        "\\draw[-]\n",
        "(5) to [bend right = 0] node[sloped, above] {\\scriptsize ZZ =-1.57} (4);\n",
        "\\draw[-]\n",
        "(5) to [bend right = 15] node[sloped, above] {\\scriptsize IZ =0.07} (4);\n",
        "\\draw[-]\n",
        "(5) to [bend right = -15] node[sloped, above] {\\scriptsize ZI =5.75} (4);\n",
        "\\draw[-]\n",
        "(1) to [bend right = 15] node[sloped, above] {\\scriptsize IZ =0.76} (4);\n",
        "\\draw[-]\n",
        "(1) to [bend right = -15] node[sloped, above] {\\scriptsize ZI =0.45} (4);\n"
       ]
      }
     ],
     "prompt_number": 9
    }
   ],
   "metadata": {}
  }
 ]
}